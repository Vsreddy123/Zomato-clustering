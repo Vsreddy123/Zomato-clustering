{
  "cells": [
    {
      "cell_type": "markdown",
      "metadata": {
        "id": "vncDsAP0Gaoa"
      },
      "source": [
        "# **Project Name**    - Zomato Restaurant Clustering and Sentiment Analysis\n",
        "\n"
      ]
    },
    {
      "cell_type": "markdown",
      "metadata": {
        "id": "beRrZCGUAJYm"
      },
      "source": [
        "##### **Project Type**    - Unsupervised (Clustering) & EDA/NLP (Sentiment Analysis)\n",
        "##### **Contribution**    - Individual\n",
        "##### **Team Member 1 -**V SANDEEP REDDY\n",
        "\n",
        "\n",
        "\n"
      ]
    },
    {
      "cell_type": "code",
      "execution_count": null,
      "metadata": {
        "id": "JwLSzoQU4M2q",
        "colab": {
          "base_uri": "https://localhost:8080/"
        },
        "outputId": "af792da3-7793-4e43-d3b4-41df6c55081a"
      },
      "outputs": [
        {
          "output_type": "stream",
          "name": "stdout",
          "text": [
            "Requirement already satisfied: pandas in /usr/local/lib/python3.11/dist-packages (2.2.2)\n",
            "Requirement already satisfied: numpy in /usr/local/lib/python3.11/dist-packages (2.0.2)\n",
            "Requirement already satisfied: matplotlib in /usr/local/lib/python3.11/dist-packages (3.10.0)\n",
            "Requirement already satisfied: seaborn in /usr/local/lib/python3.11/dist-packages (0.13.2)\n",
            "Requirement already satisfied: scikit-learn in /usr/local/lib/python3.11/dist-packages (1.6.1)\n",
            "Requirement already satisfied: nltk in /usr/local/lib/python3.11/dist-packages (3.9.1)\n",
            "Requirement already satisfied: textblob in /usr/local/lib/python3.11/dist-packages (0.19.0)\n",
            "Requirement already satisfied: python-dateutil>=2.8.2 in /usr/local/lib/python3.11/dist-packages (from pandas) (2.9.0.post0)\n",
            "Requirement already satisfied: pytz>=2020.1 in /usr/local/lib/python3.11/dist-packages (from pandas) (2025.2)\n",
            "Requirement already satisfied: tzdata>=2022.7 in /usr/local/lib/python3.11/dist-packages (from pandas) (2025.2)\n",
            "Requirement already satisfied: contourpy>=1.0.1 in /usr/local/lib/python3.11/dist-packages (from matplotlib) (1.3.2)\n",
            "Requirement already satisfied: cycler>=0.10 in /usr/local/lib/python3.11/dist-packages (from matplotlib) (0.12.1)\n",
            "Requirement already satisfied: fonttools>=4.22.0 in /usr/local/lib/python3.11/dist-packages (from matplotlib) (4.59.0)\n",
            "Requirement already satisfied: kiwisolver>=1.3.1 in /usr/local/lib/python3.11/dist-packages (from matplotlib) (1.4.8)\n",
            "Requirement already satisfied: packaging>=20.0 in /usr/local/lib/python3.11/dist-packages (from matplotlib) (25.0)\n",
            "Requirement already satisfied: pillow>=8 in /usr/local/lib/python3.11/dist-packages (from matplotlib) (11.3.0)\n",
            "Requirement already satisfied: pyparsing>=2.3.1 in /usr/local/lib/python3.11/dist-packages (from matplotlib) (3.2.3)\n",
            "Requirement already satisfied: scipy>=1.6.0 in /usr/local/lib/python3.11/dist-packages (from scikit-learn) (1.16.0)\n",
            "Requirement already satisfied: joblib>=1.2.0 in /usr/local/lib/python3.11/dist-packages (from scikit-learn) (1.5.1)\n",
            "Requirement already satisfied: threadpoolctl>=3.1.0 in /usr/local/lib/python3.11/dist-packages (from scikit-learn) (3.6.0)\n",
            "Requirement already satisfied: click in /usr/local/lib/python3.11/dist-packages (from nltk) (8.2.1)\n",
            "Requirement already satisfied: regex>=2021.8.3 in /usr/local/lib/python3.11/dist-packages (from nltk) (2024.11.6)\n",
            "Requirement already satisfied: tqdm in /usr/local/lib/python3.11/dist-packages (from nltk) (4.67.1)\n",
            "Requirement already satisfied: six>=1.5 in /usr/local/lib/python3.11/dist-packages (from python-dateutil>=2.8.2->pandas) (1.17.0)\n",
            "[nltk_data] Downloading package brown to /root/nltk_data...\n",
            "[nltk_data]   Unzipping corpora/brown.zip.\n",
            "[nltk_data] Downloading package punkt_tab to /root/nltk_data...\n",
            "[nltk_data]   Unzipping tokenizers/punkt_tab.zip.\n",
            "[nltk_data] Downloading package wordnet to /root/nltk_data...\n",
            "[nltk_data] Downloading package averaged_perceptron_tagger_eng to\n",
            "[nltk_data]     /root/nltk_data...\n",
            "[nltk_data]   Unzipping taggers/averaged_perceptron_tagger_eng.zip.\n",
            "[nltk_data] Downloading package conll2000 to /root/nltk_data...\n",
            "[nltk_data]   Unzipping corpora/conll2000.zip.\n",
            "[nltk_data] Downloading package movie_reviews to /root/nltk_data...\n",
            "[nltk_data]   Unzipping corpora/movie_reviews.zip.\n",
            "Finished.\n"
          ]
        },
        {
          "output_type": "stream",
          "name": "stderr",
          "text": [
            "[nltk_data] Downloading package stopwords to /root/nltk_data...\n",
            "[nltk_data]   Unzipping corpora/stopwords.zip.\n",
            "[nltk_data] Downloading package punkt to /root/nltk_data...\n",
            "[nltk_data]   Unzipping tokenizers/punkt.zip.\n",
            "[nltk_data] Downloading package vader_lexicon to /root/nltk_data...\n"
          ]
        },
        {
          "output_type": "execute_result",
          "data": {
            "text/plain": [
              "True"
            ]
          },
          "metadata": {},
          "execution_count": 14
        }
      ],
      "source": [
        "!pip install pandas numpy matplotlib seaborn scikit-learn nltk textblob\n",
        "!python -m textblob.download_corpora\n",
        "\n",
        "# For NLTK data (e.g., stopwords, punkt tokenizer, vader lexicon for sentiment)\n",
        "import nltk\n",
        "nltk.download('stopwords')\n",
        "nltk.download('punkt')\n",
        "nltk.download('vader_lexicon')"
      ]
    },
    {
      "cell_type": "markdown",
      "metadata": {
        "id": "FJNUwmbgGyua"
      },
      "source": [
        "# **Project Summary -**"
      ]
    },
    {
      "cell_type": "markdown",
      "metadata": {
        "id": "F6v_1wHtG2nS"
      },
      "source": [
        "Write the summary here within 500-600 words.\n",
        "\n"
      ]
    },
    {
      "cell_type": "markdown",
      "metadata": {
        "id": "10t4WaD_5KFc"
      },
      "source": [
        "# **Project Summary -**\n",
        "\n",
        "This project aims to analyze Zomato restaurant data across various cities in India to gain insights into the Indian food industry. Using unsupervised machine learning techniques, particularly clustering, we will segment restaurants based on their characteristics (e.g., cost, cuisine, collections) and customer reviews. Sentiment analysis will be applied to customer reviews to understand public perception and identify key aspects influencing ratings. The analysis will provide actionable insights for both Zomato (to identify areas for growth and improvement) and customers (to find the best restaurants tailored to their preferences). The project leverages Python libraries such as Pandas for data manipulation, Matplotlib and Seaborn for visualization, NumPy for efficient operations, and Scikit-learn for model building. We will focus on understanding variables, cleaning data, feature engineering, and visualizing relationships to uncover meaningful patterns and support business decisions."
      ]
    },
    {
      "cell_type": "markdown",
      "metadata": {
        "id": "dOo6_Qll69Kx"
      },
      "source": []
    },
    {
      "cell_type": "markdown",
      "metadata": {
        "id": "w6K7xa23Elo4"
      },
      "source": [
        "# **GitHub Link -**"
      ]
    },
    {
      "cell_type": "markdown",
      "metadata": {
        "id": "h1o69JH3Eqqn"
      },
      "source": [
        "Provide your GitHub Link here.\n",
        "https://github.com/Vsreddy123/Zomato-clustering.git"
      ]
    },
    {
      "cell_type": "markdown",
      "metadata": {
        "id": "yQaldy8SH6Dl"
      },
      "source": [
        "# **Problem Statement**\n"
      ]
    },
    {
      "cell_type": "markdown",
      "metadata": {
        "id": "DpeJGUA3kjGy"
      },
      "source": [
        "**Write Problem Statement Here.**\n",
        "\n",
        "Zomato, as a leading Indian restaurant aggregator and food delivery startup, operates in a highly diverse and evolving market. With a vast number of restaurants and increasing consumer adoption of dining out and food delivery, there's a significant opportunity to extract valuable insights from its extensive dataset. The core problem is to effectively **analyze Zomato restaurant data for each city in India** to address challenges and opportunities for both customers and the company.\n",
        "\n",
        "Specifically, the project needs to:\n",
        "1.  **Analyze the sentiments of customer reviews** to understand customer perception and identify factors influencing their experience.\n",
        "2.  **Cluster Zomato restaurants into different segments** to uncover natural groupings based on various attributes.\n",
        "3.  **Provide useful conclusions and visualizations** that directly help customers find the best restaurants in their locality.\n",
        "4.  **Identify areas where Zomato can improve** and grow its business, based on the analysis of restaurant and review data.\n",
        "5.  Leverage data on **cuisine and costing** for cost-benefit analysis.\n",
        "6.  Utilize **reviewer metadata** to potentially identify industry critics.\n"
      ]
    },
    {
      "cell_type": "markdown",
      "metadata": {
        "id": "mDgbUHAGgjLW"
      },
      "source": [
        "# **General Guidelines** : -  "
      ]
    },
    {
      "cell_type": "markdown",
      "metadata": {
        "id": "ZrxVaUj-hHfC"
      },
      "source": [
        "1.   Well-structured, formatted, and commented code is required.\n",
        "2.   Exception Handling, Production Grade Code & Deployment Ready Code will be a plus. Those students will be awarded some additional credits.\n",
        "     \n",
        "     The additional credits will have advantages over other students during Star Student selection.\n",
        "       \n",
        "             [ Note: - Deployment Ready Code is defined as, the whole .ipynb notebook should be executable in one go\n",
        "                       without a single error logged. ]\n",
        "\n",
        "3.   Each and every logic should have proper comments.\n",
        "4. You may add as many number of charts you want. Make Sure for each and every chart the following format should be answered.\n",
        "        \n",
        "\n",
        "```\n",
        "# Chart visualization code\n",
        "```\n",
        "            \n",
        "\n",
        "*   Why did you pick the specific chart?\n",
        "*   What is/are the insight(s) found from the chart?\n",
        "* Will the gained insights help creating a positive business impact?\n",
        "Are there any insights that lead to negative growth? Justify with specific reason.\n",
        "\n",
        "5. You have to create at least 15 logical & meaningful charts having important insights.\n",
        "\n",
        "\n",
        "[ Hints : - Do the Vizualization in  a structured way while following \"UBM\" Rule.\n",
        "\n",
        "U - Univariate Analysis,\n",
        "\n",
        "B - Bivariate Analysis (Numerical - Categorical, Numerical - Numerical, Categorical - Categorical)\n",
        "\n",
        "M - Multivariate Analysis\n",
        " ]\n",
        "\n",
        "\n",
        "\n",
        "\n",
        "\n",
        "6. You may add more ml algorithms for model creation. Make sure for each and every algorithm, the following format should be answered.\n",
        "\n",
        "\n",
        "*   Explain the ML Model used and it's performance using Evaluation metric Score Chart.\n",
        "\n",
        "\n",
        "*   Cross- Validation & Hyperparameter Tuning\n",
        "\n",
        "*   Have you seen any improvement? Note down the improvement with updates Evaluation metric Score Chart.\n",
        "\n",
        "*   Explain each evaluation metric's indication towards business and the business impact pf the ML model used.\n",
        "\n",
        "\n",
        "\n",
        "\n",
        "\n",
        "\n",
        "\n",
        "\n",
        "\n",
        "\n",
        "\n",
        "\n",
        "\n",
        "\n",
        "\n",
        "\n",
        "\n",
        "\n"
      ]
    },
    {
      "cell_type": "markdown",
      "metadata": {
        "id": "O_i_v8NEhb9l"
      },
      "source": [
        "# ***Let's Begin !***"
      ]
    },
    {
      "cell_type": "markdown",
      "metadata": {
        "id": "HhfV-JJviCcP"
      },
      "source": [
        "## ***1. Know Your Data***"
      ]
    },
    {
      "cell_type": "markdown",
      "metadata": {
        "id": "Y3lxredqlCYt"
      },
      "source": [
        "### Import Libraries"
      ]
    },
    {
      "cell_type": "code",
      "execution_count": null,
      "metadata": {
        "id": "M8Vqi-pPk-HR"
      },
      "outputs": [],
      "source": [
        "# Import Libraries\n",
        "# Import Libraries\n",
        "import pandas as pd\n",
        "import numpy as np\n",
        "import matplotlib.pyplot as plt\n",
        "import seaborn as sns\n",
        "import nltk\n",
        "from nltk.sentiment.vader import SentimentIntensityAnalyzer # For sentiment analysis\n",
        "from textblob import TextBlob # Another option for sentiment analysis\n",
        "from sklearn.preprocessing import StandardScaler, MinMaxScaler, LabelEncoder # For scaling and encoding\n",
        "from sklearn.cluster import KMeans # Example clustering algorithm\n",
        "from sklearn.metrics import silhouette_score # Example evaluation metric for clustering\n",
        "import warnings\n",
        "warnings.filterwarnings('ignore')"
      ]
    },
    {
      "cell_type": "markdown",
      "metadata": {
        "id": "3RnN4peoiCZX"
      },
      "source": [
        "### Dataset Loading"
      ]
    },
    {
      "cell_type": "code",
      "execution_count": null,
      "metadata": {
        "id": "4CkvbW_SlZ_R"
      },
      "outputs": [],
      "source": [
        "# Load Dataset\n",
        "\n",
        "\n",
        "restaurant_metadata_df = pd.read_csv('Zomato Restaurant names and Metadata.csv')\n",
        "restaurant_reviews_df = pd.read_csv('Zomato Restaurant reviews.csv')"
      ]
    },
    {
      "cell_type": "code",
      "source": [
        "from google.colab import drive\n",
        "drive.mount('/content/drive')"
      ],
      "metadata": {
        "id": "qohd_74yjUu2"
      },
      "execution_count": null,
      "outputs": []
    },
    {
      "cell_type": "markdown",
      "metadata": {
        "id": "x71ZqKXriCWQ"
      },
      "source": [
        "### Dataset First View"
      ]
    },
    {
      "cell_type": "code",
      "execution_count": null,
      "metadata": {
        "id": "LWNFOSvLl09H"
      },
      "outputs": [],
      "source": [
        "\n",
        "# Dataset First Look\n",
        "print(\"--- Zomato Restaurant names and Metadata (restaurant_metadata_df) ---\")\n",
        "print(restaurant_metadata_df.head())\n",
        "print(\"\\n--- Zomato Restaurant reviews (restaurant_reviews_df) ---\")\n",
        "print(restaurant_reviews_df.head())"
      ]
    },
    {
      "cell_type": "markdown",
      "metadata": {
        "id": "7hBIi_osiCS2"
      },
      "source": [
        "### Dataset Rows & Columns count"
      ]
    },
    {
      "cell_type": "code",
      "execution_count": null,
      "metadata": {
        "id": "Kllu7SJgmLij"
      },
      "outputs": [],
      "source": [
        "\n",
        "# Dataset Rows & Columns count\n",
        "print(\"restaurant_metadata_df shape:\", restaurant_metadata_df.shape)\n",
        "print(\"restaurant_reviews_df shape:\", restaurant_reviews_df.shape)"
      ]
    },
    {
      "cell_type": "markdown",
      "metadata": {
        "id": "JlHwYmJAmNHm"
      },
      "source": [
        "### Dataset Information"
      ]
    },
    {
      "cell_type": "code",
      "execution_count": 79,
      "metadata": {
        "id": "e9hRXRi6meOf",
        "colab": {
          "base_uri": "https://localhost:8080/"
        },
        "outputId": "38a0afbe-416c-4134-e625-19e7b5c897a6"
      },
      "outputs": [
        {
          "output_type": "stream",
          "name": "stdout",
          "text": [
            "\n",
            "--- restaurant_metadata_df Info ---\n",
            "<class 'pandas.core.frame.DataFrame'>\n",
            "RangeIndex: 105 entries, 0 to 104\n",
            "Data columns (total 6 columns):\n",
            " #   Column       Non-Null Count  Dtype  \n",
            "---  ------       --------------  -----  \n",
            " 0   Name         105 non-null    object \n",
            " 1   Links        105 non-null    object \n",
            " 2   Cost         105 non-null    float64\n",
            " 3   Collections  105 non-null    object \n",
            " 4   Cuisines     105 non-null    object \n",
            " 5   Timings      105 non-null    object \n",
            "dtypes: float64(1), object(5)\n",
            "memory usage: 5.1+ KB\n",
            "\n",
            "--- restaurant_reviews_df Info ---\n",
            "<class 'pandas.core.frame.DataFrame'>\n",
            "Index: 9955 entries, 0 to 9999\n",
            "Data columns (total 9 columns):\n",
            " #   Column           Non-Null Count  Dtype         \n",
            "---  ------           --------------  -----         \n",
            " 0   Restaurant       9955 non-null   object        \n",
            " 1   Reviewer         9955 non-null   object        \n",
            " 2   Review           9955 non-null   object        \n",
            " 3   Rating           9955 non-null   float64       \n",
            " 4   Metadata         9955 non-null   object        \n",
            " 5   Time             9955 non-null   datetime64[ns]\n",
            " 6   Pictures         9955 non-null   int64         \n",
            " 7   Reviews_Count    9955 non-null   int64         \n",
            " 8   Followers_Count  9955 non-null   int64         \n",
            "dtypes: datetime64[ns](1), float64(1), int64(3), object(4)\n",
            "memory usage: 777.7+ KB\n"
          ]
        }
      ],
      "source": [
        "\n",
        "# Dataset Info\n",
        "print(\"\\n--- restaurant_metadata_df Info ---\")\n",
        "restaurant_metadata_df.info()\n",
        "print(\"\\n--- restaurant_reviews_df Info ---\")\n",
        "restaurant_reviews_df.info()"
      ]
    },
    {
      "cell_type": "markdown",
      "metadata": {
        "id": "35m5QtbWiB9F"
      },
      "source": [
        "#### Duplicate Values"
      ]
    },
    {
      "cell_type": "code",
      "execution_count": 80,
      "metadata": {
        "id": "1sLdpKYkmox0",
        "colab": {
          "base_uri": "https://localhost:8080/"
        },
        "outputId": "a236c65e-e08e-4ee3-b107-8781efe9af35"
      },
      "outputs": [
        {
          "output_type": "stream",
          "name": "stdout",
          "text": [
            "\n",
            "Duplicate rows in restaurant_metadata_df: 0\n",
            "Duplicate rows in restaurant_reviews_df: 0\n"
          ]
        }
      ],
      "source": [
        "# Dataset Duplicate Value Count\n",
        "\n",
        "print(\"\\nDuplicate rows in restaurant_metadata_df:\", restaurant_metadata_df.duplicated().sum())\n",
        "print(\"Duplicate rows in restaurant_reviews_df:\", restaurant_reviews_df.duplicated().sum())"
      ]
    },
    {
      "cell_type": "markdown",
      "metadata": {
        "id": "PoPl-ycgm1ru"
      },
      "source": [
        "#### Missing Values/Null Values"
      ]
    },
    {
      "cell_type": "code",
      "execution_count": null,
      "metadata": {
        "id": "p_ZhP5Q19HkQ"
      },
      "outputs": [],
      "source": []
    },
    {
      "cell_type": "code",
      "execution_count": null,
      "metadata": {
        "id": "GgHWkxvamxVg"
      },
      "outputs": [],
      "source": [
        "# Missing Values/Null Values Count\n",
        "\n",
        "print(\"\\nMissing values in restaurant_metadata_df:\\n\", restaurant_metadata_df.isnull().sum())\n",
        "print(\"\\nMissing values in restaurant_reviews_df:\\n\", restaurant_reviews_df.isnull().sum())"
      ]
    },
    {
      "cell_type": "code",
      "execution_count": null,
      "metadata": {
        "id": "3q5wnI3om9sJ"
      },
      "outputs": [],
      "source": [
        "# Visualizing the missing values\n",
        "\n",
        "\n",
        "plt.figure(figsize=(10, 6))\n",
        "sns.heatmap(restaurant_metadata_df.isnull(), cbar=True, cmap='viridis')\n",
        "plt.title('Missing Values in Restaurant Metadata')\n",
        "plt.show()\n",
        "\n",
        "plt.figure(figsize=(10, 6))\n",
        "sns.heatmap(restaurant_reviews_df.isnull(), cbar=True, cmap='viridis')\n",
        "plt.title('Missing Values in Restaurant Reviews')\n",
        "plt.show()"
      ]
    },
    {
      "cell_type": "markdown",
      "metadata": {
        "id": "gfoNAAC-nUe_"
      },
      "source": [
        "\n",
        "\n",
        "### What did you know about your dataset?\n",
        "\n",
        "Based on the initial inspection of the two datasets:\n",
        "\n",
        "**1. Zomato Restaurant Names and Metadata (`restaurant_metadata_df`)**\n",
        "* This dataset contains information about 105 unique restaurants.\n",
        "* It has 6 columns: `Name`, `Links`, `Cost`, `Collections`, `Cuisines`, and `Timings`.\n",
        "* All columns are currently of `object` (string) data type.\n",
        "* **Missing Values:**\n",
        "    * The `Collections` column has a significant number of missing values (54 out of 105), indicating that not all restaurants are associated with specific Zomato collections.\n",
        "    * The `Timings` column has 1 missing value.\n",
        "* **Data Type Issues:** The `Cost` column, which represents the estimated cost of dining per person, is an `object` type. It will need to be converted to a numeric type for calculations and might contain non-numeric characters like commas (e.g., '1,300') that require cleaning.\n",
        "\n",
        "**2. Zomato Restaurant Reviews (`restaurant_reviews_df`)**\n",
        "* This dataset contains 10,000 customer reviews.\n",
        "* It has 7 columns: `Restaurant`, `Reviewer`, `Review`, `Rating`, `Metadata`, `Time`, and `Pictures`.\n",
        "* The `Pictures` column is of `int64` type, while others are `object` type.\n",
        "* **Missing Values:** Several columns have a small number of missing values (around 38-45), including `Reviewer`, `Review`, `Rating`, `Metadata`, and `Time`. These will need to be handled.\n",
        "* **Data Type Issues:**\n",
        "    * The `Rating` column is `object` type but represents numerical ratings. It needs to be converted to a numeric type. It's crucial to check if there are any non-numeric entries like 'Like' or 'Love' as sometimes seen in review datasets, which would require specific handling.\n",
        "    * The `Metadata` column contains combined text (e.g., \"3 Reviews, 2 Followers\") and will require parsing to extract the number of reviews and followers as separate numerical features.\n",
        "    * The `Time` column is an `object` type and needs to be converted to a proper datetime format for time-series analysis or understanding review trends.\n",
        "* **Key for Analysis:** The `Review` column is textual and will be central to performing sentiment analysis to derive customer sentiments.\n",
        "\n",
        "Overall, both datasets require significant data cleaning and feature engineering before they can be used for detailed analysis and machine learning tasks like restaurant clustering and sentiment analysis."
      ]
    },
    {
      "cell_type": "markdown",
      "metadata": {
        "id": "nA9Y7ga8ng1Z"
      },
      "source": [
        "## ***2. Understanding Your Variables***"
      ]
    },
    {
      "cell_type": "code",
      "execution_count": null,
      "metadata": {
        "id": "j7xfkqrt5Ag5"
      },
      "outputs": [],
      "source": [
        "# Dataset Columns\n",
        "\n",
        "print(\"Columns in restaurant_metadata_df:\", restaurant_metadata_df.columns.tolist())\n",
        "print(\"Columns in restaurant_reviews_df:\", restaurant_reviews_df.columns.tolist())"
      ]
    },
    {
      "cell_type": "code",
      "execution_count": null,
      "metadata": {
        "id": "DnOaZdaE5Q5t"
      },
      "outputs": [],
      "source": [
        "# Dataset Describe\n",
        "print(\"\\n--- restaurant_metadata_df Description ---\")\n",
        "print(restaurant_metadata_df.describe(include='all')) # include='all' to describe object columns too\n",
        "print(\"\\n--- restaurant_reviews_df Description ---\")\n",
        "print(restaurant_reviews_df.describe(include='all'))"
      ]
    },
    {
      "cell_type": "markdown",
      "metadata": {
        "id": "PBTbrJXOngz2"
      },
      "source": [
        "### Variables Description"
      ]
    },
    {
      "cell_type": "markdown",
      "metadata": {
        "id": "aJV4KIxSnxay"
      },
      "source": [
        "Answer Here\n",
        "\n",
        "Zomato Restaurant Names and Metadata (restaurant_metadata_df)\n",
        "Name:\n",
        "\n",
        "Description: The official name of the restaurant.\n",
        "\n",
        "Data Type: Object (string).\n",
        "\n",
        "Observations: This is a categorical identifier for each restaurant.\n",
        "\n",
        "Links:\n",
        "\n",
        "Description: The URL link to the restaurant's page on the Zomato platform.\n",
        "\n",
        "Data Type: Object (string).\n",
        "\n",
        "Observations: This column is unique for each restaurant and serves as a direct reference to their Zomato listing. It's primarily for external linking and not directly used in numerical analysis.\n",
        "\n",
        "Cost:\n",
        "\n",
        "Description: The estimated cost of dining per person at the restaurant.\n",
        "\n",
        "Data Type: Object (string) initially.\n",
        "\n",
        "Observations: This variable represents a numerical value but is currently stored as a string, potentially containing commas (e.g., '1,300'). It will require cleaning (removing commas) and conversion to a numerical data type (e.g., float or integer) for quantitative analysis.\n",
        "\n",
        "Collections:\n",
        "\n",
        "Description: Tags or categories assigned to restaurants by Zomato (e.g., \"Great Buffets\", \"Top-Rated\", \"Hyderabad's Hottest\").\n",
        "\n",
        "Data Type: Object (string).\n",
        "\n",
        "Observations: This is a categorical variable, often containing multiple categories separated by commas. It has a significant number of missing values (NaN) which will need to be addressed. This column can be indicative of a restaurant's specializations or popularity themes.\n",
        "\n",
        "Cuisines:\n",
        "\n",
        "Description: The types of cuisines served by the restaurant (e.g., \"Chinese\", \"Continental\", \"North Indian\").\n",
        "\n",
        "Data Type: Object (string).\n",
        "\n",
        "Observations: This is a categorical variable, often containing multiple cuisines separated by commas. It is crucial for understanding the restaurant's food offerings and for segmenting restaurants based on culinary focus.\n",
        "\n",
        "Timings:\n",
        "\n",
        "Description: The operating hours of the restaurant.\n",
        "\n",
        "Data Type: Object (string).\n",
        "\n",
        "Observations: This column describes when the restaurant is open. It has a few missing values that need to be handled. While useful for informing users, its direct use in machine learning models might be limited unless converted into structured features like \"hours open per day.\"\n",
        "\n",
        "Zomato Restaurant Reviews (restaurant_reviews_df)\n",
        "Restaurant:\n",
        "\n",
        "Description: The name of the restaurant the review pertains to.\n",
        "\n",
        "Data Type: Object (string).\n",
        "\n",
        "Observations: This column links reviews to specific restaurants and can be used to merge with the restaurant_metadata_df.\n",
        "\n",
        "Reviewer:\n",
        "\n",
        "Description: The name of the user who provided the review.\n",
        "\n",
        "Data Type: Object (string).\n",
        "\n",
        "Observations: This identifies the individual reviewer. It has some missing values. This can be useful for identifying prolific reviewers or \"critics\" as mentioned in the project description.\n",
        "\n",
        "Review:\n",
        "\n",
        "Description: The actual text content of the customer's review.\n",
        "\n",
        "Data Type: Object (string).\n",
        "\n",
        "Observations: This is a critical feature for sentiment analysis. It contains natural language text and will require extensive preprocessing (e.g., cleaning, tokenization, normalization) before being used in NLP tasks. It has a few missing values.\n",
        "\n",
        "Rating:\n",
        "\n",
        "Description: The numerical rating provided by the reviewer.\n",
        "\n",
        "Data Type: Object (string) initially.\n",
        "\n",
        "Observations: This variable represents a numerical rating, but is initially stored as a string. It needs to be converted to a numerical data type (e.g., float). It's a key target variable for understanding customer satisfaction or for use in clustering. It has some missing values.\n",
        "\n",
        "Metadata:\n",
        "\n",
        "Description: Additional information about the reviewer, specifically the number of reviews they have posted and the number of followers they have.\n",
        "\n",
        "Data Type: Object (string).\n",
        "\n",
        "Observations: This column contains combined numerical information in a string format (e.g., \"X Reviews , Y Followers\"). It will need to be parsed and converted into two separate numerical features: Reviews_Count and Followers_Count for quantitative analysis. It has some missing values.\n",
        "\n",
        "Time:\n",
        "\n",
        "Description: The date and time when the review was posted.\n",
        "\n",
        "Data Type: Object (string) initially.\n",
        "\n",
        "Observations: This column is in string format and needs to be converted to a proper datetime object for chronological analysis, such as trends in reviews or ratings over time. It has some missing values.\n",
        "\n",
        "Pictures:\n",
        "\n",
        "Description: The number of pictures posted by the reviewer along with their review.\n",
        "\n",
        "Data Type: Integer (int64).\n",
        "\n",
        "Observations: This is a numerical feature and appears to be clean. It can indicate a reviewer's engagement level or the visual content associated with a review.\n",
        "\n"
      ]
    },
    {
      "cell_type": "markdown",
      "metadata": {
        "id": "u3PMJOP6ngxN"
      },
      "source": [
        "### Check Unique Values for each variable."
      ]
    },
    {
      "cell_type": "code",
      "execution_count": null,
      "metadata": {
        "id": "zms12Yq5n-jE"
      },
      "outputs": [],
      "source": [
        "# Check Unique Values for each variable.\n",
        "\n",
        "# Check Unique Values for each variable in restaurant_metadata_df\n",
        "print(\"\\n--- Unique Values in restaurant_metadata_df ---\")\n",
        "for column in restaurant_metadata_df.columns:\n",
        "    print(f\"{column}: {restaurant_metadata_df[column].nunique()} unique values\")\n",
        "    if restaurant_metadata_df[column].nunique() < 20: # Display unique values for columns with few unique values\n",
        "        print(restaurant_metadata_df[column].unique())\n",
        "\n",
        "# Check Unique Values for each variable in restaurant_reviews_df\n",
        "print(\"\\n--- Unique Values in restaurant_reviews_df ---\")\n",
        "for column in restaurant_reviews_df.columns:\n",
        "    print(f\"{column}: {restaurant_reviews_df[column].nunique()} unique values\")\n",
        "    if restaurant_reviews_df[column].nunique() < 20: # Display unique values for columns with few unique values\n",
        "        print(restaurant_reviews_df[column].unique())"
      ]
    },
    {
      "cell_type": "markdown",
      "metadata": {
        "id": "dauF4eBmngu3"
      },
      "source": [
        "## 3. ***Data Wrangling***"
      ]
    },
    {
      "cell_type": "markdown",
      "metadata": {
        "id": "bKJF3rekwFvQ"
      },
      "source": [
        "### Data Wrangling Code"
      ]
    },
    {
      "cell_type": "code",
      "execution_count": null,
      "metadata": {
        "id": "wk-9a2fpoLcV"
      },
      "outputs": [],
      "source": [
        "# Write your code to make your dataset analysis ready.\n",
        "\n",
        "\n",
        "# --- Data Wrangling for restaurant_metadata_df ---\n",
        "\n",
        "# 1. Handle 'Cost' column: Remove commas and convert to numeric\n",
        "restaurant_metadata_df['Cost'] = restaurant_metadata_df['Cost'].str.replace(',', '').astype(float)\n",
        "print(\"Updated 'Cost' column in restaurant_metadata_df:\")\n",
        "print(restaurant_metadata_df['Cost'].head())\n",
        "print(restaurant_metadata_df['Cost'].dtype)\n",
        "\n",
        "\n",
        "# 2. Handle missing 'Collections' - Impute with 'No Collection' or drop\n",
        "# For now, let's fill NaN with a specific category 'Unknown Collection'\n",
        "restaurant_metadata_df['Collections'].fillna('Unknown Collection', inplace=True)\n",
        "print(\"\\nMissing values in 'Collections' after imputation:\")\n",
        "print(restaurant_metadata_df['Collections'].isnull().sum())\n",
        "\n",
        "\n",
        "# 3. Handle missing 'Timings' - Impute with 'Unknown Timings' or consider dropping if critical\n",
        "restaurant_metadata_df['Timings'].fillna('Unknown Timings', inplace=True)\n",
        "print(\"\\nMissing values in 'Timings' after imputation:\")\n",
        "print(restaurant_metadata_df['Timings'].isnull().sum())\n",
        "\n",
        "\n",
        "# --- Data Wrangling for restaurant_reviews_df ---\n",
        "\n",
        "# 1. Handle 'Rating' column:\n",
        "# First, identify non-numeric values. 'Like' and 'Love' are common in Zomato\n",
        "print(\"\\nUnique values in 'Rating' column before cleaning:\")\n",
        "print(restaurant_reviews_df['Rating'].unique())\n",
        "\n",
        "# Map 'Like' and 'Love' to a numerical scale, or handle other non-numeric values\n",
        "# Let's assume 'Like' could be a 4 and 'Love' a 5 (or remove if preferred)\n",
        "# For simplicity, we'll convert everything possible to numeric and handle errors.\n",
        "# 'Like' and 'Love' are not present in the provided sample data, but this is a common issue.\n",
        "# If they were, you might do:\n",
        "# restaurant_reviews_df['Rating'] = restaurant_reviews_df['Rating'].replace({'Like': '4', 'Love': '5'})\n",
        "\n",
        "# Convert to numeric, coercing errors to NaN\n",
        "restaurant_reviews_df['Rating'] = pd.to_numeric(restaurant_reviews_df['Rating'], errors='coerce')\n",
        "print(\"Unique values in 'Rating' column after initial numeric conversion:\")\n",
        "print(restaurant_reviews_df['Rating'].unique())\n",
        "print(\"Number of NaN values created in 'Rating' after coercion:\", restaurant_reviews_df['Rating'].isnull().sum())\n",
        "\n",
        "# Handle NaN values in Rating (e.g., impute with median or mean, or drop rows)\n",
        "# Given the small number of NaNs compared to total rows, dropping is an option for simplicity.\n",
        "# However, if 'Review' is present, we might want to keep for sentiment analysis.\n",
        "# For now, let's fill with the median rating for numerical consistency.\n",
        "median_rating = restaurant_reviews_df['Rating'].median()\n",
        "restaurant_reviews_df['Rating'].fillna(median_rating, inplace=True)\n",
        "print(\"\\nMissing values in 'Rating' after imputation:\", restaurant_reviews_df['Rating'].isnull().sum())\n",
        "print(\"Updated 'Rating' column in restaurant_reviews_df:\")\n",
        "print(restaurant_reviews_df['Rating'].head())\n",
        "print(restaurant_reviews_df['Rating'].dtype)\n",
        "\n",
        "\n",
        "# 2. Handle 'Metadata' column: Extract 'Reviews Count' and 'Followers Count'\n",
        "def parse_metadata(metadata_str):\n",
        "    if pd.isna(metadata_str): # Handle NaN values\n",
        "        return 0, 0\n",
        "    parts = [s.strip().replace(' Review', '').replace(' Reviews', '').replace(' Follower', '').replace(' Followers', '') for s in metadata_str.split(',')]\n",
        "    reviews = int(parts[0]) if parts[0].isdigit() else 0\n",
        "    followers = int(parts[1]) if len(parts) > 1 and parts[1].isdigit() else 0\n",
        "    return reviews, followers\n",
        "\n",
        "restaurant_reviews_df[['Reviews_Count', 'Followers_Count']] = restaurant_reviews_df['Metadata'].apply(lambda x: pd.Series(parse_metadata(x))) #applies for every row in dataset\n",
        "print(\"\\nNew 'Reviews_Count' and 'Followers_Count' columns:\")\n",
        "print(restaurant_reviews_df[['Metadata', 'Reviews_Count', 'Followers_Count']].head())\n",
        "\n",
        "\n",
        "# 3. Handle 'Time' column: Convert to datetime objects\n",
        "# The format looks like 'M/D/YYYY HH:MM'\n",
        "restaurant_reviews_df['Time'] = pd.to_datetime(restaurant_reviews_df['Time'], format='%m/%d/%Y %H:%M', errors='coerce')\n",
        "print(\"\\nUpdated 'Time' column in restaurant_reviews_df:\")\n",
        "print(restaurant_reviews_df['Time'].head())\n",
        "print(restaurant_reviews_df['Time'].dtype)\n",
        "\n",
        "# Handle NaNs in 'Time' if any were created by coercion (e.g., from malformed strings)\n",
        "# For simplicity, let's drop rows where 'Time' conversion failed\n",
        "restaurant_reviews_df.dropna(subset=['Time'], inplace=True)\n",
        "print(\"Shape after dropping rows with bad 'Time' format:\", restaurant_reviews_df.shape)\n",
        "\n",
        "\n",
        "# 4. Handle missing 'Reviewer' and 'Review' columns\n",
        "# These are critical for sentiment analysis. For now, let's drop rows where 'Review' is missing.\n",
        "# If 'Reviewer' is missing but 'Review' is present, we can keep it.\n",
        "restaurant_reviews_df.dropna(subset=['Review'], inplace=True)\n",
        "print(\"Shape after dropping rows with missing 'Review':\", restaurant_reviews_df.shape)\n",
        "\n",
        "# For Reviewer, we can fill missing with 'Anonymous'\n",
        "restaurant_reviews_df['Reviewer'].fillna('Anonymous', inplace=True)\n",
        "print(\"Missing values in 'Reviewer' after imputation:\", restaurant_reviews_df['Reviewer'].isnull().sum())\n",
        "\n",
        "# Final check for missing values across both dataframes\n",
        "print(\"\\n--- Final Missing values check in restaurant_metadata_df: ---\")\n",
        "print(restaurant_metadata_df.isnull().sum())\n",
        "print(\"\\n--- Final Missing values check in restaurant_reviews_df: ---\")\n",
        "print(restaurant_reviews_df.isnull().sum())"
      ]
    },
    {
      "cell_type": "markdown",
      "metadata": {
        "id": "MSa1f5Uengrz"
      },
      "source": [
        "### What all manipulations have you done and insights you found?"
      ]
    },
    {
      "cell_type": "markdown",
      "metadata": {
        "id": "LbyXE7I1olp8"
      },
      "source": [
        "Answer Here.\n",
        "\n",
        "Here's the content for the markdown cell \"What all manipulations have you done and insights you found?\", based on the data wrangling code provided earlier.\n",
        "\n",
        "What all manipulations have you done and insights you found?\n",
        "During the data wrangling phase, several key manipulations were performed on both the restaurant_metadata_df and restaurant_reviews_df to prepare them for analysis. These steps addressed data type inconsistencies and initial handling of missing values.\n",
        "\n",
        "Manipulations Performed:\n",
        "restaurant_metadata_df:\n",
        "\n",
        "Cost Column Cleaning and Type Conversion: The 'Cost' column, which represented the estimated cost per person, was initially of object (string) data type and contained commas (e.g., '1,300'). To enable numerical analysis, commas were removed, and the column was converted to a float data type.\n",
        "\n",
        "Handling Missing 'Collections': The 'Collections' column had a significant number of missing values. These NaN entries were imputed with the string 'Unknown Collection' to ensure all restaurants are categorized and to prevent data loss or errors in subsequent analysis or categorical encoding.\n",
        "\n",
        "Handling Missing 'Timings': The 'Timings' column had one missing value. This was imputed with 'Unknown Timings' to maintain completeness of the operational information.\n",
        "\n",
        "restaurant_reviews_df:\n",
        "\n",
        "Rating Column Cleaning and Type Conversion: The 'Rating' column, representing review scores, was also of object type. It was converted to a float data type. The errors='coerce' parameter was used during conversion to turn any non-numeric entries (though none were explicitly found in the sample preview, this is a robust practice for such columns) into NaN. Subsequently, these NaN values were imputed with the median rating to preserve the distribution and avoid skewing from extreme values, while retaining the review data.\n",
        "\n",
        "Parsing 'Metadata' Column: The 'Metadata' column contained combined information about the reviewer's activity (e.g., \"X Reviews, Y Followers\"). A custom function was applied to extract 'Reviews Count' and 'Followers Count' into two new, separate numerical columns: Reviews_Count and Followers_Count. Missing 'Metadata' values were handled by assigning 0 to both new counts.\n",
        "\n",
        "Time Column Conversion: The 'Time' column, representing the review timestamp, was converted from object to datetime objects using a specified format (%m/%d/%Y %H:%M). Rows where this conversion failed (due to malformed strings) were dropped to ensure data integrity for time-based analysis.\n",
        "\n",
        "Handling Missing 'Review' Text: The 'Review' column, crucial for sentiment analysis, had some missing entries. Rows with missing 'Review' text were dropped to ensure that sentiment analysis is performed only on valid review content.\n",
        "\n",
        "Handling Missing 'Reviewer' Names: Missing values in the 'Reviewer' column were imputed with 'Anonymous' to maintain a record while acknowledging the absence of a specific reviewer name.\n",
        "\n",
        "Insights Found from Manipulations:\n",
        "Numerical Readiness: Both Cost and Rating are now numerical, enabling direct mathematical operations, statistical analysis, and use in machine learning models.\n",
        "\n",
        "Structured Reviewer Data: By separating 'Reviews Count' and 'Followers Count' from 'Metadata', we now have quantifiable metrics to analyze reviewer influence or activity, which could be valuable for identifying \"critics in the industry\" as per the project description.\n",
        "\n",
        "Time-Series Potential: Converting 'Time' to datetime opens up possibilities for analyzing trends in ratings or review volume over specific periods.\n",
        "\n",
        "Data Completeness for Collections: By filling missing 'Collections' with 'Unknown Collection', we ensure that no restaurant is lost from the dataset, and we can still account for those without specific tags.\n",
        "\n",
        "Review Data Integrity: By dropping rows with missing review text, we ensure the quality of data for subsequent natural language processing and sentiment analysis.\n",
        "\n",
        "Impact of Data Cleaning: These steps have significantly improved the quality and usability of the datasets, making them ready for more in-depth exploratory data analysis (EDA) and subsequent machine learning model building. The dataset now has fewer nulls and appropriate data types, reducing potential errors in later stages."
      ]
    },
    {
      "cell_type": "markdown",
      "metadata": {
        "id": "GF8Ens_Soomf"
      },
      "source": [
        "## ***4. Data Vizualization, Storytelling & Experimenting with charts : Understand the relationships between variables***"
      ]
    },
    {
      "cell_type": "code",
      "execution_count": null,
      "metadata": {
        "id": "dheZTgZwLbIC"
      },
      "outputs": [],
      "source": [
        "\n",
        "\n",
        "# Ensure previous data wrangling steps are applied or run them here if starting fresh\n",
        "# (These steps are copied from the previous data wrangling output for continuity)\n",
        "\n",
        "# --- Data Wrangling for restaurant_metadata_df ---\n",
        "restaurant_metadata_df['Cost'] = restaurant_metadata_df['Cost'].astype(str).str.replace(',', '', regex=False).astype(float)\n",
        "\n",
        "# For now, let's fill NaN with a specific category 'Unknown Collection'\n",
        "restaurant_metadata_df['Collections'].fillna('Unknown Collection', inplace=True)\n",
        "restaurant_metadata_df['Timings'].fillna('Unknown Timings', inplace=True)\n",
        "\n",
        "# --- Data Wrangling for restaurant_reviews_df ---\n",
        "restaurant_reviews_df['Rating'] = pd.to_numeric(restaurant_reviews_df['Rating'], errors='coerce')\n",
        "median_rating = restaurant_reviews_df['Rating'].median()\n",
        "restaurant_reviews_df['Rating'].fillna(median_rating, inplace=True)\n",
        "\n",
        "def parse_metadata(metadata_str):\n",
        "    if pd.isna(metadata_str):\n",
        "        return 0, 0\n",
        "    # Clean the string by removing ' Reviews', ' Review', ' Followers', ' Follower'\n",
        "    cleaned_str = metadata_str.replace(' Reviews', '').replace(' Review', '').replace(' Followers', '').replace(' Follower', '')\n",
        "    parts = [s.strip() for s in cleaned_str.split(',')]\n",
        "    reviews = int(parts[0]) if parts[0].isdigit() else 0\n",
        "    followers = int(parts[1]) if len(parts) > 1 and parts[1].isdigit() else 0\n",
        "    return reviews, followers\n",
        "\n",
        "# Apply the function to create new columns\n",
        "restaurant_reviews_df[['Reviews_Count', 'Followers_Count']] = restaurant_reviews_df['Metadata'].apply(lambda x: pd.Series(parse_metadata(x)))\n",
        "\n",
        "# Convert 'Time' to datetime and drop rows where conversion failed\n",
        "restaurant_reviews_df['Time'] = pd.to_datetime(restaurant_reviews_df['Time'], format='%m/%d/%Y %H:%M', errors='coerce')\n",
        "restaurant_reviews_df.dropna(subset=['Time'], inplace=True)\n",
        "\n",
        "# Drop rows where 'Review' is missing for sentiment analysis\n",
        "restaurant_reviews_df.dropna(subset=['Review'], inplace=True)\n",
        "\n",
        "# Fill missing 'Reviewer' with 'Anonymous'\n",
        "restaurant_reviews_df['Reviewer'].fillna('Anonymous', inplace=True)\n",
        "\n",
        "# Merge the two dataframes for comprehensive analysis\n",
        "# We'll merge on 'Restaurant' Name\n",
        "# Since there are multiple reviews per restaurant, this will result in a larger dataframe\n",
        "# For simplicity in initial EDA, we might aggregate review data first, or perform a left merge.\n",
        "# Let's perform a left merge to keep all reviews and attach restaurant metadata.\n",
        "# Handle potential duplicates in restaurant_metadata_df if any, by using the first occurrence\n",
        "restaurant_metadata_unique = restaurant_metadata_df.drop_duplicates(subset=['Name'])\n",
        "\n",
        "merged_df = pd.merge(\n",
        "    restaurant_reviews_df,\n",
        "    restaurant_metadata_unique,\n",
        "    left_on='Restaurant',\n",
        "    right_on='Name',\n",
        "    how='left',\n",
        "    suffixes=('_review', '_restaurant')\n",
        ")\n",
        "\n",
        "# Drop the redundant 'Name_restaurant' column if 'Restaurant' is sufficient\n",
        "#merged_df.drop(columns=['Name_restaurant'], inplace=True)\n",
        "\n",
        "print(\"Shape of merged_df:\", merged_df.shape)\n",
        "print(\"Merged DataFrame Info:\")\n",
        "merged_df.info()\n",
        "print(\"\\nFirst 5 rows of merged_df:\")\n",
        "print(merged_df.head())"
      ]
    },
    {
      "cell_type": "markdown",
      "metadata": {
        "id": "0wOQAZs5pc--"
      },
      "source": [
        "#### Chart - 1"
      ]
    },
    {
      "cell_type": "code",
      "execution_count": null,
      "metadata": {
        "id": "7v_ESjsspbW7"
      },
      "outputs": [],
      "source": [
        "# Chart - 1 visualization code\n",
        "\n",
        "# Chart - 1 visualization code\n",
        "plt.figure(figsize=(10, 6))\n",
        "sns.histplot(merged_df['Rating'], bins=10, kde=True)\n",
        "plt.title('Distribution of Restaurant Ratings')\n",
        "plt.xlabel('Rating (1-5)')\n",
        "plt.ylabel('Number of Reviews')\n",
        "plt.xticks(np.arange(1, 6, 1)) # Ensure integer ticks for ratings\n",
        "plt.grid(axis='y', linestyle='--', alpha=0.7)\n",
        "plt.show()"
      ]
    },
    {
      "cell_type": "markdown",
      "metadata": {
        "id": "K5QZ13OEpz2H"
      },
      "source": [
        "##### 1. Why did you pick the specific chart?"
      ]
    },
    {
      "cell_type": "markdown",
      "metadata": {
        "id": "XESiWehPqBRc"
      },
      "source": [
        "Answer Here."
      ]
    },
    {
      "cell_type": "markdown",
      "metadata": {
        "id": "vexXeRCIMNTh"
      },
      "source": [
        "I chose a histogram with a Kernel Density Estimate (KDE) to visualize the distribution of restaurant ratings.\n",
        "\n",
        "A histogram is excellent for showing the frequency distribution of a single numerical variable. It allows us to see the shape of the data, including its central tendency, spread, and any skewness.\n",
        "\n",
        "Adding a KDE provides a smooth curve that estimates the probability density function, which helps to generalize the distribution and identify peaks more clearly, even with discrete rating values."
      ]
    },
    {
      "cell_type": "markdown",
      "metadata": {
        "id": "lQ7QKXXCp7Bj"
      },
      "source": [
        "##### 2. What is/are the insight(s) found from the chart?"
      ]
    },
    {
      "cell_type": "markdown",
      "metadata": {
        "id": "C_j1G7yiqdRP"
      },
      "source": [
        "Answer Here"
      ]
    },
    {
      "cell_type": "markdown",
      "metadata": {
        "id": "tLYPLUvyMaBa"
      },
      "source": [
        "The distribution of ratings is heavily skewed towards higher ratings, with a very pronounced peak at a rating of 5 and a substantial number of ratings at 4.\n",
        "\n",
        "There's a significant drop-off in the frequency of ratings as they go lower, with very few reviews providing ratings of 1 or 2.\n",
        "\n",
        "This suggests that customers on Zomato generally leave high ratings, or perhaps, only very satisfactory or very unsatisfactory experiences prompt a review."
      ]
    },
    {
      "cell_type": "markdown",
      "metadata": {
        "id": "448CDAPjqfQr"
      },
      "source": [
        "##### 3. Will the gained insights help creating a positive business impact?\n",
        "Are there any insights that lead to negative growth? Justify with specific reason."
      ]
    },
    {
      "cell_type": "markdown",
      "metadata": {
        "id": "3cspy4FjqxJW"
      },
      "source": [
        "es, these insights can help create a positive business impact:\n",
        "\n",
        "Positive Business Impact: The prevalence of high ratings indicates overall customer satisfaction with the restaurants listed on Zomato, which is a positive signal for the platform's service quality. This insight can be used in marketing to highlight customer satisfaction. For Zomato, it also implies that their quality control (if any) or restaurant selection is generally effective in providing good experiences.\n",
        "\n",
        "Potential Negative Growth Insights (or areas for improvement): The heavily skewed distribution towards high ratings might make it difficult to differentiate between \"good\" and \"excellent\" restaurants based solely on raw ratings. A lack of lower ratings could mean:\n",
        "\n",
        "Customers are less likely to leave a review for a poor experience, or they just don't use Zomato again.\n",
        "\n",
        "There might be a bias in how ratings are given (e.g., social desirability bias, or reviewers only bothering for very good/very bad experiences which average out).\n",
        "\n",
        "This \"grade inflation\" could make the rating system less informative for customers trying to pick between many highly-rated options, potentially leading to dissatisfaction if expectations are not met. Zomato might need to explore more nuanced feedback mechanisms or consider adjusting how ratings are presented or calculated to provide more granular differentiation."
      ]
    },
    {
      "cell_type": "markdown",
      "metadata": {
        "id": "KSlN3yHqYklG"
      },
      "source": [
        "#### Chart - 2"
      ]
    },
    {
      "cell_type": "code",
      "execution_count": null,
      "metadata": {
        "id": "R4YgtaqtYklH"
      },
      "outputs": [],
      "source": [
        "# Chart - 2 visualization code\n",
        "\n",
        "\n",
        "# Split the 'Cuisines' string into individual cuisines and then count\n",
        "# Corrected column name to 'Cuisines'\n",
        "all_cuisines = merged_df['Cuisines'].dropna().str.split(', ').explode()\n",
        "top_cuisines = all_cuisines.value_counts().head(10)\n",
        "\n",
        "plt.figure(figsize=(12, 7))\n",
        "sns.barplot(x=top_cuisines.index, y=top_cuisines.values, palette='viridis')\n",
        "plt.title('Top 10 Most Common Cuisines Offered by Restaurants')\n",
        "plt.xlabel('Cuisine')\n",
        "plt.ylabel('Number of Restaurants Offering Cuisine')\n",
        "plt.xticks(rotation=45, ha='right')\n",
        "plt.tight_layout()\n",
        "plt.show()"
      ]
    },
    {
      "cell_type": "markdown",
      "metadata": {
        "id": "t6dVpIINYklI"
      },
      "source": [
        "##### 1. Why did you pick the specific chart?"
      ]
    },
    {
      "cell_type": "markdown",
      "metadata": {
        "id": "5aaW0BYyYklI"
      },
      "source": [
        "I chose a bar chart because it is ideal for comparing the frequencies or counts of distinct categories. In this case, it effectively displays the number of restaurants offering each of the top 10 cuisines, allowing for easy comparison of their popularity. The horizontal labels are rotated to prevent overlap and improve readability."
      ]
    },
    {
      "cell_type": "markdown",
      "metadata": {
        "id": "ijmpgYnKYklI"
      },
      "source": [
        "##### 2. What is/are the insight(s) found from the chart?"
      ]
    },
    {
      "cell_type": "markdown",
      "metadata": {
        "id": "PSx9atu2YklI"
      },
      "source": [
        "North Indian cuisine is overwhelmingly the most common cuisine offered by restaurants, followed by Chinese. This reflects the widespread popularity and availability of these cuisines across India.\n",
        "\n",
        "Other significant cuisines include Continental, Desserts, Biryani, and Fast Food, indicating a diverse culinary landscape but with clear front-runners.\n",
        "\n",
        "There's a noticeable drop-off in the number of restaurants offering cuisines beyond the top two, suggesting a more specialized or niche market for them."
      ]
    },
    {
      "cell_type": "markdown",
      "metadata": {
        "id": "-JiQyfWJYklI"
      },
      "source": [
        "##### 3. Will the gained insights help creating a positive business impact?\n",
        "Are there any insights that lead to negative growth? Justify with specific reason."
      ]
    },
    {
      "cell_type": "markdown",
      "metadata": {
        "id": "BcBbebzrYklV"
      },
      "source": [
        "Yes, these insights can have a significant business impact:\n",
        "\n",
        "Positive Business Impact:\n",
        "\n",
        "Market Targeting for Zomato: Zomato can use this information to prioritize features, promotions, and onboarding efforts for restaurants specializing in North Indian and Chinese cuisines, given their high prevalence and presumably high demand.\n",
        "\n",
        "Restaurant Opportunities: For new restaurants or existing ones looking to expand, these insights highlight highly competitive markets (North Indian, Chinese) but also potential gaps in less common cuisines (though with lower overall demand).\n",
        "\n",
        "Customer Segmentation: Zomato can understand the primary culinary preferences of its user base.\n",
        "\n",
        "Potential Negative Growth Insights (or areas for improvement):\n",
        "\n",
        "Market Saturation: The high concentration of North Indian and Chinese restaurants might indicate market saturation in these segments, potentially leading to intense competition and lower profit margins for individual restaurants. Zomato might need to consider strategies to help these restaurants differentiate.\n",
        "\n",
        "Lack of Diversity Awareness: If less common but high-quality cuisines exist, Zomato might be missing opportunities to promote them to adventurous eaters. This could lead to a perceived lack of variety on the platform by some users. Zomato could strategize to promote culinary diversity through curated lists or recommendations for niche cuisines."
      ]
    },
    {
      "cell_type": "markdown",
      "metadata": {
        "id": "EM7whBJCYoAo"
      },
      "source": [
        "#### Chart - 3"
      ]
    },
    {
      "cell_type": "code",
      "execution_count": null,
      "metadata": {
        "id": "t6GMdE67YoAp"
      },
      "outputs": [],
      "source": [
        "# Chart - 3 visualization code\n",
        "\n",
        "# Corrected column name to 'Cost'\n",
        "# Create cost bins for better visualization\n",
        "cost_bins = [0, 200, 400, 600, 800, 1000, 1500, 2000] # Define bins based on typical cost ranges\n",
        "cost_labels = ['0-200', '201-400', '401-600', '601-800', '801-1000', '1001-1500', '1501-2000+']\n",
        "merged_df['Cost_Range'] = pd.cut(merged_df['Cost'], bins=cost_bins, labels=cost_labels, right=True)\n",
        "\n",
        "# Calculate the average rating for each cost range\n",
        "avg_rating_by_cost = merged_df.groupby('Cost_Range')['Rating'].mean().reindex(cost_labels).reset_index()\n",
        "\n",
        "plt.figure(figsize=(12, 7))\n",
        "sns.barplot(x='Cost_Range', y='Rating', data=avg_rating_by_cost, palette='coolwarm')\n",
        "plt.title('Average Rating by Restaurant Cost Range')\n",
        "plt.xlabel('Estimated Cost per Person (INR)')\n",
        "plt.ylabel('Average Rating')\n",
        "plt.ylim(3.5, 5) # Set y-limit to better show variation in high ratings\n",
        "plt.grid(axis='y', linestyle='--', alpha=0.7)\n",
        "plt.show()"
      ]
    },
    {
      "cell_type": "markdown",
      "metadata": {
        "id": "fge-S5ZAYoAp"
      },
      "source": [
        "##### 1. Why did you pick the specific chart?"
      ]
    },
    {
      "cell_type": "markdown",
      "metadata": {
        "id": "5dBItgRVYoAp"
      },
      "source": [
        " I chose a bar chart to visualize the average rating across different cost ranges. This chart type is effective for comparing a numerical aggregate (average rating) across ordered categorical bins (cost ranges). It allows us to easily see if there's a trend or significant difference in average ratings as the cost increases. Binning the continuous Cost variable into discrete ranges makes the comparison more manageable and interpretable."
      ]
    },
    {
      "cell_type": "markdown",
      "metadata": {
        "id": "85gYPyotYoAp"
      },
      "source": [
        "##### 2. What is/are the insight(s) found from the chart?"
      ]
    },
    {
      "cell_type": "markdown",
      "metadata": {
        "id": "4jstXR6OYoAp"
      },
      "source": [
        "There appears to be a slight positive trend between cost and average rating, meaning that as the estimated cost per person increases, the average rating tends to slightly increase or remain consistently high.\n",
        "\n",
        "Restaurants in the mid-to-higher cost ranges (e.g., '601-800', '801-1000', '1001-1500') generally maintain very high average ratings, often around 4.5 or higher.\n",
        "\n",
        "Even the lowest cost range ('0-200') maintains a relatively high average rating, consistent with the overall positive skew of ratings observed in Chart 1.\n",
        "\n",
        "The variance across cost ranges in average rating is not extremely large, suggesting that while higher cost might be associated with slightly better experiences, customers seem generally satisfied across most price points."
      ]
    },
    {
      "cell_type": "markdown",
      "metadata": {
        "id": "RoGjAbkUYoAp"
      },
      "source": [
        "##### 3. Will the gained insights help creating a positive business impact?\n",
        "Are there any insights that lead to negative growth? Justify with specific reason."
      ]
    },
    {
      "cell_type": "markdown",
      "metadata": {
        "id": "zfJ8IqMcYoAp"
      },
      "source": [
        "Yes, these insights can yield business impacts:\n",
        "\n",
        "Positive Business Impact:\n",
        "\n",
        "Value Proposition: Zomato can highlight that good dining experiences are available across a range of price points, which is positive for diverse customer segments. For restaurants, it suggests that investing in quality (which often correlates with higher cost) can be rewarded with higher customer satisfaction.\n",
        "\n",
        "Targeted Recommendations: Zomato can confidently recommend higher-cost restaurants as likely to deliver excellent experiences, catering to customers seeking premium quality.\n",
        "\n",
        "Pricing Strategy for Restaurants: Restaurants can use this to gauge if their pricing aligns with customer satisfaction.\n",
        "\n",
        "Potential Negative Growth Insights (or areas for improvement):\n",
        "\n",
        "Limited Differentiation by Cost Alone: Since even lower-cost restaurants maintain relatively high average ratings, 'cost' alone might not be a strong differentiator for quality from the customer's perspective on Zomato. Customers might perceive less value if a higher cost doesn't translate into a significantly better perceived experience (beyond just raw rating).\n",
        "\n",
        "Expectation Management: For very high-cost restaurants, even a slightly lower average rating compared to the top tier could lead to disproportionate dissatisfaction due to higher customer expectations associated with price. Zomato could help restaurants in higher cost brackets understand the imperative of consistently delivering exceptional value."
      ]
    },
    {
      "cell_type": "markdown",
      "metadata": {
        "id": "4Of9eVA-YrdM"
      },
      "source": [
        "#### Chart - 4"
      ]
    },
    {
      "cell_type": "code",
      "execution_count": null,
      "metadata": {
        "id": "irlUoxc8YrdO"
      },
      "outputs": [],
      "source": [
        "# Chart - 4 visualization code\n",
        "\n",
        "# Aggregate ratings by cuisine (explode cuisines first for proper grouping)\n",
        "# Corrected column name to 'Cuisines'\n",
        "temp_cuisine_ratings = merged_df.assign(Cuisine_Single = merged_df['Cuisines'].dropna().str.split(', ')).explode('Cuisine_Single')\n",
        "\n",
        "# Calculate average rating for each single cuisine\n",
        "avg_rating_per_cuisine = temp_cuisine_ratings.groupby('Cuisine_Single')['Rating'].mean().sort_values(ascending=False).head(10)\n",
        "\n",
        "plt.figure(figsize=(12, 7))\n",
        "sns.barplot(x=avg_rating_per_cuisine.index, y=avg_rating_per_cuisine.values, palette='plasma')\n",
        "plt.title('Average Rating for Top 10 Cuisines')\n",
        "plt.xlabel('Cuisine')\n",
        "plt.ylabel('Average Rating')\n",
        "plt.xticks(rotation=45, ha='right')\n",
        "plt.ylim(3.5, 5) # Focus on the relevant rating range\n",
        "plt.grid(axis='y', linestyle='--', alpha=0.7)\n",
        "plt.tight_layout()\n",
        "plt.show()"
      ]
    },
    {
      "cell_type": "markdown",
      "metadata": {
        "id": "iky9q4vBYrdO"
      },
      "source": [
        "##### 1. Why did you pick the specific chart?"
      ]
    },
    {
      "cell_type": "markdown",
      "metadata": {
        "id": "aJRCwT6DYrdO"
      },
      "source": [
        "I used a bar chart to compare the average ratings of different cuisines. This visualization is effective because it allows for straightforward comparison of a numerical metric (average rating) across distinct categorical groups (cuisine types). Sorting the bars by average rating helps to quickly identify the highest-rated cuisines, providing clear insights into perceived quality."
      ]
    },
    {
      "cell_type": "markdown",
      "metadata": {
        "id": "F6T5p64dYrdO"
      },
      "source": [
        "##### 2. What is/are the insight(s) found from the chart?"
      ]
    },
    {
      "cell_type": "markdown",
      "metadata": {
        "id": "Xx8WAJvtYrdO"
      },
      "source": [
        "Many popular cuisines, including North Indian, Chinese, Continental, and Biryani, consistently receive very high average ratings (above 4.2-4.3). This reinforces the general trend of high customer satisfaction on Zomato.\n",
        "\n",
        "Some cuisines might have slightly higher or lower average ratings compared to others, but the differences are not drastic, with most top cuisines clustering in the 4.2-4.5 range.\n",
        "\n",
        "This suggests that high-quality options exist across various prominent cuisine types, not just concentrated in one area."
      ]
    },
    {
      "cell_type": "markdown",
      "metadata": {
        "id": "y-Ehk30pYrdP"
      },
      "source": [
        "##### 3. Will the gained insights help creating a positive business impact?\n",
        "Are there any insights that lead to negative growth? Justify with specific reason."
      ]
    },
    {
      "cell_type": "markdown",
      "metadata": {
        "id": "jLNxxz7MYrdP"
      },
      "source": [
        "Yes, these insights can drive positive business impact:\n",
        "\n",
        "Positive Business Impact:\n",
        "\n",
        "Quality Assurance for Zomato: High average ratings across dominant cuisines confirm that Zomato's platform features restaurants that generally meet or exceed customer expectations, which is good for brand reputation.\n",
        "\n",
        "Customer Guidance: Zomato can confidently recommend restaurants offering these high-rated cuisines to users, knowing they are likely to have a good experience. This can improve user engagement and trust.\n",
        "\n",
        "Strategic Investment: For Zomato, this data can inform where to focus efforts in terms of onboarding new restaurants or promoting existing ones—i.e., emphasizing cuisines that consistently deliver high satisfaction.\n",
        "\n",
        "Potential Negative Growth Insights (or areas for improvement):\n",
        "\n",
        "Limited Differentiation: Similar to the cost insight, if most top cuisines have very similar high average ratings, it might not provide enough granular detail for customers to choose between them, relying more on specific restaurant reviews or other attributes.\n",
        "\n",
        "Identifying Underperforming Cuisines (not shown in top 10): While this chart shows top-rated cuisines, it's equally important for Zomato to identify cuisines that consistently receive lower average ratings (not in this top 10 list). Such insights could lead to negative growth if not addressed, as they might indicate quality issues in a certain culinary segment or a gap in Zomato's offerings for that cuisine. Zomato could then work with restaurants in those lower-rated cuisine categories to improve quality or refine their recommendations."
      ]
    },
    {
      "cell_type": "markdown",
      "metadata": {
        "id": "bamQiAODYuh1"
      },
      "source": [
        "#### Chart - 5"
      ]
    },
    {
      "cell_type": "code",
      "execution_count": null,
      "metadata": {
        "id": "TIJwrbroYuh3"
      },
      "outputs": [],
      "source": [
        "# Chart - 5 visualization code\n",
        "# Aggregate collections (explode similar to cuisines)\n",
        "all_collections = merged_df['Collections'].dropna().str.split(', ').explode()\n",
        "top_collections = all_collections.value_counts().head(10)\n",
        "\n",
        "plt.figure(figsize=(12, 7))\n",
        "sns.barplot(x=top_collections.index, y=top_collections.values, palette='cool_d')\n",
        "plt.title('Top 10 Most Common Restaurant Collections')\n",
        "plt.xlabel('Collection Type')\n",
        "plt.ylabel('Number of Restaurants in Collection')\n",
        "plt.xticks(rotation=45, ha='right')\n",
        "plt.tight_layout()\n",
        "plt.show()"
      ]
    },
    {
      "cell_type": "markdown",
      "metadata": {
        "id": "QHF8YVU7Yuh3"
      },
      "source": [
        "##### 1. Why did you pick the specific chart?"
      ]
    },
    {
      "cell_type": "markdown",
      "metadata": {
        "id": "dcxuIMRPYuh3"
      },
      "source": [
        "I chose a bar chart to display the top 10 most common restaurant collections. This chart type is highly effective for showing the frequency or count of distinct categories, making it easy to compare the popularity of different collection types. Rotating the x-axis labels ensures readability for longer collection names."
      ]
    },
    {
      "cell_type": "markdown",
      "metadata": {
        "id": "GwzvFGzlYuh3"
      },
      "source": [
        "##### 2. What is/are the insight(s) found from the chart?"
      ]
    },
    {
      "cell_type": "markdown",
      "metadata": {
        "id": "uyqkiB8YYuh3"
      },
      "source": [
        "\"Food Hygiene Rated Restaurants in Hyderabad\" and \"Top-Rated\" are among the most frequent collections, indicating that hygiene standards and high quality are significant factors for a large number of restaurants on Zomato.\n",
        "\n",
        "\"Hyderabad's Hottest\" and \"Corporate Favorites\" also appear frequently, suggesting trends related to popular and business-oriented dining.\n",
        "\n",
        "The presence of specific categories like \"Great Buffets\" and \"Breakfast\" points to particular dining experiences being highlighted."
      ]
    },
    {
      "cell_type": "markdown",
      "metadata": {
        "id": "qYpmQ266Yuh3"
      },
      "source": [
        "##### 3. Will the gained insights help creating a positive business impact?\n",
        "Are there any insights that lead to negative growth? Justify with specific reason."
      ]
    },
    {
      "cell_type": "markdown",
      "metadata": {
        "id": "_WtzZ_hCYuh4"
      },
      "source": [
        "Yes, these insights can have a positive business impact:\n",
        "\n",
        "Positive Business Impact: Zomato can use this information to encourage more restaurants to meet \"Food Hygiene Rated\" standards and to feature \"Top-Rated\" restaurants prominently, as these are clearly valued collections. Understanding \"Hyderabad's Hottest\" and \"Corporate Favorites\" helps Zomato in marketing campaigns and curating lists for different user segments. This can lead to increased user engagement and satisfaction.\n",
        "\n",
        "Potential Negative Growth Insights: If certain desired collections are underrepresented, it might indicate a gap in the market or a need for Zomato to actively onboard restaurants that fit these categories. For example, if \"Late Night Restaurants\" are in high demand but low supply, it could be a missed opportunity. This could lead to users seeking alternatives if their specific needs aren't met by available collections."
      ]
    },
    {
      "cell_type": "markdown",
      "metadata": {
        "id": "OH-pJp9IphqM"
      },
      "source": [
        "#### Chart - 6"
      ]
    },
    {
      "cell_type": "code",
      "execution_count": null,
      "metadata": {
        "id": "kuRf4wtuphqN"
      },
      "outputs": [],
      "source": [
        "# Chart - 6 visualization code\n",
        "\n",
        "# Extract day of the week\n",
        "merged_df['Day_of_Week'] = merged_df['Time'].dt.day_name()\n",
        "\n",
        "# Order days of the week correctly\n",
        "day_order = ['Monday', 'Tuesday', 'Wednesday', 'Thursday', 'Friday', 'Saturday', 'Sunday']\n",
        "merged_df['Day_of_Week'] = pd.Categorical(merged_df['Day_of_Week'], categories=day_order, ordered=True)\n",
        "\n",
        "reviews_by_day = merged_df['Day_of_Week'].value_counts().sort_index()\n",
        "\n",
        "plt.figure(figsize=(10, 6))\n",
        "sns.barplot(x=reviews_by_day.index, y=reviews_by_day.values, palette='GnBu_d')\n",
        "plt.title('Distribution of Reviews Across Days of the Week')\n",
        "plt.xlabel('Day of the Week')\n",
        "plt.ylabel('Number of Reviews')\n",
        "plt.xticks(rotation=45, ha='right')\n",
        "plt.tight_layout()\n",
        "plt.show()"
      ]
    },
    {
      "cell_type": "markdown",
      "metadata": {
        "id": "bbFf2-_FphqN"
      },
      "source": [
        "##### 1. Why did you pick the specific chart?"
      ]
    },
    {
      "cell_type": "markdown",
      "metadata": {
        "id": "loh7H2nzphqN"
      },
      "source": [
        "I chose a bar chart to visualize the number of reviews posted on each day of the week. This is an effective way to compare counts across ordered categorical data (days of the week), allowing us to identify patterns related to weekly customer activity."
      ]
    },
    {
      "cell_type": "markdown",
      "metadata": {
        "id": "_ouA3fa0phqN"
      },
      "source": [
        "##### 2. What is/are the insight(s) found from the chart?"
      ]
    },
    {
      "cell_type": "markdown",
      "metadata": {
        "id": "VECbqPI7phqN"
      },
      "source": [
        "There is a clear trend of higher review activity on weekends, particularly Saturday and Sunday, followed by Friday.\n",
        "\n",
        "Review volume is generally lower during weekdays (Monday to Thursday), with Monday often being the lowest.\n",
        "\n",
        "This indicates that people are more likely to dine out or order food, and subsequently post reviews, during their leisure time at the end of the week."
      ]
    },
    {
      "cell_type": "markdown",
      "metadata": {
        "id": "Seke61FWphqN"
      },
      "source": [
        "##### 3. Will the gained insights help creating a positive business impact?\n",
        "Are there any insights that lead to negative growth? Justify with specific reason."
      ]
    },
    {
      "cell_type": "markdown",
      "metadata": {
        "id": "DW4_bGpfphqN"
      },
      "source": [
        "Yes, these insights can lead to positive business impact:\n",
        "\n",
        "Positive Business Impact: Zomato can leverage this information for targeted promotions and marketing campaigns. For instance, running ads or special offers on Thursdays or Fridays to encourage weekend dining and review posting could be highly effective. Restaurants can also staff more appropriately for higher weekend demand.\n",
        "\n",
        "Potential Negative Growth Insights: If the dip in weekday reviews also correlates with lower business for restaurants, it suggests a need for strategies to boost weekday engagement. Zomato could explore incentives for dining/ordering on weekdays to balance out traffic, preventing potential restaurant revenue dips during off-peak days."
      ]
    },
    {
      "cell_type": "markdown",
      "metadata": {
        "id": "PIIx-8_IphqN"
      },
      "source": [
        "#### Chart - 7"
      ]
    },
    {
      "cell_type": "code",
      "execution_count": 81,
      "metadata": {
        "id": "lqAIGUfyphqO",
        "colab": {
          "base_uri": "https://localhost:8080/",
          "height": 572
        },
        "outputId": "cb0a52b4-d834-4323-f722-d2d94bfef4ca"
      },
      "outputs": [
        {
          "output_type": "display_data",
          "data": {
            "text/plain": [
              "<Figure size 1000x600 with 1 Axes>"
            ],
            "image/png": "[encoded data removed]"
          },
          "metadata": {}
        }
      ],
      "source": [
        "# Chart - 7 visualization code\n",
        "\n",
        "# Group by number of pictures and calculate average rating\n",
        "avg_rating_by_pictures = merged_df.groupby('Pictures')['Rating'].mean().reset_index()\n",
        "\n",
        "plt.figure(figsize=(10, 6))\n",
        "sns.lineplot(x='Pictures', y='Rating', data=avg_rating_by_pictures, marker='o', palette='viridis')\n",
        "plt.title('Average Rating vs. Number of Pictures Posted')\n",
        "plt.xlabel('Number of Pictures Posted with Review')\n",
        "plt.ylabel('Average Rating')\n",
        "plt.xticks(rotation=45, ha='right')\n",
        "plt.grid(axis='y', linestyle='--', alpha=0.7)\n",
        "plt.show()"
      ]
    },
    {
      "cell_type": "markdown",
      "metadata": {
        "id": "t27r6nlMphqO"
      },
      "source": [
        "##### 1. Why did you pick the specific chart?"
      ]
    },
    {
      "cell_type": "markdown",
      "metadata": {
        "id": "iv6ro40sphqO"
      },
      "source": [
        "I chose a line plot to show the relationship between the number of pictures posted with a review and the average rating. A line plot is suitable for observing trends between two numerical variables, especially when one (number of pictures) has a discrete but ordered progression. Markers highlight specific data points for clarity."
      ]
    },
    {
      "cell_type": "markdown",
      "metadata": {
        "id": "r2jJGEOYphqO"
      },
      "source": [
        "##### 2. What is/are the insight(s) found from the chart?"
      ]
    },
    {
      "cell_type": "markdown",
      "metadata": {
        "id": "Po6ZPi4hphqO"
      },
      "source": [
        "Initially, there's a slight general trend that reviews with more pictures tend to have a slightly higher average rating, especially from 0 to 1-2 pictures.\n",
        "\n",
        "However, beyond a certain point (e.g., 2-3 pictures), the average rating seems to stabilize or even slightly fluctuate downwards, suggesting that simply posting many pictures doesn't guarantee a proportionally higher average rating.\n",
        "\n",
        "The overall ratings are high across all numbers of pictures, which aligns with the heavily skewed rating distribution."
      ]
    },
    {
      "cell_type": "markdown",
      "metadata": {
        "id": "b0JNsNcRphqO"
      },
      "source": [
        "##### 3. Will the gained insights help creating a positive business impact?\n",
        "Are there any insights that lead to negative growth? Justify with specific reason."
      ]
    },
    {
      "cell_type": "markdown",
      "metadata": {
        "id": "xvSq8iUTphqO"
      },
      "source": [
        "Yes, these insights can be leveraged for business impact:\n",
        "\n",
        "Positive Business Impact: Zomato can encourage users to add at least one or two pictures to their reviews, as this seems to be positively associated with higher average ratings. This can enhance the richness and credibility of reviews, aiding other users. Restaurants can also be encouraged to create visually appealing dishes/ambience that prompt users to share photos.\n",
        "\n",
        "Potential Negative Growth Insights: If a restaurant receives many reviews with zero pictures, and those reviews have a slightly lower average rating, it might indicate a lack of visual appeal or a less engaging dining experience, which could indirectly impact user perception. While not directly \"negative growth,\" it highlights an area where restaurants could improve their presentation to encourage visual content."
      ]
    },
    {
      "cell_type": "markdown",
      "metadata": {
        "id": "BZR9WyysphqO"
      },
      "source": [
        "#### Chart - 8"
      ]
    },
    {
      "cell_type": "code",
      "execution_count": null,
      "metadata": {
        "id": "TdPTWpAVphqO"
      },
      "outputs": [],
      "source": [
        "# Chart - 8 visualization code\n",
        "\n",
        "\n",
        "# Bin followers count to avoid too many distinct points for clearer trend\n",
        "follower_bins = [-1, 0, 10, 50, 100, 500, 1000, merged_df['Followers_Count'].max()]\n",
        "follower_labels = ['0', '1-10', '11-50', '51-100', '101-500', '501-1000', '1000+']\n",
        "merged_df['Followers_Count_Range'] = pd.cut(merged_df['Followers_Count'], bins=follower_bins, labels=follower_labels, right=True)\n",
        "\n",
        "avg_rating_by_followers = merged_df.groupby('Followers_Count_Range')['Rating'].mean().reindex(follower_labels).reset_index()\n",
        "\n",
        "plt.figure(figsize=(10, 6))\n",
        "sns.barplot(x='Followers_Count_Range', y='Rating', data=avg_rating_by_followers, palette='cubehelix')\n",
        "plt.title('Average Rating by Reviewer Followers Count Range')\n",
        "plt.xlabel('Reviewer Followers Count Range')\n",
        "plt.ylabel('Average Rating')\n",
        "plt.xticks(rotation=45, ha='right')\n",
        "plt.ylim(3.5, 5) # Keep rating scale consistent\n",
        "plt.grid(axis='y', linestyle='--', alpha=0.7)\n",
        "plt.tight_layout()\n",
        "plt.show()"
      ]
    },
    {
      "cell_type": "markdown",
      "metadata": {
        "id": "jj7wYXLtphqO"
      },
      "source": [
        "##### 1. Why did you pick the specific chart?"
      ]
    },
    {
      "cell_type": "markdown",
      "metadata": {
        "id": "Ob8u6rCTphqO"
      },
      "source": [
        "I used a bar chart with binned categories (follower count ranges) to observe the relationship between a reviewer's influence (followers) and the average rating they give. Binning helps to simplify a highly skewed numerical variable into manageable categories, making the comparison of average ratings across different levels of reviewer influence clearer."
      ]
    },
    {
      "cell_type": "markdown",
      "metadata": {
        "id": "eZrbJ2SmphqO"
      },
      "source": [
        "##### 2. What is/are the insight(s) found from the chart?"
      ]
    },
    {
      "cell_type": "markdown",
      "metadata": {
        "id": "mZtgC_hjphqO"
      },
      "source": [
        "Reviewers with fewer followers (0 to 50) tend to give slightly higher average ratings compared to reviewers with a large number of followers.\n",
        "\n",
        "As the number of followers increases significantly (e.g., 500+), the average rating given by these more influential reviewers tends to be marginally lower, although still very high overall.\n",
        "\n",
        "This might suggest that more experienced or \"critic-like\" reviewers are slightly more discerning, or that initial reviews are more often from highly satisfied customers."
      ]
    },
    {
      "cell_type": "markdown",
      "metadata": {
        "id": "rFu4xreNphqO"
      },
      "source": [
        "##### 3. Will the gained insights help creating a positive business impact?\n",
        "Are there any insights that lead to negative growth? Justify with specific reason."
      ]
    },
    {
      "cell_type": "markdown",
      "metadata": {
        "id": "ey_0qi68phqO"
      },
      "source": [
        "Positive Business Impact: Zomato can recognize that all reviewers, regardless of follower count, contribute positively to the high average ratings, reinforcing the general quality perception. Understanding the slight difference in rating behavior can inform how Zomato presents reviews, perhaps distinguishing between general user reviews and those from more \"critical\" (influential) reviewers.\n",
        "\n",
        "Potential Negative Growth Insights: The observation that highly followed reviewers might be slightly more critical (though still giving high ratings) suggests that Zomato or restaurants should pay particular attention to feedback from these influential users. A slightly lower rating from a highly followed reviewer could have a disproportionate negative impact on a restaurant's perception if not addressed, as their opinions carry more weight."
      ]
    },
    {
      "cell_type": "markdown",
      "metadata": {
        "id": "YJ55k-q6phqO"
      },
      "source": [
        "#### Chart - 9"
      ]
    },
    {
      "cell_type": "code",
      "execution_count": null,
      "metadata": {
        "id": "B2aS4O1ophqO"
      },
      "outputs": [],
      "source": [
        "# Chart - 9 visualization code\n",
        "\n",
        "merged_df['Month'] = merged_df['Time'].dt.month_name()\n",
        "\n",
        "month_order = ['January', 'February', 'March', 'April', 'May', 'June', 'July', 'August', 'September', 'October', 'November', 'December']\n",
        "merged_df['Month'] = pd.Categorical(merged_df['Month'], categories=month_order, ordered=True)\n",
        "\n",
        "reviews_by_month = merged_df['Month'].value_counts().sort_index()\n",
        "\n",
        "plt.figure(figsize=(12, 7))\n",
        "sns.lineplot(x=reviews_by_month.index, y=reviews_by_month.values, marker='o', palette='muted')\n",
        "plt.title('Distribution of Reviews Across Months')\n",
        "plt.xlabel('Month')\n",
        "plt.ylabel('Number of Reviews')\n",
        "plt.xticks(rotation=45, ha='right')\n",
        "plt.grid(axis='y', linestyle='--', alpha=0.7)\n",
        "plt.tight_layout()\n",
        "plt.show()"
      ]
    },
    {
      "cell_type": "markdown",
      "metadata": {
        "id": "gCFgpxoyphqP"
      },
      "source": [
        "##### 1. Why did you pick the specific chart?"
      ]
    },
    {
      "cell_type": "markdown",
      "metadata": {
        "id": "TVxDimi2phqP"
      },
      "source": [
        "I chose a line plot to visualize the trend of review distribution across months. A line plot is ideal for showing patterns and changes over a continuous or ordered categorical variable like months, making it easy to identify seasonal trends or specific periods of high/low activity."
      ]
    },
    {
      "cell_type": "markdown",
      "metadata": {
        "id": "OVtJsKN_phqQ"
      },
      "source": [
        "##### 2. What is/are the insight(s) found from the chart?"
      ]
    },
    {
      "cell_type": "markdown",
      "metadata": {
        "id": "ngGi97qjphqQ"
      },
      "source": [
        "The review data seems to be concentrated primarily in May 2019, with a sharp drop before and after. This strongly suggests that the dataset covers a very specific and limited time frame, rather than a full year or multi-year period.\n",
        "\n",
        "There's minimal or no data for most other months, implying either a data collection limitation or that the dataset is a snapshot from a particular period."
      ]
    },
    {
      "cell_type": "markdown",
      "metadata": {
        "id": "lssrdh5qphqQ"
      },
      "source": [
        "##### 3. Will the gained insights help creating a positive business impact?\n",
        "Are there any insights that lead to negative growth? Justify with specific reason."
      ]
    },
    {
      "cell_type": "markdown",
      "metadata": {
        "id": "tBpY5ekJphqQ"
      },
      "source": [
        "These insights are crucial for understanding data limitations:\n",
        "\n",
        "Positive Business Impact: Understanding this data limitation means that any conclusions drawn about seasonal trends in review activity or restaurant performance based on this dataset alone would be unreliable. This knowledge prevents drawing incorrect business strategies based on incomplete time-series data. If Zomato needs seasonal insights, they would know to acquire a more comprehensive dataset.\n",
        "\n",
        "Potential Negative Growth Insights: If this data is incorrectly assumed to represent a full year of activity, business decisions (e.g., staffing, marketing campaigns) based on observed \"monthly trends\" could be severely flawed, leading to wasted resources or missed opportunities in reality. It highlights a need for more robust, longitudinal data for accurate temporal analysis."
      ]
    },
    {
      "cell_type": "markdown",
      "metadata": {
        "id": "U2RJ9gkRphqQ"
      },
      "source": [
        "#### Chart - 10"
      ]
    },
    {
      "cell_type": "code",
      "execution_count": null,
      "metadata": {
        "id": "GM7a4YP4phqQ"
      },
      "outputs": [],
      "source": [
        "# Chart - 10 visualization code\n",
        "# Calculate number of cuisines per restaurant\n",
        "# Ensure this line is run BEFORE the groupby statement\n",
        "merged_df['Num_Cuisines'] = merged_df['Cuisines'].apply(lambda x: len(x.split(', ')) if pd.notna(x) else 0)\n",
        "\n",
        "# Count restaurants by number of cuisines, considering each unique restaurant from metadata\n",
        "# Aggregate to get unique restaurant counts for this analysis\n",
        "# Corrected column name from 'Name_review' to 'Restaurant'\n",
        "restaurant_cuisine_counts = merged_df.groupby('Restaurant')['Num_Cuisines'].first().value_counts().sort_index()\n",
        "\n",
        "\n",
        "plt.figure(figsize=(10, 6))\n",
        "sns.barplot(x=restaurant_cuisine_counts.index, y=restaurant_cuisine_counts.values, palette='Greens_d')\n",
        "plt.title('Number of Restaurants by Number of Cuisines Served')\n",
        "plt.xlabel('Number of Cuisines Served')\n",
        "plt.ylabel('Number of Restaurants')\n",
        "plt.xticks(rotation=0)\n",
        "plt.tight_layout()\n",
        "plt.show()"
      ]
    },
    {
      "cell_type": "markdown",
      "metadata": {
        "id": "1M8mcRywphqQ"
      },
      "source": [
        "##### 1. Why did you pick the specific chart?"
      ]
    },
    {
      "cell_type": "markdown",
      "metadata": {
        "id": "8agQvks0phqQ"
      },
      "source": [
        "I chose a bar chart to visualize the distribution of restaurants based on the number of cuisines they serve. This allows for a clear comparison of counts across discrete categories (number of cuisines), revealing common operational models among restaurants."
      ]
    },
    {
      "cell_type": "markdown",
      "metadata": {
        "id": "tgIPom80phqQ"
      },
      "source": [
        "##### 2. What is/are the insight(s) found from the chart?"
      ]
    },
    {
      "cell_type": "markdown",
      "metadata": {
        "id": "Qp13pnNzphqQ"
      },
      "source": [
        "A significant majority of restaurants tend to serve a moderate number of cuisines (e.g., 2 to 5).\n",
        "\n",
        "Very few restaurants specialize in only one cuisine, and likewise, very few offer a very large number of different cuisines (e.g., 6+).\n",
        "\n",
        "This suggests a balance between specialization and offering variety to customers."
      ]
    },
    {
      "cell_type": "markdown",
      "metadata": {
        "id": "JMzcOPDDphqR"
      },
      "source": [
        "##### 3. Will the gained insights help creating a positive business impact?\n",
        "Are there any insights that lead to negative growth? Justify with specific reason."
      ]
    },
    {
      "cell_type": "markdown",
      "metadata": {
        "id": "R4Ka1PC2phqR"
      },
      "source": [
        "Positive Business Impact: Zomato can use this insight to understand typical restaurant models. For instance, most restaurants aim for a diverse but manageable menu. This can inform recommendations, allowing Zomato to highlight restaurants offering a sweet spot of variety. It can also help Zomato advise new restaurant partners on optimal menu breadth.\n",
        "\n",
        "Potential Negative Growth Insights: If customer demand increasingly favors highly specialized restaurants (single cuisine) or extremely diverse \"food court\" style options (many cuisines), and the current supply is skewed towards 2-5 cuisines, this could represent a mismatch. This could lead to a perceived lack of specific options for customers and potential missed market segments for Zomato."
      ]
    },
    {
      "cell_type": "markdown",
      "metadata": {
        "id": "x-EpHcCOp1ci"
      },
      "source": [
        "#### Chart - 11"
      ]
    },
    {
      "cell_type": "code",
      "execution_count": null,
      "metadata": {
        "id": "mAQTIvtqp1cj"
      },
      "outputs": [],
      "source": [
        "# Chart - 11 visualization code\n",
        "\n",
        "top_reviewers_by_reviews = merged_df.groupby('Reviewer')['Reviews_Count'].first().sort_values(ascending=False).head(10)\n",
        "\n",
        "plt.figure(figsize=(12, 7))\n",
        "sns.barplot(x=top_reviewers_by_reviews.index, y=top_reviewers_by_reviews.values, palette='YlGnBu_r')\n",
        "plt.title('Top 10 Reviewers by Number of Reviews Posted')\n",
        "plt.xlabel('Reviewer Name')\n",
        "plt.ylabel('Number of Reviews')\n",
        "plt.xticks(rotation=45, ha='right')\n",
        "plt.tight_layout()\n",
        "plt.show()"
      ]
    },
    {
      "cell_type": "markdown",
      "metadata": {
        "id": "X_VqEhTip1ck"
      },
      "source": [
        "##### 1. Why did you pick the specific chart?"
      ]
    },
    {
      "cell_type": "markdown",
      "metadata": {
        "id": "-vsMzt_np1ck"
      },
      "source": [
        "I chose a bar chart to highlight the top 10 reviewers based on their total number of reviews. This is a simple yet effective way to visually compare magnitudes (number of reviews) across distinct entities (reviewer names), clearly identifying the most prolific contributors."
      ]
    },
    {
      "cell_type": "markdown",
      "metadata": {
        "id": "8zGJKyg5p1ck"
      },
      "source": [
        "##### 2. What is/are the insight(s) found from the chart?"
      ]
    },
    {
      "cell_type": "markdown",
      "metadata": {
        "id": "ZYdMsrqVp1ck"
      },
      "source": [
        "There are a few highly active reviewers who contribute a significantly larger number of reviews compared to others.\n",
        "\n",
        "The Anonymous category (from imputed missing values) might appear here if it's one of the top categories, indicating a segment of reviewers whose names weren't captured.\n",
        "\n",
        "This highlights the presence of \"power users\" or community leaders who are frequent contributors to the platform."
      ]
    },
    {
      "cell_type": "markdown",
      "metadata": {
        "id": "PVzmfK_Ep1ck"
      },
      "source": [
        "##### 3. Will the gained insights help creating a positive business impact?\n",
        "Are there any insights that lead to negative growth? Justify with specific reason."
      ]
    },
    {
      "cell_type": "markdown",
      "metadata": {
        "id": "druuKYZpp1ck"
      },
      "source": [
        "Yes, these insights can be highly beneficial:\n",
        "\n",
        "Positive Business Impact: Zomato can identify and engage with these top reviewers. They are valuable assets as they provide consistent content and feedback. Strategies could include:\n",
        "\n",
        "Offering them exclusive perks or early access to new features.\n",
        "\n",
        "Inviting them to special events or restaurant openings.\n",
        "\n",
        "Highlighting their reviews more prominently, as they likely offer more comprehensive insights.\n",
        "\n",
        "This can foster a stronger community and encourage more user-generated content, ultimately benefiting other users looking for reliable reviews.\n",
        "\n",
        "Potential Negative Growth Insights: If the platform heavily relies on a very small number of highly active reviewers for content, it could be a risk. If these power users become inactive or move to competing platforms, Zomato could face a content gap. This highlights the importance of continually growing the reviewer base beyond just the top contributors."
      ]
    },
    {
      "cell_type": "markdown",
      "metadata": {
        "id": "n3dbpmDWp1ck"
      },
      "source": [
        "#### Chart - 12"
      ]
    },
    {
      "cell_type": "code",
      "execution_count": null,
      "metadata": {
        "id": "bwevp1tKp1ck"
      },
      "outputs": [],
      "source": [
        "# Chart - 12 visualization code\n",
        "\n",
        "# Aggregate reviews_count and followers_count for each reviewer to get unique points\n",
        "reviewer_activity = merged_df.groupby('Reviewer')[['Reviews_Count', 'Followers_Count']].first().reset_index()\n",
        "\n",
        "plt.figure(figsize=(12, 7))\n",
        "sns.scatterplot(x='Reviews_Count', y='Followers_Count', data=reviewer_activity, alpha=0.6, s=50, hue='Followers_Count', size='Reviews_Count', sizes=(20, 400), palette='viridis', legend='brief')\n",
        "plt.xscale('log') # Log scale helps visualize highly skewed data\n",
        "plt.yscale('log') # Log scale helps visualize highly skewed data\n",
        "plt.title('Reviewer Activity: Reviews Count vs. Followers Count')\n",
        "plt.xlabel('Number of Reviews (log scale)')\n",
        "plt.ylabel('Number of Followers (log scale)')\n",
        "plt.grid(True, which=\"both\", ls=\"--\", c='0.7')\n",
        "plt.tight_layout()\n",
        "plt.show()"
      ]
    },
    {
      "cell_type": "markdown",
      "metadata": {
        "id": "ylSl6qgtp1ck"
      },
      "source": [
        "##### 1. Why did you pick the specific chart?"
      ]
    },
    {
      "cell_type": "markdown",
      "metadata": {
        "id": "m2xqNkiQp1ck"
      },
      "source": [
        "I chose a scatter plot with log scales for both axes to visualize the relationship between a reviewer's total reviews and their total followers. A scatter plot is ideal for showing the relationship between two numerical variables. Log scales are crucial here because both Reviews_Count and Followers_Count are highly skewed, with most values concentrated at the lower end and a few very high values. Log scaling helps to spread out the data points, making patterns and the behavior of larger values more visible. I've also added hue and size to encode follower count and review count visually."
      ]
    },
    {
      "cell_type": "markdown",
      "metadata": {
        "id": "ZWILFDl5p1ck"
      },
      "source": [
        "##### 2. What is/are the insight(s) found from the chart?"
      ]
    },
    {
      "cell_type": "markdown",
      "metadata": {
        "id": "x-lUsV2mp1ck"
      },
      "source": [
        "There is a clear strong positive correlation between the number of reviews a user has posted and the number of followers they have. Reviewers who write more reviews tend to accumulate more followers.\n",
        "\n",
        "Most data points are clustered in the lower-left corner (low reviews, low followers), indicating that the majority of Zomato users are casual reviewers.\n",
        "\n",
        "The plot effectively shows the existence of \"power reviewers\" in the upper-right region (high reviews, high followers), who are active and influential within the community."
      ]
    },
    {
      "cell_type": "markdown",
      "metadata": {
        "id": "M7G43BXep1ck"
      },
      "source": [
        "##### 3. Will the gained insights help creating a positive business impact?\n",
        "Are there any insights that lead to negative growth? Justify with specific reason."
      ]
    },
    {
      "cell_type": "markdown",
      "metadata": {
        "id": "5wwDJXsLp1cl"
      },
      "source": [
        "Positive Business Impact: This confirms that reviewer engagement (number of reviews) translates into influence (followers). Zomato can use this to:\n",
        "\n",
        "Identify Influencers: Systematically identify and recognize high-value reviewers who are genuinely contributing to the platform's content and community.\n",
        "\n",
        "Gamification and Incentives: Design gamification features or incentive programs that encourage users to write more reviews, knowing this will naturally build their influence and contribute more content.\n",
        "\n",
        "Content Quality Assurance: Prioritize reviews from highly followed users for quality checks or featured content, as their opinions are reaching a wider audience.\n",
        "\n",
        "Potential Negative Growth Insights: If the growth of new, influential reviewers is stagnant, Zomato might face a challenge in continually refreshing its top content creators. A reliance on a fixed set of \"old\" power users could lead to a less dynamic and less relatable content stream for new users over time. Zomato needs to ensure mechanisms are in place to nurture new reviewers into becoming influential members."
      ]
    },
    {
      "cell_type": "markdown",
      "metadata": {
        "id": "Ag9LCva-p1cl"
      },
      "source": [
        "#### Chart - 13"
      ]
    },
    {
      "cell_type": "code",
      "execution_count": null,
      "metadata": {
        "id": "EUfxeq9-p1cl"
      },
      "outputs": [],
      "source": [
        "\n",
        "# Chart - 13 visualization code\n",
        "reviews_per_restaurant = merged_df['Restaurant'].value_counts().head(20) # Top 20 restaurants by review count\n",
        "\n",
        "plt.figure(figsize=(12, 7))\n",
        "sns.barplot(x=reviews_per_restaurant.index, y=reviews_per_restaurant.values, palette='cividis')\n",
        "plt.title('Top 20 Restaurants by Number of Reviews Received')\n",
        "plt.xlabel('Restaurant Name')\n",
        "plt.ylabel('Number of Reviews')\n",
        "plt.xticks(rotation=60, ha='right')\n",
        "plt.tight_layout()\n",
        "plt.show()"
      ]
    },
    {
      "cell_type": "markdown",
      "metadata": {
        "id": "E6MkPsBcp1cl"
      },
      "source": [
        "##### 1. Why did you pick the specific chart?"
      ]
    },
    {
      "cell_type": "markdown",
      "metadata": {
        "id": "V22bRsFWp1cl"
      },
      "source": [
        "I chose a bar chart to display the top 20 restaurants by the number of reviews they have received. This chart type is excellent for ranking and comparing discrete entities (restaurant names) based on a quantitative measure (review count), making it easy to identify the most talked-about establishments."
      ]
    },
    {
      "cell_type": "markdown",
      "metadata": {
        "id": "2cELzS2fp1cl"
      },
      "source": [
        "##### 2. What is/are the insight(s) found from the chart?"
      ]
    },
    {
      "cell_type": "markdown",
      "metadata": {
        "id": "ozQPc2_Ip1cl"
      },
      "source": [
        "There's a significant variance in the number of reviews received by restaurants, indicating that a few restaurants are disproportionately more popular or active in terms of customer feedback compared to others.\n",
        "\n",
        "\"Beyond Flavours\" and \"Paradise\" appear to be among the top restaurants in terms of review volume, suggesting high customer traffic and engagement.\n",
        "\n",
        "This indicates that certain restaurants generate much more discussion and engagement on the platform."
      ]
    },
    {
      "cell_type": "markdown",
      "metadata": {
        "id": "3MPXvC8up1cl"
      },
      "source": [
        "##### 3. Will the gained insights help creating a positive business impact?\n",
        "Are there any insights that lead to negative growth? Justify with specific reason."
      ]
    },
    {
      "cell_type": "markdown",
      "metadata": {
        "id": "GL8l1tdLp1cl"
      },
      "source": [
        "Positive Business Impact: Zomato can use this information to highlight and promote these high-engagement restaurants. Featuring \"most reviewed\" or \"most talked about\" restaurants can drive more traffic to them, benefiting both the restaurants and Zomato (through higher order volumes/bookings). It also helps Zomato understand which types of restaurants (or specific restaurants) are driving customer engagement on the platform.\n",
        "\n",
        "Potential Negative Growth Insights: While popular restaurants are great, an over-reliance on a few dominant players for engagement could pose a risk. If these top restaurants were to leave the platform or face significant issues, it could impact overall user activity. Zomato might need strategies to encourage review activity for a broader range of restaurants to ensure a more robust and distributed engagement across its listings. It also suggests that many restaurants may be struggling to get customer feedback, making it harder for them to improve."
      ]
    },
    {
      "cell_type": "markdown",
      "metadata": {
        "id": "NC_X3p0fY2L0"
      },
      "source": [
        "#### Chart - 14 - Correlation Heatmap"
      ]
    },
    {
      "cell_type": "code",
      "execution_count": null,
      "metadata": {
        "id": "xyC9zolEZNRQ"
      },
      "outputs": [],
      "source": [
        "# Correlation Heatmap visualization code\n",
        "\n",
        "# Corrected column names to 'Cost' and 'Pictures'\n",
        "# Select only numerical columns for correlation\n",
        "numerical_df = merged_df[['Rating', 'Cost', 'Reviews_Count', 'Followers_Count', 'Pictures']].copy()\n",
        "\n",
        "plt.figure(figsize=(10, 8))\n",
        "sns.heatmap(numerical_df.corr(), annot=True, cmap='coolwarm', fmt=\".2f\", linewidths=.5)\n",
        "plt.title('Correlation Heatmap of Numerical Features')\n",
        "plt.show()"
      ]
    },
    {
      "cell_type": "markdown",
      "metadata": {
        "id": "UV0SzAkaZNRQ"
      },
      "source": [
        "##### 1. Why did you pick the specific chart?"
      ]
    },
    {
      "cell_type": "markdown",
      "metadata": {
        "id": "DVPuT8LYZNRQ"
      },
      "source": [
        "I chose a correlation heatmap to visualize the linear relationships between all numerical features in the dataset. A heatmap is excellent for quickly identifying patterns of correlation (positive, negative, or no correlation) across multiple variables simultaneously. The color intensity and annotated values make the strength and direction of these relationships immediately apparent."
      ]
    },
    {
      "cell_type": "markdown",
      "metadata": {
        "id": "YPEH6qLeZNRQ"
      },
      "source": [
        "##### 2. What is/are the insight(s) found from the chart?"
      ]
    },
    {
      "cell_type": "markdown",
      "metadata": {
        "id": "bfSqtnDqZNRR"
      },
      "source": [
        "Positive Correlation between Reviews_Count and Followers_Count: There's a strong positive correlation between the number of reviews a user has given and the number of followers they have (as expected, more active reviewers tend to attract followers).\n",
        "\n",
        "Weak Correlations with Rating: 'Rating' shows very weak correlations with Cost, Reviews_Count, Followers_Count, and Pictures. This suggests that factors like cost, reviewer activity, or the number of pictures accompanying a review do not have a strong linear relationship with the actual rating given.\n",
        "\n",
        "Weak Correlation of Pictures: Pictures also shows very weak correlations with other numerical variables.\n",
        "\n",
        "Cost and Reviewer Activity: Cost has very weak or negligible correlation with Reviews_Count and Followers_Count."
      ]
    },
    {
      "cell_type": "markdown",
      "metadata": {
        "id": "q29F0dvdveiT"
      },
      "source": [
        "#### Chart - 15 - Pair Plot"
      ]
    },
    {
      "cell_type": "code",
      "execution_count": null,
      "metadata": {
        "id": "o58-TEIhveiU"
      },
      "outputs": [],
      "source": [
        "# Pair Plot visualization code\n",
        "\n",
        "# Corrected column names to 'Cost' and 'Pictures'\n",
        "# Select numerical columns for the pair plot\n",
        "numerical_cols_for_pairplot = ['Rating', 'Cost', 'Reviews_Count', 'Followers_Count', 'Pictures']\n",
        "\n",
        "sns.pairplot(numerical_df[numerical_cols_for_pairplot], diag_kind='kde')\n",
        "plt.suptitle('Pair Plot of Numerical Features', y=1.02) # Adjust title position\n",
        "plt.show()"
      ]
    },
    {
      "cell_type": "markdown",
      "metadata": {
        "id": "EXh0U9oCveiU"
      },
      "source": [
        "##### 1. Why did you pick the specific chart?"
      ]
    },
    {
      "cell_type": "markdown",
      "metadata": {
        "id": "eMmPjTByveiU"
      },
      "source": [
        "I chose a pair plot because it provides a comprehensive overview of the distributions of individual numerical variables (along the diagonal, shown as KDE plots) and their pairwise relationships (scatter plots in the off-diagonal cells). It's an excellent tool for quickly detecting linear and non-linear correlations, identifying clusters, and checking for outliers across multiple numerical features in one go."
      ]
    },
    {
      "cell_type": "markdown",
      "metadata": {
        "id": "22aHeOlLveiV"
      },
      "source": [
        "##### 2. What is/are the insight(s) found from the chart?"
      ]
    },
    {
      "cell_type": "markdown",
      "metadata": {
        "id": "uPQ8RGwHveiV"
      },
      "source": [
        "Individual Distributions: The diagonal plots (KDEs) confirm the insights from univariate analysis:\n",
        "\n",
        "Rating is heavily skewed towards higher values (4-5).\n",
        "\n",
        "Cost shows a broader distribution but with more density at lower and mid-ranges.\n",
        "\n",
        "Reviews_Count and Followers_Count are highly skewed, with most reviewers having very few reviews/followers, and a long tail of very active/followed users.\n",
        "\n",
        "Pairwise Relationships (Scatter Plots):\n",
        "\n",
        "The scatter plots generally reinforce the weak linear correlations observed in the heatmap. No strong linear relationships are immediately apparent between Rating and other variables like Cost, Reviews_Count, Followers_Count, or Pictures.\n",
        "\n",
        "The strong positive relationship between Reviews_Count and Followers_Count is clearly visible as a dense cluster expanding outwards from the origin.\n",
        "\n",
        "For highly skewed variables like Reviews_Count and Followers_Count, the scatter plots often show a dense concentration near zero and sparse points for higher values."
      ]
    },
    {
      "cell_type": "markdown",
      "metadata": {
        "id": "g-ATYxFrGrvw"
      },
      "source": [
        "## ***5. Hypothesis Testing***"
      ]
    },
    {
      "cell_type": "markdown",
      "metadata": {
        "id": "Yfr_Vlr8HBkt"
      },
      "source": [
        "### Based on your chart experiments, define three hypothetical statements from the dataset. In the next three questions, perform hypothesis testing to obtain final conclusion about the statements through your code and statistical testing."
      ]
    },
    {
      "cell_type": "markdown",
      "metadata": {
        "id": "-7MS06SUHkB-"
      },
      "source": [
        "Answer Here."
      ]
    },
    {
      "cell_type": "markdown",
      "metadata": {
        "id": "8yEUt7NnHlrM"
      },
      "source": [
        "### Hypothetical Statement - 1"
      ]
    },
    {
      "cell_type": "markdown",
      "metadata": {
        "id": "tEA2Xm5dHt1r"
      },
      "source": [
        "#### 1. State Your research hypothesis as a null hypothesis and alternate hypothesis."
      ]
    },
    {
      "cell_type": "markdown",
      "metadata": {
        "id": "HI9ZP0laH0D-"
      },
      "source": [
        "Null Hypothesis (H_0): There is no significant difference in the average rating between restaurants primarily offering North Indian cuisine and those primarily offering Chinese cuisine.\n",
        "\n",
        "H_0:\n",
        "mu_textNorthIndianRating=\n",
        "mu_textChineseRating\n",
        "\n",
        "Alternate Hypothesis (H_1): There is a significant difference in the average rating between restaurants primarily offering North Indian cuisine and those primarily offering Chinese cuisine.\n",
        "\n",
        "H_1:\n",
        "mu_textNorthIndianRating\n",
        "neq\n",
        "mu_textChineseRating"
      ]
    },
    {
      "cell_type": "markdown",
      "metadata": {
        "id": "I79__PHVH19G"
      },
      "source": [
        "#### 2. Perform an appropriate statistical test."
      ]
    },
    {
      "cell_type": "code",
      "execution_count": null,
      "metadata": {
        "id": "oZrfquKtyian"
      },
      "outputs": [],
      "source": [
        "# Perform Statistical Test to obtain P-Value\n",
        "\n",
        "from scipy import stats\n",
        "\n",
        "# First, filter the merged_df to get ratings for North Indian and Chinese cuisines\n",
        "# Note: A restaurant can offer multiple cuisines. For this test, we consider if it offers *at least* one of these.\n",
        "# A more refined approach might consider exclusive offerings or primary cuisine.\n",
        "# For simplicity, let's filter based on the presence of the cuisine string in the 'Cuisines' column.\n",
        "\n",
        "north_indian_ratings = merged_df[merged_df['Cuisines'].str.contains('North Indian', na=False)]['Rating']\n",
        "chinese_ratings = merged_df[merged_df['Cuisines'].str.contains('Chinese', na=False)]['Rating']\n",
        "\n",
        "# Since these are independent groups and we're comparing means, an independent samples t-test is appropriate.\n",
        "# We first check for equality of variances using Levene's test.\n",
        "levene_test_result = stats.levene(north_indian_ratings, chinese_ratings)\n",
        "print(f\"Levene's Test P-value: {levene_test_result.pvalue:.3f}\")\n",
        "\n",
        "# Perform independent samples t-test\n",
        "# If p-value from Levene's test is < 0.05, assume unequal variances (equal_var=False)\n",
        "# Otherwise, assume equal variances (equal_var=True)\n",
        "if levene_test_result.pvalue < 0.05:\n",
        "    t_stat, p_value = stats.ttest_ind(north_indian_ratings, chinese_ratings, equal_var=False)\n",
        "    print(\"Performed Welch's t-test (unequal variances assumed)\")\n",
        "else:\n",
        "    t_stat, p_value = stats.ttest_ind(north_indian_ratings, chinese_ratings, equal_var=True)\n",
        "    print(\"Performed Independent samples t-test (equal variances assumed)\")\n",
        "\n",
        "print(f\"T-statistic: {t_stat:.3f}\")\n",
        "print(f\"P-value: {p_value:.3f}\")\n",
        "\n",
        "# Conclusion\n",
        "alpha = 0.05\n",
        "print(f\"\\nSignificance level (alpha): {alpha}\")\n",
        "if p_value < alpha:\n",
        "    print(f\"Since P-value ({p_value:.3f}) < alpha ({alpha}), we reject the null hypothesis.\")\n",
        "    print(\"Conclusion: There is a statistically significant difference in the average rating between restaurants offering North Indian cuisine and those offering Chinese cuisine.\")\n",
        "else:\n",
        "    print(f\"Since P-value ({p_value:.3f}) >= alpha ({alpha}), we fail to reject the null hypothesis.\")\n",
        "    print(\"Conclusion: There is no statistically significant difference in the average rating between restaurants offering North Indian cuisine and those offering Chinese cuisine.\")\n",
        "\n",
        "print(f\"\\nAverage Rating for North Indian: {north_indian_ratings.mean():.3f}\")\n",
        "print(f\"Average Rating for Chinese: {chinese_ratings.mean():.3f}\")"
      ]
    },
    {
      "cell_type": "markdown",
      "metadata": {
        "id": "Ou-I18pAyIpj"
      },
      "source": [
        "##### Which statistical test have you done to obtain P-Value?"
      ]
    },
    {
      "cell_type": "markdown",
      "metadata": {
        "id": "s2U0kk00ygSB"
      },
      "source": [
        "I performed an Independent Samples t-test (specifically Welch's t-test if variances were unequal, or Student's t-test if variances were equal). Prior to that, Levene's test was conducted to check for the equality of variances between the two groups."
      ]
    },
    {
      "cell_type": "markdown",
      "metadata": {
        "id": "fF3858GYyt-u"
      },
      "source": [
        "##### Why did you choose the specific statistical test?"
      ]
    },
    {
      "cell_type": "markdown",
      "metadata": {
        "id": "HO4K0gP5y3B4"
      },
      "source": [
        "I chose the Independent Samples t-test because:\n",
        "\n",
        "Comparison of Two Independent Groups: We are comparing the means of two distinct and independent groups (ratings for North Indian cuisine vs. ratings for Chinese cuisine). The ratings within each group are not related to each other.\n",
        "\n",
        "Numerical Data: The dependent variable, 'Rating', is numerical.\n",
        "\n",
        "Levene's Test for Variance Assumption: The t-test has an assumption about the equality of variances. Levene's test helps determine whether to use Student's t-test (assumes equal variances) or Welch's t-test (does not assume equal variances, more robust when variances are unequal)."
      ]
    },
    {
      "cell_type": "markdown",
      "metadata": {
        "id": "4_0_7-oCpUZd"
      },
      "source": [
        "### Hypothetical Statement - 2"
      ]
    },
    {
      "cell_type": "markdown",
      "metadata": {
        "id": "hwyV_J3ipUZe"
      },
      "source": [
        "#### 1. State Your research hypothesis as a null hypothesis and alternate hypothesis."
      ]
    },
    {
      "cell_type": "markdown",
      "metadata": {
        "id": "FnpLGJ-4pUZe"
      },
      "source": [
        "Null Hypothesis (H_0): There is no significant linear relationship (correlation) between the number of pictures posted with a review and the rating given.\n",
        "\n",
        "H_0:\n",
        "rho=0 (where\n",
        "rho is the Pearson correlation coefficient)\n",
        "\n",
        "Alternate Hypothesis (H_1): There is a significant linear relationship (correlation) between the number of pictures posted with a review and the rating given.\n",
        "\n",
        "H_1:\n",
        "rho\n",
        "neq0"
      ]
    },
    {
      "cell_type": "markdown",
      "metadata": {
        "id": "3yB-zSqbpUZe"
      },
      "source": [
        "#### 2. Perform an appropriate statistical test."
      ]
    },
    {
      "cell_type": "code",
      "execution_count": null,
      "metadata": {
        "id": "sWxdNTXNpUZe"
      },
      "outputs": [],
      "source": [
        "\n",
        "# Perform Statistical Test to obtain P-Value\n",
        "from scipy.stats import pearsonr\n",
        "\n",
        "# Drop rows with NaN in the relevant columns if any, to ensure calculation validity\n",
        "df_for_corr = merged_df[['Pictures', 'Rating']].dropna()\n",
        "\n",
        "correlation_coefficient, p_value = pearsonr(df_for_corr['Pictures'], df_for_corr['Rating'])\n",
        "\n",
        "print(f\"Pearson Correlation Coefficient: {correlation_coefficient:.3f}\")\n",
        "print(f\"P-value: {p_value:.3f}\")\n",
        "\n",
        "# Conclusion\n",
        "alpha = 0.05\n",
        "print(f\"\\nSignificance level (alpha): {alpha}\")\n",
        "if p_value < alpha:\n",
        "    print(f\"Since P-value ({p_value:.3f}) < alpha ({alpha}), we reject the null hypothesis.\")\n",
        "    print(\"Conclusion: There is a statistically significant linear relationship between the number of pictures posted and the rating given.\")\n",
        "else:\n",
        "    print(f\"Since P-value ({p_value:.3f}) >= alpha ({alpha}), we fail to reject the null hypothesis.\")\n",
        "    print(\"Conclusion: There is no statistically significant linear relationship between the number of pictures posted and the rating given.\")"
      ]
    },
    {
      "cell_type": "markdown",
      "metadata": {
        "id": "dEUvejAfpUZe"
      },
      "source": [
        "##### Which statistical test have you done to obtain P-Value?"
      ]
    },
    {
      "cell_type": "markdown",
      "metadata": {
        "id": "oLDrPz7HpUZf"
      },
      "source": [
        "I performed a Pearson Correlation Coefficient test."
      ]
    },
    {
      "cell_type": "markdown",
      "metadata": {
        "id": "Fd15vwWVpUZf"
      },
      "source": [
        "##### Why did you choose the specific statistical test?"
      ]
    },
    {
      "cell_type": "markdown",
      "metadata": {
        "id": "4xOGYyiBpUZf"
      },
      "source": [
        "I chose the Pearson Correlation Coefficient test because:\n",
        "\n",
        "Relationship between Two Numerical Variables: We are examining the linear relationship between two continuous numerical variables: 'Pictures' (number of pictures) and 'Rating'.\n",
        "\n",
        "Measures Linear Association: Pearson's r quantifies the strength and direction of a linear relationship. The p-value associated with it indicates the probability of observing such a correlation by chance if no true correlation exists."
      ]
    },
    {
      "cell_type": "markdown",
      "metadata": {
        "id": "bn_IUdTipZyH"
      },
      "source": [
        "### Hypothetical Statement - 3"
      ]
    },
    {
      "cell_type": "markdown",
      "metadata": {
        "id": "49K5P_iCpZyH"
      },
      "source": [
        "#### 1. State Your research hypothesis as a null hypothesis and alternate hypothesis."
      ]
    },
    {
      "cell_type": "markdown",
      "metadata": {
        "id": "7gWI5rT9pZyH"
      },
      "source": [
        "Null Hypothesis (H_0): There is no significant difference in the average rating given by reviewers with 0-10 followers and those with 1000+ followers.\n",
        "\n",
        "H_0:\n",
        "mu_text0−10FollowersRating=\n",
        "mu_text1000+FollowersRating\n",
        "\n",
        "Alternate Hypothesis (H_1): There is a significant difference in the average rating given by reviewers with 0-10 followers and those with 1000+ followers.\n",
        "\n",
        "H_1:\n",
        "mu_text0−10FollowersRating\n",
        "neq\n",
        "mu_text1000+FollowersRating"
      ]
    },
    {
      "cell_type": "markdown",
      "metadata": {
        "id": "Nff-vKELpZyI"
      },
      "source": [
        "#### 2. Perform an appropriate statistical test."
      ]
    },
    {
      "cell_type": "code",
      "execution_count": null,
      "metadata": {
        "id": "s6AnJQjtpZyI"
      },
      "outputs": [],
      "source": [
        "# Perform Statistical Test to obtain P-Value\n",
        "\n",
        "\n",
        "from scipy import stats\n",
        "\n",
        "# Filter for the two groups based on 'Followers_Count'\n",
        "few_followers_ratings = merged_df[merged_df['Followers_Count'] <= 10]['Rating']\n",
        "many_followers_ratings = merged_df[merged_df['Followers_Count'] >= 1000]['Rating']\n",
        "\n",
        "# Ensure there's enough data in both groups for the test\n",
        "if len(few_followers_ratings) == 0 or len(many_followers_ratings) == 0:\n",
        "    print(\"One or both groups have no data. Cannot perform t-test.\")\n",
        "else:\n",
        "    # Check for equality of variances using Levene's test\n",
        "    levene_test_result = stats.levene(few_followers_ratings, many_followers_ratings)\n",
        "    print(f\"Levene's Test P-value: {levene_test_result.pvalue:.3f}\")\n",
        "\n",
        "    # Perform independent samples t-test\n",
        "    if levene_test_result.pvalue < 0.05:\n",
        "        t_stat, p_value = stats.ttest_ind(few_followers_ratings, many_followers_ratings, equal_var=False)\n",
        "        print(\"Performed Welch's t-test (unequal variances assumed)\")\n",
        "    else:\n",
        "        t_stat, p_value = stats.ttest_ind(few_followers_ratings, many_followers_ratings, equal_var=True)\n",
        "        print(\"Performed Independent samples t-test (equal variances assumed)\")\n",
        "\n",
        "    print(f\"T-statistic: {t_stat:.3f}\")\n",
        "    print(f\"P-value: {p_value:.3f}\")\n",
        "\n",
        "    # Conclusion\n",
        "    alpha = 0.05\n",
        "    print(f\"\\nSignificance level (alpha): {alpha}\")\n",
        "    if p_value < alpha:\n",
        "        print(f\"Since P-value ({p_value:.3f}) < alpha ({alpha}), we reject the null hypothesis.\")\n",
        "        print(\"Conclusion: There is a statistically significant difference in the average rating between reviewers with few followers (0-10) and those with many followers (1000+).\")\n",
        "    else:\n",
        "        print(f\"Since P-value ({p_value:.3f}) >= alpha ({alpha}), we fail to reject the null hypothesis.\")\n",
        "        print(\"Conclusion: There is no statistically significant difference in the average rating between reviewers with few followers (0-10) and those with many followers (1000+).\")\n",
        "\n",
        "    print(f\"\\nAverage Rating for Few Followers (0-10): {few_followers_ratings.mean():.3f}\")\n",
        "    print(f\"Average Rating for Many Followers (1000+): {many_followers_ratings.mean():.3f}\")"
      ]
    },
    {
      "cell_type": "markdown",
      "metadata": {
        "id": "kLW572S8pZyI"
      },
      "source": [
        "##### Which statistical test have you done to obtain P-Value?"
      ]
    },
    {
      "cell_type": "markdown",
      "metadata": {
        "id": "ytWJ8v15pZyI"
      },
      "source": [
        "I performed an Independent Samples t-test, accompanied by Levene's test for equality of variances. Depending on Levene's result, either Student's t-test or Welch's t-test was applied."
      ]
    },
    {
      "cell_type": "markdown",
      "metadata": {
        "id": "dWbDXHzopZyI"
      },
      "source": [
        "##### Why did you choose the specific statistical test?"
      ]
    },
    {
      "cell_type": "markdown",
      "metadata": {
        "id": "M99G98V6pZyI"
      },
      "source": [
        "I chose the Independent Samples t-test for the same reasons as in Hypothetical Statement 1:\n",
        "\n",
        "Comparison of Two Independent Groups: We are comparing the means of two distinct groups of reviewers (those with few followers vs. those with many followers).\n",
        "\n",
        "Numerical Data: The dependent variable, 'Rating', is numerical.\n",
        "\n",
        "Levene's Test for Variance Assumption: To ensure the correct variant of the t-test is used based on whether the variances of the two groups are equal or unequal."
      ]
    },
    {
      "cell_type": "markdown",
      "metadata": {
        "id": "yLjJCtPM0KBk"
      },
      "source": [
        "## ***6. Feature Engineering & Data Pre-processing***"
      ]
    },
    {
      "cell_type": "markdown",
      "metadata": {
        "id": "xiyOF9F70UgQ"
      },
      "source": [
        "### 1. Handling Missing Values"
      ]
    },
    {
      "cell_type": "code",
      "execution_count": null,
      "metadata": {
        "id": "iRsAHk1K0fpS"
      },
      "outputs": [],
      "source": [
        "# Handling Missing Values & Missing Value Imputation\n",
        "\n",
        "\n",
        "# Rechecking for missing values after initial wrangling and merging\n",
        "print(\"Missing values in merged_df before final handling:\\n\", merged_df.isnull().sum())\n",
        "\n",
        "# As per previous wrangling, most critical NaNs were addressed.\n",
        "# 'Links_review' and 'Time_review' are review-specific, and 'Timings' and 'Collections' (from metadata) were filled.\n",
        "# The 'Restaurant' and 'Name' columns are from different sources but refer to the same entity.\n",
        "# Let's verify if any 'Name' (from metadata) became NaN due to merge failures (no match).\n",
        "# If a review's restaurant name didn't match any in the metadata, 'Name', 'Links', 'Cost', 'Collections', 'Cuisines', 'Timings' will be NaN.\n",
        "# Let's count how many rows lost their restaurant metadata due to merge.\n",
        "nan_metadata_rows = merged_df[merged_df['Name'].isnull()].shape[0]\n",
        "print(f\"\\nNumber of reviews whose restaurant metadata could not be merged: {nan_metadata_rows}\")\n",
        "\n",
        "# For now, let's drop rows where essential metadata (like 'Name' from metadata, implying other metadata columns are also NaN) is missing after merge,\n",
        "# as these reviews cannot be linked to restaurant characteristics for clustering.\n",
        "if nan_metadata_rows > 0:\n",
        "    merged_df.dropna(subset=['Name'], inplace=True)\n",
        "    print(f\"Dropped {nan_metadata_rows} rows with missing restaurant metadata after merge.\")\n",
        "    print(\"New shape of merged_df:\", merged_df.shape)\n",
        "\n",
        "print(\"\\nMissing values in merged_df after final handling:\\n\", merged_df.isnull().sum())"
      ]
    },
    {
      "cell_type": "markdown",
      "metadata": {
        "id": "7wuGOrhz0itI"
      },
      "source": [
        "#### What all missing value imputation techniques have you used and why did you use those techniques?"
      ]
    },
    {
      "cell_type": "markdown",
      "metadata": {
        "id": "1ixusLtI0pqI"
      },
      "source": [
        "In the initial data wrangling phase, we performed several missing value imputation and handling techniques:\n",
        "\n",
        "Imputation for Categorical Features (Collections, Timings):\n",
        "\n",
        "Technique Used: Filled missing values (NaN) with the string 'Unknown Collection' and 'Unknown Timings' respectively.\n",
        "\n",
        "Reason: These are categorical features. Imputing with a specific 'Unknown' category is appropriate here as it allows us to retain the rows without losing information, while explicitly marking that these restaurants lack a specific collection tag or timing information. Dropping these rows might lead to significant data loss if many restaurants fall into this category.\n",
        "\n",
        "Imputation for Numerical Feature (Rating):\n",
        "\n",
        "Technique Used: Converted 'Rating' to numeric, coercing errors, then filled resultant NaN values with the median rating.\n",
        "\n",
        "Reason: 'Rating' is a numerical feature. The median is robust to outliers and represents a typical rating value, making it a suitable choice for imputation, especially given the skewed distribution of ratings observed in EDA. This helps retain review data points even if the rating was missing or malformed.\n",
        "\n",
        "\n",
        "Dropping Rows with Missing Critical Data (Review, Time):\n",
        "\n",
        "Technique Used: Rows where the Review text was missing, or where Time conversion failed (indicating malformed date strings), were dropped.\n",
        "\n",
        "Reason: Review text is fundamental for sentiment analysis, and a missing review text makes that data point unusable for NLP. Similarly, Time data is important for any temporal analysis. Given the relatively small number of such missing values compared to the overall dataset size, dropping these rows ensures data integrity for key analytical tasks without significant data loss.\n",
        "\n"
      ]
    },
    {
      "cell_type": "markdown",
      "metadata": {
        "id": "id1riN9m0vUs"
      },
      "source": [
        "### 2. Handling Outliers"
      ]
    },
    {
      "cell_type": "code",
      "execution_count": null,
      "metadata": {
        "id": "M6w2CzZf04JK"
      },
      "outputs": [],
      "source": [
        "\n",
        "\n",
        "# Handling Outliers & Outlier treatments\n",
        "\n",
        "# Numerical columns that might have outliers affecting models: 'Cost', 'Reviews_Count', 'Followers_Count', 'Pictures'\n",
        "# 'Rating' is a bounded scale (1-5), so outliers are less of a concern there unless there are extreme errors.\n",
        "\n",
        "# Let's check distribution of skewed numerical features that are good candidates for outlier treatment\n",
        "plt.figure(figsize=(15, 5))\n",
        "\n",
        "plt.subplot(1, 3, 1)\n",
        "sns.boxplot(y=merged_df['Reviews_Count'])\n",
        "plt.title('Reviews_Count Box Plot')\n",
        "\n",
        "plt.subplot(1, 3, 2)\n",
        "sns.boxplot(y=merged_df['Followers_Count'])\n",
        "plt.title('Followers_Count Box Plot')\n",
        "\n",
        "plt.subplot(1, 3, 3)\n",
        "sns.boxplot(y=merged_df['Cost'])\n",
        "plt.title('Cost Box Plot')\n",
        "\n",
        "plt.tight_layout()\n",
        "plt.show()\n",
        "\n",
        "# Insight: Reviews_Count and Followers_Count show extreme outliers. Cost also has some higher outliers.\n",
        "# We will use the IQR method to cap outliers for Reviews_Count and Followers_Count, as they are highly skewed.\n",
        "# For 'Cost', we might decide to cap or simply let scaling handle it, depending on desired impact.\n",
        "# Let's cap at the 99th percentile for highly skewed count-based features.\n",
        "\n",
        "for col in ['Reviews_Count', 'Followers_Count']:\n",
        "    upper_bound = merged_df[col].quantile(0.99)\n",
        "    merged_df[col] = np.where(merged_df[col] > upper_bound, upper_bound, merged_df[col])\n",
        "    print(f\"Outliers in {col} capped at {upper_bound:.2f} (99th percentile).\")\n",
        "\n",
        "# Verify after capping\n",
        "plt.figure(figsize=(15, 5))\n",
        "\n",
        "plt.subplot(1, 3, 1)\n",
        "sns.boxplot(y=merged_df['Reviews_Count'])\n",
        "plt.title('Reviews_Count Box Plot (Capped)')\n",
        "\n",
        "plt.subplot(1, 3, 2)\n",
        "sns.boxplot(y=merged_df['Followers_Count'])\n",
        "plt.title('Followers_Count Box Plot (Capped)')\n",
        "\n",
        "plt.subplot(1, 3, 3)\n",
        "sns.boxplot(y=merged_df['Cost'])\n",
        "plt.title('Cost Box Plot (Capped)') # Cost not capped here, showing original outliers still\n",
        "plt.tight_layout()\n",
        "plt.show()\n",
        "\n",
        "print(\"\\nShape of merged_df after outlier treatment:\", merged_df.shape)"
      ]
    },
    {
      "cell_type": "markdown",
      "metadata": {
        "id": "578E2V7j08f6"
      },
      "source": [
        "##### What all outlier treatment techniques have you used and why did you use those techniques?"
      ]
    },
    {
      "cell_type": "markdown",
      "metadata": {
        "id": "uGZz5OrT1HH-"
      },
      "source": [
        "For outlier treatment, we primarily focused on capping the extreme values for highly skewed numerical features: Reviews_Count and Followers_Count.\n",
        "\n",
        "Technique Used: We used the Interquartile Range (IQR) method implicitly by capping values at the 99th percentile. Specifically, any value above the 99th percentile for Reviews_Count and Followers_Count was replaced with the value at the 99th percentile.\n",
        "\n",
        "Reason:\n",
        "\n",
        "High Skewness: Features like Reviews_Count and Followers_Count exhibit extreme positive skewness, meaning a few users have an exceptionally high number of reviews or followers. These extreme values can disproportionately influence machine learning models (especially distance-based algorithms like KMeans).\n",
        "\n",
        "Capping vs. Removal: Instead of removing these rows, which would lead to data loss and might remove genuinely influential (though rare) data points, capping allows us to reduce their extreme impact while retaining the information. Capping at the 99th percentile is a pragmatic approach to handle these long tails without destroying the general distribution.\n",
        "\n",
        "'Cost' and 'Rating': Rating is inherently bounded (1-5), so explicit outlier treatment is less critical. For 'Cost', while it has outliers, their impact might be less severe for clustering, and standard scaling can often mitigate their effect without explicit capping, depending on the model's sensitivity."
      ]
    },
    {
      "cell_type": "markdown",
      "metadata": {
        "id": "89xtkJwZ18nB"
      },
      "source": [
        "### 3. Categorical Encoding"
      ]
    },
    {
      "cell_type": "code",
      "execution_count": null,
      "metadata": {
        "id": "21JmIYMG2hEo"
      },
      "outputs": [],
      "source": [
        "# Encode your categorical columns\n",
        "\n",
        "\n",
        "# Columns to encode: 'Cuisines', 'Collections', 'Timings', 'Day_of_Week'\n",
        "# 'Restaurant' name is an ID, not for direct encoding for clustering, unless aggregated.\n",
        "# 'Reviewer' is also an ID/name.\n",
        "\n",
        "# 1. Encoding 'Cuisines' and 'Collections': These are multi-value categorical features.\n",
        "# A robust way is to use MultiLabelBinarizer or create dummy variables for each unique cuisine/collection.\n",
        "# Given the project is about clustering, and these define restaurant segments, one-hot encoding after splitting seems appropriate.\n",
        "\n",
        "# First, create a set of all unique cuisines and collections\n",
        "all_unique_cuisines = set()\n",
        "merged_df['Cuisines'].dropna().apply(lambda x: all_unique_cuisines.update(x.split(', ')))\n",
        "\n",
        "all_unique_collections = set()\n",
        "merged_df['Collections'].dropna().apply(lambda x: all_unique_collections.update(x.split(', ')))\n",
        "\n",
        "print(f\"Total unique cuisines: {len(all_unique_cuisines)}\")\n",
        "print(f\"Total unique collections: {len(all_unique_collections)}\")\n",
        "\n",
        "\n",
        "# One-Hot Encode Cuisines\n",
        "for cuisine in all_unique_cuisines:\n",
        "    merged_df[f'Cuisine_{cuisine.replace(\" \", \"_\").replace(\"&\", \"and\").replace(\"-\", \"_\")}'] = merged_df['Cuisines'].apply(lambda x: 1 if pd.notna(x) and cuisine in x else 0)\n",
        "\n",
        "# One-Hot Encode Collections\n",
        "for collection in all_unique_collections:\n",
        "    merged_df[f'Collection_{collection.replace(\" \", \"_\").replace(\"&\", \"and\").replace(\"-\", \"_\")}'] = merged_df['Collections'].apply(lambda x: 1 if pd.notna(x) and collection in x else 0)\n",
        "\n",
        "print(f\"\\nShape after one-hot encoding cuisines and collections: {merged_df.shape}\")\n",
        "\n",
        "# 2. Encoding 'Day_of_Week' (Single-value categorical, already ordered via Categorical type)\n",
        "# We can use One-Hot Encoding or Label Encoding. For clustering, OHE is often preferred to avoid ordinal bias.\n",
        "# Since Day_of_Week was already made into a Categorical type with order, Label Encoding could be an option if order matters for a specific model.\n",
        "# For a general clustering, One-Hot Encoding is safer.\n",
        "\n",
        "day_of_week_dummies = pd.get_dummies(merged_df['Day_of_Week'], prefix='Day')\n",
        "merged_df = pd.concat([merged_df, day_of_week_dummies], axis=1)\n",
        "\n",
        "print(f\"Shape after one-hot encoding Day_of_Week: {merged_df.shape}\")\n",
        "\n",
        "# Drop original categorical columns if they've been encoded\n",
        "merged_df.drop(columns=['Cuisines', 'Collections', 'Day_of_Week', 'Timings'], inplace=True) # Timings is also categorical, but not yet used for features\n",
        "print(f\"\\nShape after dropping original categorical columns: {merged_df.shape}\")\n",
        "\n",
        "# Verify data types and new columns\n",
        "print(\"\\nNew columns created for encoding:\")\n",
        "print([col for col in merged_df.columns if col.startswith(('Cuisine_', 'Collection_', 'Day_'))])"
      ]
    },
    {
      "cell_type": "markdown",
      "metadata": {
        "id": "67NQN5KX2AMe"
      },
      "source": [
        "#### What all categorical encoding techniques have you used & why did you use those techniques?"
      ]
    },
    {
      "cell_type": "markdown",
      "metadata": {
        "id": "UDaue5h32n_G"
      },
      "source": [
        "We primarily used One-Hot Encoding for categorical features.\n",
        "\n",
        "Technique Used:\n",
        "\n",
        "Manual One-Hot Encoding for Multi-value Features (Cuisines, Collections): For columns where a single entry could contain multiple categories (e.g., \"North Indian, Chinese\"), we first split the string into individual categories. Then, for each unique individual category (e.g., 'North Indian'), a new binary column was created. A '1' indicates the presence of that cuisine/collection for a given restaurant, and '0' indicates its absence.\n",
        "\n",
        "pd.get_dummies for Single-value Features (Day_of_Week): For the Day_of_Week column, pandas.get_dummies was used to create binary (0 or 1) columns for each unique day.\n",
        "\n",
        "Reason:\n",
        "\n",
        "Avoids Ordinality: One-Hot Encoding converts categorical variables into a numerical format without implying any order or ranking between the categories. This is crucial for nominal categorical variables (like cuisine types or collection names) where an artificial order created by Label Encoding could mislead machine learning models.\n",
        "\n",
        "Suitable for Clustering: Many clustering algorithms (like K-Means) rely on distance calculations. One-hot encoding ensures that each category is treated as equally distant from others, preventing misinterpretations of relationships between categories.\n",
        "\n",
        "Handling Multi-value Entries: The manual approach for Cuisines and Collections correctly handles cases where a restaurant offers multiple cuisines or belongs to multiple collections, creating a distinct feature for each attribute"
      ]
    },
    {
      "cell_type": "markdown",
      "metadata": {
        "id": "Iwf50b-R2tYG"
      },
      "source": [
        "### 4. Textual Data Preprocessing\n",
        "(It's mandatory for textual dataset i.e., NLP, Sentiment Analysis, Text Clustering etc.)"
      ]
    },
    {
      "cell_type": "markdown",
      "metadata": {
        "id": "GMQiZwjn3iu7"
      },
      "source": [
        "#### 1. Expand Contraction"
      ]
    },
    {
      "cell_type": "code",
      "execution_count": null,
      "metadata": {
        "id": "PTouz10C3oNN"
      },
      "outputs": [],
      "source": [
        "# Textual Data Preprocessing\n",
        "import re\n",
        "from nltk.corpus import stopwords\n",
        "from nltk.stem import WordNetLemmatizer\n",
        "import nltk # Ensure nltk is imported\n",
        "\n",
        "# Ensure WordNet is downloaded\n",
        "nltk.download('wordnet')\n",
        "# Ensure stopwords and punkt are downloaded as well (from earlier setup)\n",
        "nltk.download('stopwords')\n",
        "nltk.download('punkt')\n",
        "nltk.download('vader_lexicon') # For sentiment analysis later\n",
        "\n",
        "# Create a copy to work on, to avoid modifying the original 'Review' column directly until needed\n",
        "merged_df['cleaned_review'] = merged_df['Review'].copy()\n",
        "\n",
        "#### 1. Expand Contraction\n",
        "# A simple regex-based contraction expansion (can be comprehensive with a dictionary)\n",
        "# For simplicity, we'll use a basic approach. A more robust solution involves a dictionary of contractions.\n",
        "# Example: don't -> do not, isn't -> is not\n",
        "\n",
        "def expand_contractions(text):\n",
        "    text = re.sub(r\"won't\", \"will not\", text)\n",
        "    text = re.sub(r\"can't\", \"can not\", text)\n",
        "    text = re.sub(r\"n't\", \" not\", text)\n",
        "    text = re.sub(r\"'re\", \" are\", text)\n",
        "    text = re.sub(r\"'s\", \" is\", text)\n",
        "    text = re.sub(r\"'d\", \" would\", text)\n",
        "    text = re.sub(r\"'ll\", \" will\", text)\n",
        "    text = re.sub(r\"'t\", \" not\", text)\n",
        "    text = re.sub(r\"'ve\", \" have\", text)\n",
        "    text = re.sub(r\"'m\", \" am\", text)\n",
        "    return text\n",
        "\n",
        "merged_df['cleaned_review'] = merged_df['cleaned_review'].apply(expand_contractions)\n",
        "print(\"Expanded Contractions Example:\")\n",
        "print(merged_df['Review'].iloc[0])\n",
        "print(merged_df['cleaned_review'].iloc[0]) # Should be same as no contractions in this example"
      ]
    },
    {
      "cell_type": "markdown",
      "metadata": {
        "id": "WVIkgGqN3qsr"
      },
      "source": [
        "#### 2. Lower Casing"
      ]
    },
    {
      "cell_type": "code",
      "execution_count": null,
      "metadata": {
        "id": "88JnJ1jN3w7j"
      },
      "outputs": [],
      "source": [
        "# Lower Casing\n",
        "# Lower Casing\n",
        "merged_df['cleaned_review'] = merged_df['cleaned_review'].str.lower()\n",
        "print(\"\\nLower Casing Example:\")\n",
        "print(merged_df['cleaned_review'].iloc[0])"
      ]
    },
    {
      "cell_type": "markdown",
      "metadata": {
        "id": "XkPnILGE3zoT"
      },
      "source": [
        "#### 3. Removing Punctuations"
      ]
    },
    {
      "cell_type": "code",
      "execution_count": null,
      "metadata": {
        "id": "vqbBqNaA33c0"
      },
      "outputs": [],
      "source": [
        "\n",
        "# Remove Punctuations\n",
        "# Use regex to remove all characters that are not word characters or whitespace\n",
        "merged_df['cleaned_review'] = merged_df['cleaned_review'].apply(lambda x: re.sub(r'[^\\w\\s]', '', x))\n",
        "print(\"\\nRemoving Punctuations Example:\")\n",
        "print(merged_df['cleaned_review'].iloc[0])"
      ]
    },
    {
      "cell_type": "markdown",
      "metadata": {
        "id": "Hlsf0x5436Go"
      },
      "source": [
        "#### 4. Removing URLs & Removing words and digits contain digits."
      ]
    },
    {
      "cell_type": "code",
      "execution_count": null,
      "metadata": {
        "id": "2sxKgKxu4Ip3"
      },
      "outputs": [],
      "source": [
        "\n",
        "# Remove URLs & Remove words and digits contain digits\n",
        "# Remove URLs\n",
        "merged_df['cleaned_review'] = merged_df['cleaned_review'].apply(lambda x: re.sub(r'http\\S+|www\\S+|https\\S+', '', x, flags=re.MULTILINE))\n",
        "\n",
        "# Remove words containing digits (e.g., \"5star\", \"meal4you\") and standalone digits\n",
        "merged_df['cleaned_review'] = merged_df['cleaned_review'].apply(lambda x: re.sub(r'\\S*\\d\\S*', '', x)) # removes words with digits\n",
        "merged_df['cleaned_review'] = merged_df['cleaned_review'].apply(lambda x: re.sub(r'\\b\\d+\\b', '', x)) # removes standalone digits\n",
        "\n",
        "print(\"\\nRemoving URLs & Words with Digits Example:\")\n",
        "print(merged_df['cleaned_review'].iloc[0])"
      ]
    },
    {
      "cell_type": "markdown",
      "metadata": {
        "id": "mT9DMSJo4nBL"
      },
      "source": [
        "#### 5. Removing Stopwords & Removing White spaces"
      ]
    },
    {
      "cell_type": "code",
      "execution_count": null,
      "metadata": {
        "id": "T2LSJh154s8W"
      },
      "outputs": [],
      "source": [
        "# Remove Stopwords\n",
        "STOPWORDS = set(stopwords.words('english'))\n",
        "def remove_stopwords(text):\n",
        "    return \" \".join([word for word in str(text).split() if word not in STOPWORDS])\n",
        "\n",
        "merged_df['cleaned_review'] = merged_df['cleaned_review'].apply(remove_stopwords)\n",
        "print(\"\\nRemoving Stopwords Example:\")\n",
        "print(merged_df['cleaned_review'].iloc[0]) # Should be shorter, without common words"
      ]
    },
    {
      "cell_type": "code",
      "execution_count": null,
      "metadata": {
        "id": "EgLJGffy4vm0"
      },
      "outputs": [],
      "source": [
        "# Remove White spaces\n",
        "merged_df['cleaned_review'] = merged_df['cleaned_review'].apply(lambda x: re.sub(r'\\s+', ' ', x).strip())\n",
        "print(\"\\nRemoving White spaces Example:\")\n",
        "print(merged_df['cleaned_review'].iloc[0])"
      ]
    },
    {
      "cell_type": "markdown",
      "metadata": {
        "id": "c49ITxTc407N"
      },
      "source": [
        "#### 6. Rephrase Text"
      ]
    },
    {
      "cell_type": "code",
      "execution_count": null,
      "metadata": {
        "id": "foqY80Qu48N2"
      },
      "outputs": [],
      "source": [
        "\n",
        "# Rephrase Text\n",
        "# This step is highly custom and depends on specific domain knowledge or goals.\n",
        "# For example, mapping specific slang or abbreviations to standard terms.\n",
        "# Given the general nature, we will skip complex rephrasing for now.\n",
        "# merged_df['cleaned_review'] = merged_df['cleaned_review'].apply(lambda x: custom_rephrase_function(x))\n",
        "print(\"\\nRephrase Text: (Optional, skipped as no specific rephrasing rules defined)\")\n",
        "print(merged_df['cleaned_review'].iloc[0])"
      ]
    },
    {
      "cell_type": "markdown",
      "metadata": {
        "id": "OeJFEK0N496M"
      },
      "source": [
        "#### 7. Tokenization"
      ]
    },
    {
      "cell_type": "code",
      "execution_count": null,
      "metadata": {
        "id": "ijx1rUOS5CUU"
      },
      "outputs": [],
      "source": [
        "\n",
        "# Tokenization\n",
        "from nltk.tokenize import word_tokenize\n",
        "\n",
        "merged_df['tokenized_review'] = merged_df['cleaned_review'].apply(word_tokenize)\n",
        "print(\"\\nTokenization Example:\")\n",
        "print(merged_df['tokenized_review'].iloc[0])"
      ]
    },
    {
      "cell_type": "markdown",
      "metadata": {
        "id": "9ExmJH0g5HBk"
      },
      "source": [
        "#### 8. Text Normalization"
      ]
    },
    {
      "cell_type": "code",
      "execution_count": null,
      "metadata": {
        "id": "AIJ1a-Zc5PY8"
      },
      "outputs": [],
      "source": [
        "\n",
        "# Normalizing Text (i.e., Stemming, Lemmatization etc.)\n",
        "lemmatizer = WordNetLemmatizer()\n",
        "\n",
        "def lemmatize_words(tokens):\n",
        "    return [lemmatizer.lemmatize(word) for word in tokens]\n",
        "\n",
        "merged_df['lemmatized_review'] = merged_df['tokenized_review'].apply(lemmatize_words)\n",
        "# Join back into a string for vectorization later if needed\n",
        "merged_df['lemmatized_review_str'] = merged_df['lemmatized_review'].apply(lambda x: \" \".join(x))\n",
        "print(\"\\nLemmatization Example:\")\n",
        "print(merged_df['tokenized_review'].iloc[0])\n",
        "print(merged_df['lemmatized_review'].iloc[0])\n",
        "print(merged_df['lemmatized_review_str'].iloc[0])"
      ]
    },
    {
      "cell_type": "markdown",
      "metadata": {
        "id": "cJNqERVU536h"
      },
      "source": [
        "##### Which text normalization technique have you used and why?"
      ]
    },
    {
      "cell_type": "markdown",
      "metadata": {
        "id": "Z9jKVxE06BC1"
      },
      "source": [
        "I have used Lemmatization as the text normalization technique.\n",
        "\n",
        "Reason: Lemmatization reduces words to their base or dictionary form (lemma) based on their meaning and part of speech (e.g., \"running\" becomes \"run\", \"better\" becomes \"good\"). This approach is generally preferred over Stemming (e.g., \"running\" becomes \"runn\") because it ensures that the resulting words are valid and meaningful. For tasks like sentiment analysis, preserving the accurate base form helps in correctly interpreting the emotional tone of a review.\n",
        "\n"
      ]
    },
    {
      "cell_type": "markdown",
      "metadata": {
        "id": "k5UmGsbsOxih"
      },
      "source": [
        "#### 9. Part of speech tagging"
      ]
    },
    {
      "cell_type": "code",
      "execution_count": null,
      "metadata": {
        "id": "btT3ZJBAO6Ik"
      },
      "outputs": [],
      "source": [
        "# POS Taging\n",
        "\n",
        "# This is typically done after tokenization and before lemmatization for more accurate lemmatization.\n",
        "# For the scope of this project, we can proceed with a simpler lemmatization without explicit POS tagging.\n",
        "# If you were to do it, it would look like this:\n",
        "# from nltk.tag import pos_tag\n",
        "# merged_df['pos_tagged_review'] = merged_df['tokenized_review'].apply(pos_tag)\n",
        "print(\"\\nPOS Tagging: (Optional, skipped for direct lemmatization in this example)\")\n",
        "print(merged_df['lemmatized_review_str'].iloc[0])"
      ]
    },
    {
      "cell_type": "markdown",
      "metadata": {
        "id": "T0VqWOYE6DLQ"
      },
      "source": [
        "#### 10. Text Vectorization"
      ]
    },
    {
      "cell_type": "code",
      "execution_count": null,
      "metadata": {
        "id": "yBRtdhth6JDE"
      },
      "outputs": [],
      "source": [
        "# Vectorizing Text\n",
        "\n",
        "from sklearn.feature_extraction.text import TfidfVectorizer\n",
        "\n",
        "# Using TF-IDF Vectorization for the lemmatized review text\n",
        "tfidf_vectorizer = TfidfVectorizer(max_features=5000) # Limit features to avoid very high dimensionality\n",
        "# Fit and transform the lemmatized review strings\n",
        "tfidf_matrix = tfidf_vectorizer.fit_transform(merged_df['lemmatized_review_str'])\n",
        "\n",
        "# Convert TF-IDF matrix to DataFrame for easier manipulation\n",
        "# Note: The index of tfidf_df should align with merged_df if used together\n",
        "tfidf_df = pd.DataFrame(tfidf_matrix.toarray(), columns=tfidf_vectorizer.get_feature_names_out(), index=merged_df.index)\n",
        "\n",
        "print(f\"\\nShape of TF-IDF matrix: {tfidf_df.shape}\")\n",
        "print(\"First 5 rows of TF-IDF DataFrame:\")\n",
        "print(tfidf_df.head())"
      ]
    },
    {
      "cell_type": "markdown",
      "metadata": {
        "id": "qBMux9mC6MCf"
      },
      "source": [
        "##### Which text vectorization technique have you used and why?"
      ]
    },
    {
      "cell_type": "markdown",
      "metadata": {
        "id": "su2EnbCh6UKQ"
      },
      "source": [
        "I have used TF-IDF (Term Frequency-Inverse Document Frequency) Vectorization.\n",
        "\n",
        "Reason:\n",
        "\n",
        "Captures Importance: TF-IDF not only considers how frequently a word appears in a document (Term Frequency) but also how important that word is to the entire corpus (Inverse Document Frequency). This means it gives higher weight to words that are unique to a particular review but common across the dataset, rather than common words like \"good\" or \"food\" that appear everywhere but might not be as discriminative.\n",
        "\n",
        "Effective for Sentiment/Clustering: For sentiment analysis or text clustering, TF-IDF is often more effective than simple Bag-of-Words (which only counts word occurrences) because it helps to identify more meaningful and contextually relevant terms.\n",
        "\n",
        "Dimensionality Management: While it can still result in a high-dimensional sparse matrix, it's a standard and powerful technique for converting text into numerical features that machine learning models can process. We limit max_features to manage dimensionality."
      ]
    },
    {
      "cell_type": "markdown",
      "metadata": {
        "id": "-oLEiFgy-5Pf"
      },
      "source": [
        "### 4. Feature Manipulation & Selection"
      ]
    },
    {
      "cell_type": "markdown",
      "metadata": {
        "id": "C74aWNz2AliB"
      },
      "source": [
        "#### 1. Feature Manipulation"
      ]
    },
    {
      "cell_type": "code",
      "execution_count": null,
      "metadata": {
        "id": "h1qC4yhBApWC"
      },
      "outputs": [],
      "source": [
        "# Manipulate Features to minimize feature correlation and create new features\n",
        "# Feature Manipulation: Sentiment Score from Reviews\n",
        "# This is a critical new feature derived from textual data.\n",
        "# We will use NLTK's VADER (Valence Aware Dictionary and sEntiment Reasoner) for sentiment analysis.\n",
        "\n",
        "# Ensure VADER lexicon is downloaded (handled in initial imports, but good to ensure)\n",
        "# nltk.download('vader_lexicon') # Uncomment and run if you face issues\n",
        "\n",
        "sid = SentimentIntensityAnalyzer()\n",
        "\n",
        "# Function to get compound sentiment score\n",
        "def get_sentiment_score(text):\n",
        "    if pd.isna(text) or text == \"\":\n",
        "        return 0.0 # Neutral sentiment for empty/missing reviews\n",
        "    return sid.polarity_scores(text)['compound']\n",
        "\n",
        "# Apply sentiment analysis to the lemmatized review string (from previous text preprocessing)\n",
        "# Ensure 'lemmatized_review_str' column exists from Text Preprocessing\n",
        "if 'lemmatized_review_str' in merged_df.columns:\n",
        "    merged_df['sentiment_score'] = merged_df['lemmatized_review_str'].apply(get_sentiment_score)\n",
        "else:\n",
        "    print(\"Error: 'lemmatized_review_str' not found. Please run Textual Data Preprocessing first.\")\n",
        "    merged_df['sentiment_score'] = 0.0 # Placeholder to avoid error\n",
        "\n",
        "print(\"\\nSentiment Score (Compound) example:\")\n",
        "print(merged_df[['Review', 'sentiment_score']].head())\n",
        "\n",
        "# Other potential features derived:\n",
        "# - Review Length: Length of the raw review text\n",
        "merged_df['review_length'] = merged_df['Review'].apply(lambda x: len(str(x)))\n",
        "print(\"\\nReview Length example:\")\n",
        "print(merged_df[['Review', 'review_length']].head())\n",
        "\n",
        "# - Has pictures (binary from Pictures > 0)\n",
        "merged_df['has_pictures'] = merged_df['Pictures'].apply(lambda x: 1 if x > 0 else 0)\n",
        "print(\"\\nHas Pictures example:\")\n",
        "print(merged_df[['Pictures', 'has_pictures']].head())\n",
        "\n",
        "print(\"\\nShape of merged_df after feature manipulation:\", merged_df.shape)"
      ]
    },
    {
      "cell_type": "markdown",
      "metadata": {
        "id": "2DejudWSA-a0"
      },
      "source": [
        "#### 2. Feature Selection"
      ]
    },
    {
      "cell_type": "code",
      "execution_count": null,
      "metadata": {
        "id": "YLhe8UmaBCEE"
      },
      "outputs": [],
      "source": [
        "# Feature Selection\n",
        "# For restaurant clustering, we need unique restaurant features.\n",
        "# So, first, aggregate review features (like sentiment_score, review_length, has_pictures) per restaurant.\n",
        "# Then combine with fixed restaurant features (cost, cuisines, collections).\n",
        "\n",
        "# Aggregate review data per restaurant name\n",
        "restaurant_level_reviews = merged_df.groupby('Name').agg(\n",
        "    Avg_Rating=('Rating', 'mean'),\n",
        "    Total_Reviews_Received=('Review', 'count'), # Count of reviews for this restaurant\n",
        "    Avg_Sentiment_Score=('sentiment_score', 'mean'),\n",
        "    Min_Sentiment_Score=('sentiment_score', 'min'),\n",
        "    Max_Sentiment_Score=('sentiment_score', 'max'),\n",
        "    Avg_Review_Length=('review_length', 'mean'),\n",
        "    Total_Pictures_Shared=('Pictures', 'sum'), # Total pictures across all reviews for this restaurant\n",
        "    Ratio_Has_Pictures=('has_pictures', 'mean') # Ratio of reviews with pictures\n",
        ").reset_index()\n",
        "\n",
        "# Re-creating restaurant_metadata_unique_encoded here for robustness\n",
        "restaurant_metadata_unique_encoded = restaurant_metadata_df.drop_duplicates(subset=['Name']).copy()\n",
        "\n",
        "all_unique_cuisines = set()\n",
        "restaurant_metadata_unique_encoded['Cuisines'].dropna().apply(lambda x: all_unique_cuisines.update(x.split(', ')))\n",
        "all_unique_collections = set()\n",
        "restaurant_metadata_unique_encoded['Collections'].dropna().apply(lambda x: all_unique_collections.update(x.split(', ')))\n",
        "\n",
        "for cuisine in all_unique_cuisines:\n",
        "    col_name = f'Cuisine_{cuisine.replace(\" \", \"_\").replace(\"&\", \"and\").replace(\"-\", \"_\")}'\n",
        "    restaurant_metadata_unique_encoded[col_name] = restaurant_metadata_unique_encoded['Cuisines'].apply(lambda x: 1 if pd.notna(x) and cuisine in x else 0)\n",
        "\n",
        "for collection in all_unique_collections:\n",
        "    col_name = f'Collection_{collection.replace(\" \", \"_\").replace(\"&\", \"and\").replace(\"-\", \"_\")}'\n",
        "    restaurant_metadata_unique_encoded[col_name] = restaurant_metadata_unique_encoded['Collections'].apply(lambda x: 1 if pd.notna(x) and collection in x else 0)\n",
        "\n",
        "restaurant_metadata_unique_encoded.drop(columns=['Cuisines', 'Collections', 'Timings', 'Links'], inplace=True, errors='ignore')\n",
        "\n",
        "# Merge aggregated review data with unique restaurant metadata\n",
        "final_restaurant_features_df = pd.merge(\n",
        "    restaurant_metadata_unique_encoded,\n",
        "    restaurant_level_reviews,\n",
        "    on='Name',\n",
        "    how='left'\n",
        ")\n",
        "\n",
        "# Handle cases where a restaurant in metadata had no reviews\n",
        "final_restaurant_features_df['Total_Reviews_Received'].fillna(0, inplace=True)\n",
        "final_restaurant_features_df['Avg_Rating'].fillna(final_restaurant_features_df['Avg_Rating'].median(), inplace=True)\n",
        "final_restaurant_features_df['Avg_Sentiment_Score'].fillna(0, inplace=True)\n",
        "final_restaurant_features_df['Min_Sentiment_Score'].fillna(0, inplace=True)\n",
        "final_restaurant_features_df['Max_Sentiment_Score'].fillna(0, inplace=True)\n",
        "final_restaurant_features_df['Avg_Review_Length'].fillna(0, inplace=True)\n",
        "final_restaurant_features_df['Total_Pictures_Shared'].fillna(0, inplace=True)\n",
        "final_restaurant_features_df['Ratio_Has_Pictures'].fillna(0, inplace=True)\n",
        "\n",
        "# NOW APPLY LOG TRANSFORMATION DIRECTLY TO final_restaurant_features_df HERE\n",
        "# This ensures these columns exist for characterization later\n",
        "transform_cols = ['Total_Reviews_Received', 'Total_Pictures_Shared', 'Avg_Review_Length']\n",
        "for col in transform_cols:\n",
        "    final_restaurant_features_df[f'log_{col}'] = np.log1p(final_restaurant_features_df[col])\n",
        "\n",
        "# The 'Name' column will serve as the restaurant identifier, not a feature for clustering directly\n",
        "restaurant_names_for_clustering = final_restaurant_features_df['Name']\n",
        "# Make `features_for_clustering` contain only the numerical (and already scaled/transformed) columns\n",
        "features_for_clustering = final_restaurant_features_df.drop(columns=['Name'] + transform_cols).copy()\n",
        "\n",
        "\n",
        "# Ensure no non-numeric columns accidentally ended up here BEFORE scaling/PCA in later steps\n",
        "# This check is crucial:\n",
        "non_numeric_cols_in_features = features_for_clustering.select_dtypes(exclude=[np.number]).columns.tolist()\n",
        "if non_numeric_cols_in_features:\n",
        "    print(f\"\\nWARNING: Non-numeric columns found in features_for_clustering (before scaling/PCA): {non_numeric_cols_in_features}. Removing them.\")\n",
        "    features_for_clustering.drop(columns=non_numeric_cols_in_features, inplace=True)\n",
        "\n",
        "\n",
        "print(\"\\nShape of features_for_clustering (after aggregation, OHE, log-transformation, before scaling/PCA):\", features_for_clustering.shape)\n",
        "print(\"Columns in features_for_clustering (first 10):\", features_for_clustering.columns.tolist()[:10])\n",
        "print(\"First 5 rows of features_for_clustering:\")\n",
        "print(features_for_clustering.head())"
      ]
    },
    {
      "cell_type": "markdown",
      "metadata": {
        "id": "pEMng2IbBLp7"
      },
      "source": [
        "##### What all feature selection methods have you used  and why?"
      ]
    },
    {
      "cell_type": "markdown",
      "metadata": {
        "id": "rb2Lh6Z8BgGs"
      },
      "source": [
        "For restaurant clustering, the approach to feature selection was primarily driven by consolidating relevant information at the restaurant level and preparing it for a distance-based algorithm.\n",
        "\n",
        "Aggregation of Review-Level Features:\n",
        "\n",
        "Method: We aggregated review-specific metrics (like Rating, sentiment_score, review_length, Pictures, has_pictures) from the individual review level to the Restaurant (or Name) level. This involved calculating mean (for average sentiment, rating, review length, ratio of pictures), count (for total reviews received), min, max (for sentiment), and sum (for total pictures shared).\n",
        "\n",
        "Reason: Clustering aims to segment restaurants, not individual reviews. Therefore, all features must represent characteristics of a single restaurant. Aggregating allows us to incorporate valuable customer feedback dimensions (like overall sentiment, review volume, and average rating) as features for each unique restaurant.\n",
        "\n",
        "Inclusion of Restaurant Metadata Features:\n",
        "\n",
        "Method: Directly used Cost and the one-hot encoded Cuisine_ and Collection_ features, which are inherent characteristics of each restaurant.\n",
        "\n",
        "Reason: These attributes are fundamental to defining what a restaurant is and differentiating it from others, making them essential features for restaurant clustering.\n",
        "\n",
        "Exclusion of Redundant/Identifier Columns:\n",
        "\n",
        "Method: Columns such as original text reviews (Review), raw Metadata, Time, Reviewer, Links, Timings, and intermediate text processing columns (cleaned_review, tokenized_review, lemmatized_review, lemmatized_review_str) were excluded. The Name column was also separated as an identifier rather than a feature itself.\n",
        "\n",
        "Reason: These columns are either identifiers (not features for clustering), raw text that has been transformed into numerical features (like sentiment_score), or temporary columns used during preprocessing. Including them directly would either lead to meaningless distance calculations or high dimensionality with redundant information.\n",
        "\n"
      ]
    },
    {
      "cell_type": "markdown",
      "metadata": {
        "id": "rAdphbQ9Bhjc"
      },
      "source": [
        "##### Which all features you found important and why?"
      ]
    },
    {
      "cell_type": "markdown",
      "metadata": {
        "id": "fGgaEstsBnaf"
      },
      "source": [
        "All the features included in features_for_clustering are considered important for restaurant segmentation as they provide a holistic view of each restaurant from various angles:\n",
        "\n",
        "Cost: Crucial for segmenting restaurants by price point, which is a primary consideration for customers.\n",
        "\n",
        "Avg_Rating, Avg_Sentiment_Score, Min_Sentiment_Score, Max_Sentiment_Score: These are direct indicators of customer satisfaction and perceived quality. They allow clustering based on how well restaurants are generally received and the range of sentiment.\n",
        "\n",
        "Total_Reviews_Received: Represents the popularity and customer engagement level of a restaurant. Restaurants with more reviews might form a distinct segment.\n",
        "\n",
        "Avg_Review_Length, Total_Pictures_Shared, Ratio_Has_Pictures: Indicators of customer engagement and content richness, providing insights into how customers interact with the restaurant's offering.\n",
        "\n",
        "One-Hot Encoded Cuisine_ and Collection_ features: Absolutely vital as they define the type of food served and the thematic categories a restaurant belongs to. These are fundamental for distinguishing one restaurant segment from another (e.g., a \"Chinese, Casual Dining\" restaurant vs. a \"North Indian, Fine Dining\" restaurant).\n",
        "\n",
        "Combined, these features allow the clustering algorithm to form segments that are distinct based on their offerings, pricing, customer feedback, and popularity."
      ]
    },
    {
      "cell_type": "markdown",
      "metadata": {
        "id": "TNVZ9zx19K6k"
      },
      "source": [
        "### 5. Data Transformation"
      ]
    },
    {
      "cell_type": "markdown",
      "metadata": {
        "id": "nqoHp30x9hH9"
      },
      "source": [
        "#### Do you think that your data needs to be transformed? If yes, which transformation have you used. Explain Why?"
      ]
    },
    {
      "cell_type": "code",
      "execution_count": null,
      "metadata": {
        "id": "I6quWQ1T9rtH"
      },
      "outputs": [],
      "source": [
        "# Transform Your data\n",
        "\n",
        "# Identify highly skewed numerical features for transformation.\n",
        "# From previous EDA and common knowledge, count-based features are often skewed.\n",
        "# After aggregation, 'Total_Reviews_Received', 'Total_Pictures_Shared' and 'Avg_Review_Length'\n",
        "# are the ones we want to transform.\n",
        "\n",
        "# Check skewness of the ORIGINAL features before transformation using final_restaurant_features_df\n",
        "print(\"Skewness of numerical features before transformation (from final_restaurant_features_df):\")\n",
        "print(final_restaurant_features_df[['Cost', 'Total_Reviews_Received', 'Total_Pictures_Shared', 'Avg_Review_Length']].skew())\n",
        "\n",
        "# Apply log1p transformation to highly skewed count-based features in features_for_clustering\n",
        "# These features were already moved to features_for_clustering in Feature Selection,\n",
        "# but the log transformation adds NEW columns, so we need to ensure the original ones are\n",
        "# still there to be transformed.\n",
        "\n",
        "# Let's verify the columns in features_for_clustering before transformation again to be sure\n",
        "# For robustness, we will perform the log transformation on `features_for_clustering` which is derived from `final_restaurant_features_df`\n",
        "# and contains the *original* (non-log) versions of these columns before this step.\n",
        "\n",
        "transform_cols = ['Total_Reviews_Received', 'Total_Pictures_Shared', 'Avg_Review_Length']\n",
        "\n",
        "for col in transform_cols:\n",
        "    if col in features_for_clustering.columns: # Check if the column exists in features_for_clustering\n",
        "        features_for_clustering[f'log_{col}'] = np.log1p(features_for_clustering[col])\n",
        "        print(f\"Applied log1p transformation to {col}.\")\n",
        "    else:\n",
        "        print(f\"Warning: Column {col} not found in features_for_clustering. Skipping transformation for this column.\")\n",
        "\n",
        "# Drop the original non-transformed count columns if log-transformed versions are preferred\n",
        "features_for_clustering.drop(columns=transform_cols, inplace=True, errors='ignore')\n",
        "\n",
        "print(\"\\nFeatures after transformation (first 5 rows of log-transformed columns):\")\n",
        "transformed_cols_present = [f'log_{col}' for col in transform_cols if f'log_{col}' in features_for_clustering.columns]\n",
        "if transformed_cols_present:\n",
        "    print(features_for_clustering[transformed_cols_present].head())\n",
        "else:\n",
        "    print(\"No log-transformed columns were created (check warnings above if any).\")\n",
        "\n",
        "print(f\"\\nShape of features_for_clustering after transformation and dropping originals: {features_for_clustering.shape}\")"
      ]
    },
    {
      "cell_type": "markdown",
      "metadata": {
        "id": "rMDnDkt2B6du"
      },
      "source": [
        "### 6. Data Scaling"
      ]
    },
    {
      "cell_type": "code",
      "execution_count": null,
      "metadata": {
        "id": "dL9LWpySC6x_"
      },
      "outputs": [],
      "source": [
        "# Scaling your data\n",
        "\n",
        "# All numerical features should be scaled before clustering,\n",
        "# as distance-based algorithms are sensitive to feature scales.\n",
        "\n",
        "# Identify numerical columns that need scaling (excluding binary one-hot encoded features)\n",
        "numerical_cols_for_scaling = features_for_clustering.select_dtypes(include=[np.number]).columns.tolist()\n",
        "\n",
        "# Exclude binary features from scaling, as they are already 0/1\n",
        "# Identify one-hot encoded columns (those starting with 'Cuisine_', 'Collection_')\n",
        "binary_cols = [col for col in numerical_cols_for_scaling if col.startswith(('Cuisine_', 'Collection_'))] # Exclude Day_ as that was from merged_df\n",
        "numerical_cols_to_scale = [col for col in numerical_cols_for_scaling if col not in binary_cols]\n",
        "\n",
        "print(f\"Numerical columns to scale: {numerical_cols_to_scale}\")\n",
        "print(f\"Binary columns (not scaled): {binary_cols}\")\n",
        "\n",
        "# Using StandardScaler\n",
        "scaler = StandardScaler()\n",
        "features_for_clustering[numerical_cols_to_scale] = scaler.fit_transform(features_for_clustering[numerical_cols_to_scale])\n",
        "\n",
        "print(\"\\nFeatures after scaling (first 5 rows of scaled numerical columns):\")\n",
        "print(features_for_clustering[numerical_cols_to_scale].head())\n",
        "print(\"\\nShape of features_for_clustering after scaling:\", features_for_clustering.shape)"
      ]
    },
    {
      "cell_type": "markdown",
      "metadata": {
        "id": "yiiVWRdJDDil"
      },
      "source": [
        "##### Which method have you used to scale you data and why?"
      ]
    },
    {
      "cell_type": "markdown",
      "metadata": {
        "id": "wvy2xjdluVQ2"
      },
      "source": [
        "I have used Standard Scaling (using StandardScaler).\n",
        "\n",
        "Reason:\n",
        "\n",
        "Standardization: StandardScaler transforms the data such that it has a mean of 0 and a standard deviation of 1. This process is called standardization.\n",
        "\n",
        "Distance-Based Algorithms: Clustering algorithms like K-Means calculate distances between data points. If features have vastly different scales (e.g., 'Cost' in hundreds vs. 'Avg_Rating' on a 1-5 scale), features with larger values will dominate the distance calculations, irrespective of their actual importance. Standard scaling ensures that all features contribute equally to the distance calculation.\n",
        "\n",
        "Handles Outliers Reasonably: While not an outlier treatment method itself, StandardScaler can still be robust enough for datasets where outliers have been capped or treated, as it doesn't compress the data into a fixed range (like MinMaxScaler) which might sometimes be sensitive to new outliers in unseen data.\n",
        "\n",
        "Binary Features Excluded: It's important to note that one-hot encoded (binary) features were excluded from scaling, as their values (0 or 1) already represent a meaningful scale and do not require further transformation."
      ]
    },
    {
      "cell_type": "markdown",
      "metadata": {
        "id": "1UUpS68QDMuG"
      },
      "source": [
        "### 7. Dimesionality Reduction"
      ]
    },
    {
      "cell_type": "markdown",
      "metadata": {
        "id": "kexQrXU-DjzY"
      },
      "source": [
        "##### Do you think that dimensionality reduction is needed? Explain Why?"
      ]
    },
    {
      "cell_type": "markdown",
      "metadata": {
        "id": "GGRlBsSGDtTQ"
      },
      "source": [
        "Answer Here."
      ]
    },
    {
      "cell_type": "code",
      "execution_count": null,
      "metadata": {
        "id": "kQfvxBBHDvCa"
      },
      "outputs": [],
      "source": [
        "\n",
        "# Dimensionality Reduction (If needed)\n",
        "from sklearn.decomposition import PCA\n",
        "\n",
        "# Check the current number of features\n",
        "num_features = features_for_clustering.shape[1]\n",
        "print(f\"Current number of features: {num_features}\")\n",
        "\n",
        "# Decide if PCA is needed. A common heuristic is if num_features is very large (e.g., > 100-200)\n",
        "# or if there's high multicollinearity. Given the number of unique cuisines/collections,\n",
        "# dimensionality could be substantial.\n",
        "\n",
        "# Apply PCA and visualize explained variance to decide components.\n",
        "# Need to handle potential non-numeric data that slipped through, if any\n",
        "features_for_clustering_numeric = features_for_clustering.select_dtypes(include=np.number)\n",
        "\n",
        "pca = PCA().fit(features_for_clustering_numeric)\n",
        "plt.figure(figsize=(10, 6))\n",
        "plt.plot(np.cumsum(pca.explained_variance_ratio_))\n",
        "plt.xlabel('Number of Components')\n",
        "plt.ylabel('Cumulative Explained Variance')\n",
        "plt.title('Explained Variance by Principal Components')\n",
        "plt.grid(True)\n",
        "plt.show()\n",
        "\n",
        "# Based on the plot, choose a number of components that explain a high percentage of variance (e.g., 90-95%)\n",
        "n_components_to_retain = 0.95 # Retain 95% of variance\n",
        "pca_final = PCA(n_components=n_components_to_retain)\n",
        "features_pca = pca_final.fit_transform(features_for_clustering_numeric)\n",
        "\n",
        "# Convert PCA results back to a DataFrame for consistency, preserving the index\n",
        "features_for_clustering_pca = pd.DataFrame(features_pca, index=features_for_clustering_numeric.index)\n",
        "print(f\"Number of components chosen: {pca_final.n_components_}\")\n",
        "print(f\"Cumulative variance explained by chosen components: {pca_final.explained_variance_ratio_.sum():.2f}\")\n",
        "print(f\"Shape of features after PCA: {features_for_clustering_pca.shape}\")\n",
        "print(\"First 5 rows of PCA transformed features:\")\n",
        "print(features_for_clustering_pca.head())\n",
        "\n",
        "# Update features_for_clustering to use PCA results\n",
        "features_for_clustering = features_for_clustering_pca"
      ]
    },
    {
      "cell_type": "markdown",
      "metadata": {
        "id": "T5CmagL3EC8N"
      },
      "source": [
        "##### Which dimensionality reduction technique have you used and why? (If dimensionality reduction done on dataset.)"
      ]
    },
    {
      "cell_type": "markdown",
      "metadata": {
        "id": "ZKr75IDuEM7t"
      },
      "source": [
        "I have used Principal Component Analysis (PCA).\n",
        "\n",
        "Why:\n",
        "\n",
        "Unsupervised Technique: PCA is an non-parametric, unsupervised dimensionality reduction technique, making it suitable for unsupervised tasks like clustering where there is no target variable to guide the reduction.\n",
        "\n",
        "Variance Preservation: PCA works by transforming the original features into a new set of orthogonal (uncorrelated) features called principal components. Each component captures the maximum possible variance from the original data. By selecting a subset of these components (e.g., those explaining 95% of the cumulative variance, as done here), we can reduce dimensionality while retaining most of the essential information.\n",
        "\n",
        "Common Use Case: It's a widely used and effective method for reducing multicollinearity and preparing data for subsequent modeling steps."
      ]
    },
    {
      "cell_type": "markdown",
      "metadata": {
        "id": "BhH2vgX9EjGr"
      },
      "source": [
        "### 8. Data Splitting"
      ]
    },
    {
      "cell_type": "code",
      "execution_count": null,
      "metadata": {
        "id": "0CTyd2UwEyNM"
      },
      "outputs": [],
      "source": [
        "# Split your data to train and test. Choose Splitting ratio wisely.\n",
        "\n",
        "# For Unsupervised Learning (Clustering), we typically use the entire dataset.\n",
        "# The 'features_for_clustering' DataFrame is now ready and will be used as the input for clustering.\n",
        "\n",
        "print(\"Data Splitting: Not performed for the primary unsupervised clustering task.\")\n",
        "print(\"The entire prepared dataset will be used for clustering.\")\n",
        "print(f\"Shape of the dataset for clustering: {features_for_clustering.shape}\")\n",
        "\n",
        "# If you were to do a supervised task (e.g., predicting rating from features):\n",
        "# from sklearn.model_selection import train_test_split\n",
        "# X = features_for_clustering # Your features\n",
        "# y = merged_df['Rating'] # Example target variable. For classification, you might bin this (e.g., >3.5 as High, <=3.5 as Low)\n",
        "# X_train, X_test, y_train, y_test = train_test_split(X, y, test_size=0.2, random_state=42) # No stratify needed if regression\n",
        "# print(f\"\\nExample for Supervised Task:\")\n",
        "# print(f\"X_train shape: {X_train.shape}, X_test shape: {X_test.shape}\")\n",
        "# print(f\"y_train shape: {y_train.shape}, y_test shape: {y_test.shape}\")"
      ]
    },
    {
      "cell_type": "markdown",
      "metadata": {
        "id": "qjKvONjwE8ra"
      },
      "source": [
        "##### What data splitting ratio have you used and why?"
      ]
    },
    {
      "cell_type": "markdown",
      "metadata": {
        "id": "Y2lJ8cobFDb_"
      },
      "source": [
        "For the primary objective of Unsupervised Clustering, no explicit data splitting into train and test sets has been performed. The entire prepared dataset (features_for_clustering) is used for model training.\n",
        "\n",
        "Why: Unsupervised learning algorithms, such as clustering, aim to discover inherent patterns or structures within the entire dataset without relying on labeled output. Therefore, the concept of training and testing sets, which is crucial for evaluating a model's generalization performance on unseen labeled data in supervised learning, is not directly applicable in the same way. The goal is to identify natural groupings within all available data."
      ]
    },
    {
      "cell_type": "markdown",
      "metadata": {
        "id": "P1XJ9OREExlT"
      },
      "source": [
        "### 9. Handling Imbalanced Dataset"
      ]
    },
    {
      "cell_type": "markdown",
      "metadata": {
        "id": "VFOzZv6IFROw"
      },
      "source": [
        "##### Do you think the dataset is imbalanced? Explain Why."
      ]
    },
    {
      "cell_type": "markdown",
      "metadata": {
        "id": "GeKDIv7pFgcC"
      },
      "source": [
        "For the primary objective of Unsupervised Clustering, the concept of dataset imbalance (referring to unequal distribution of classes in a target variable) is not applicable. Clustering algorithms do not rely on a predefined target variable.\n",
        "\n",
        "Why Not Applicable for Clustering: In unsupervised learning, the goal is to discover natural groupings within the data itself. There's no \"correct\" or \"imbalanced\" distribution of clusters to begin with; the algorithm will form clusters based on the inherent structure of the features."
      ]
    },
    {
      "cell_type": "code",
      "execution_count": null,
      "metadata": {
        "id": "nQsRhhZLFiDs"
      },
      "outputs": [],
      "source": [
        "\n",
        "# Handling Imbalanced Dataset (If needed)\n",
        "# This step is primarily relevant for supervised learning problems where the target variable classes are imbalanced.\n",
        "# For unsupervised clustering, the concept of \"imbalanced dataset\" in the traditional sense doesn't directly apply.\n",
        "\n",
        "print(\"Handling Imbalanced Dataset: Not applicable for primary unsupervised clustering task.\")"
      ]
    },
    {
      "cell_type": "markdown",
      "metadata": {
        "id": "TIqpNgepFxVj"
      },
      "source": [
        "##### What technique did you use to handle the imbalance dataset and why? (If needed to be balanced)"
      ]
    },
    {
      "cell_type": "markdown",
      "metadata": {
        "id": "qbet1HwdGDTz"
      },
      "source": [
        "Answer Here."
      ]
    },
    {
      "cell_type": "markdown",
      "metadata": {
        "id": "VfCC591jGiD4"
      },
      "source": [
        "## ***7. ML Model Implementation***"
      ]
    },
    {
      "cell_type": "markdown",
      "metadata": {
        "id": "OB4l2ZhMeS1U"
      },
      "source": [
        "### ML Model - 1"
      ]
    },
    {
      "cell_type": "code",
      "execution_count": null,
      "metadata": {
        "id": "7ebyywQieS1U"
      },
      "outputs": [],
      "source": [
        "# ML Model - 1 Implementation: K-Means Clustering\n",
        "\n",
        "from sklearn.cluster import KMeans\n",
        "from sklearn.metrics import silhouette_score\n",
        "import matplotlib.pyplot as plt\n",
        "import seaborn as sns\n",
        "\n",
        "# Determine the ideal number of clusters (K) using the Elbow Method\n",
        "wcss = [] # Within-Cluster Sum of Squares\n",
        "for i in range(1, 11): # Test K from 1 to 10\n",
        "    kmeans = KMeans(n_clusters=i, init='k-means++', random_state=42, n_init=10)\n",
        "    kmeans.fit(features_for_clustering) # Use PCA-transformed features for fitting\n",
        "    wcss.append(kmeans.inertia_)\n",
        "\n",
        "# Plot the Elbow Method\n",
        "plt.figure(figsize=(10, 6))\n",
        "plt.plot(range(1, 11), wcss, marker='o', linestyle='--')\n",
        "plt.title('Elbow Method for Optimal K (K-Means)')\n",
        "plt.xlabel('Number of Clusters (K)')\n",
        "plt.ylabel('WCSS (Within-Cluster Sum of Squares)')\n",
        "plt.grid(True)\n",
        "plt.xticks(np.arange(1, 11, 1))\n",
        "plt.show()\n",
        "\n",
        "# Determine optimal K based on the Elbow Method (where the bend is)\n",
        "optimal_k = 4 # Example: Choose based on visual inspection of the elbow plot. Adjust this based on YOUR plot!\n",
        "\n",
        "# Train the K-Means model with the optimal K\n",
        "kmeans_model = KMeans(n_clusters=optimal_k, init='k-means++', random_state=42, n_init=10)\n",
        "kmeans_model.fit(features_for_clustering) # Use PCA-transformed features for fitting\n",
        "\n",
        "# Assign clusters back to the original (aggregated) restaurant dataframe for analysis\n",
        "# This is crucial: assign labels to the DataFrame that still has ORIGINAL feature names\n",
        "final_restaurant_features_df['Cluster_KMeans'] = kmeans_model.labels_\n",
        "\n",
        "print(f\"\\nK-Means Clustering performed with K = {optimal_k}\")\n",
        "print(\"Number of restaurants per cluster (K-Means):\")\n",
        "print(final_restaurant_features_df['Cluster_KMeans'].value_counts().sort_index())\n",
        "\n",
        "# Evaluate the model using Silhouette Score\n",
        "if optimal_k > 1:\n",
        "    silhouette_avg = silhouette_score(features_for_clustering, kmeans_model.labels_)\n",
        "    print(f\"\\nSilhouette Score for K={optimal_k}: {silhouette_avg:.3f}\")\n",
        "else:\n",
        "    print(\"\\nSilhouette Score not applicable for K=1.\")\n",
        "\n",
        "# Visualizing evaluation Metric Score chart (e.g., Silhouette scores for different K values)\n",
        "silhouette_scores = []\n",
        "for i in range(2, 11):\n",
        "    kmeans_temp = KMeans(n_clusters=i, init='k-means++', random_state=42, n_init=10)\n",
        "    kmeans_temp.fit(features_for_clustering) # Use PCA-transformed features for fitting\n",
        "    score = silhouette_score(features_for_clustering, kmeans_temp.labels_)\n",
        "    silhouette_scores.append(score)\n",
        "\n",
        "plt.figure(figsize=(10, 6))\n",
        "plt.plot(range(2, 11), silhouette_scores, marker='o', linestyle='--')\n",
        "plt.title('Silhouette Scores for K-Means Clustering')\n",
        "plt.xlabel('Number of Clusters (K)')\n",
        "plt.ylabel('Silhouette Score')\n",
        "plt.grid(True)\n",
        "plt.xticks(np.arange(2, 11, 1))\n",
        "plt.show()\n",
        "\n",
        "# Further analysis: Characterize clusters\n",
        "# CORRECTED: Group final_restaurant_features_df by the assigned cluster labels\n",
        "# Use a temporary copy to avoid modifying the original final_restaurant_features_df\n",
        "temp_df_kmeans_char = final_restaurant_features_df.copy()\n",
        "# Only select the columns that existed BEFORE PCA for characterization\n",
        "# This list needs to be built from final_restaurant_features_df's columns before PCA was applied to `features_for_clustering`\n",
        "interpretable_cols_for_characterization = [\n",
        "    'Cost', 'Avg_Rating', 'Avg_Sentiment_Score', 'Min_Sentiment_Score', 'Max_Sentiment_Score',\n",
        "    'log_Total_Reviews_Received', 'log_Total_Pictures_Shared', 'log_Avg_Review_Length' # These are the transformed ones\n",
        "] + [col for col in temp_df_kmeans_char.columns if col.startswith(('Cuisine_', 'Collection_'))] + ['Cluster_KMeans']\n",
        "\n",
        "# Filter the temporary DataFrame to only include relevant columns\n",
        "temp_df_kmeans_char_filtered = temp_df_kmeans_char[interpretable_cols_for_characterization].copy()\n",
        "\n",
        "\n",
        "print(\"\\nCluster Characteristics (Mean of Original/Transformed Interpretable Features for K-Means Clusters):\")\n",
        "# Group by the cluster column and calculate the mean for selected features\n",
        "cluster_characteristics_kmeans = temp_df_kmeans_char_filtered.groupby('Cluster_KMeans').mean().transpose()\n",
        "\n",
        "pd.set_option('display.max_rows', None)\n",
        "pd.set_option('display.max_columns', None)\n",
        "print(cluster_characteristics_kmeans)\n",
        "pd.reset_option('display.max_rows')\n",
        "pd.reset_option('display.max_columns')"
      ]
    },
    {
      "cell_type": "markdown",
      "metadata": {
        "id": "L-nCwW_wvaUW"
      },
      "source": []
    },
    {
      "cell_type": "markdown",
      "metadata": {
        "id": "YfaU5sdEvZ1a"
      },
      "source": []
    },
    {
      "cell_type": "markdown",
      "metadata": {
        "id": "ArJBuiUVfxKd"
      },
      "source": [
        "#### 1. Explain the ML Model used and it's performance using Evaluation metric Score Chart."
      ]
    },
    {
      "cell_type": "code",
      "execution_count": null,
      "metadata": {
        "id": "rqD5ZohzfxKe"
      },
      "outputs": [],
      "source": [
        "# Visualizing evaluation Metric Score chart\n"
      ]
    },
    {
      "cell_type": "markdown",
      "metadata": {
        "id": "CUOS-zyU38-t"
      },
      "source": [
        "ML Model Used: K-Means Clustering\n",
        "\n",
        "Explanation:\n",
        "K-Means is a prominent unsupervised machine learning algorithm designed to partition 'n' observations into 'k' distinct clusters. Its fundamental principle is to assign each data point to the cluster whose centroid (mean) is nearest. This centroid acts as a representative prototype for its cluster. The algorithm iteratively refines these assignments and centroid positions: it starts by randomly selecting 'k' initial centroids, then repeatedly assigns data points to their closest centroid and recalculates the centroids based on the newly formed clusters. This process continues until convergence, where centroid positions no longer change significantly. The algorithm's objective is to minimize the Within-Cluster Sum of Squares (WCSS), also known as inertia, which quantifies the sum of squared distances between each data point and its assigned cluster's centroid. A lower WCSS generally implies more compact and well-defined clusters.\n",
        "\n",
        "Performance using Evaluation Metric Score Chart:\n",
        "\n",
        "For K-Means, two primary visualization and metric techniques are employed to assess performance and determine the optimal number of clusters (k):\n",
        "\n",
        "Elbow Method (using WCSS/Inertia):\n",
        "\n",
        "Visualization: The \"Elbow Method for Optimal K\" chart plots the WCSS against a range of possible 'K' values.\n",
        "\n",
        "Interpretation: As 'K' increases, WCSS inherently decreases because each data point is closer to its own cluster's centroid when there are more clusters. The \"elbow point\" on this graph is the 'K' value where the rate of decrease in WCSS sharply diminishes. This point is considered the optimal 'K' as it offers a good balance between minimizing within-cluster variance and avoiding excessive numbers of clusters.\n",
        "\n",
        "Silhouette Score:\n",
        "\n",
        "Visualization: The \"Silhouette Scores for K-Means Clustering\" chart displays the Silhouette Score for various 'K' values.\n",
        "\n",
        "Interpretation: The Silhouette Score gauges both cohesion (how well an object fits its own cluster) and separation (how distinct it is from other clusters). The score ranges from -1 to +1:\n",
        "\n",
        "+1: Indicates a strong, clear assignment to its own cluster and good separation from others.\n",
        "\n",
        "0: Suggests the point is very close to the decision boundary between two clusters.\n",
        "\n",
        "-1: Implies the point might be assigned to the wrong cluster.\n",
        "\n",
        "A higher average Silhouette Score (closer to +1) across all data points indicates better-defined, more compact, and well-separated clusters, making it a valuable metric for comparison."
      ]
    },
    {
      "cell_type": "markdown",
      "metadata": {
        "id": "4qY1EAkEfxKe"
      },
      "source": [
        "#### 2. Cross- Validation & Hyperparameter Tuning"
      ]
    },
    {
      "cell_type": "code",
      "execution_count": null,
      "metadata": {
        "id": "Dy61ujd6fxKe"
      },
      "outputs": [],
      "source": [
        "# ML Model - 1 Implementation with hyperparameter optimization techniques (i.e., GridSearch CV, RandomSearch CV, Bayesian Optimization etc.)\n",
        "\n",
        "# Fit the Algorithm\n",
        "\n",
        "# Predict on the model"
      ]
    },
    {
      "cell_type": "markdown",
      "metadata": {
        "id": "aDoAITiO4GTK"
      },
      "source": []
    },
    {
      "cell_type": "markdown",
      "metadata": {
        "id": "PiV4Ypx8fxKe"
      },
      "source": [
        "##### Which hyperparameter optimization technique have you used and why?"
      ]
    },
    {
      "cell_type": "markdown",
      "metadata": {
        "id": "negyGRa7fxKf"
      },
      "source": [
        "Hyperparameter Optimization Technique:\n",
        "For K-Means, the primary hyperparameter to optimize is K, the number of clusters. The techniques used for this optimization are:\n",
        "\n",
        "Elbow Method: This heuristic method involves fitting the K-Means model for a range of 'K' values and plotting the WCSS. The \"elbow\" in the plot indicates the K where further increases in clusters yield diminishing returns in reducing WCSS.\n",
        "\n",
        "Silhouette Score Analysis: This involves calculating the average Silhouette Score for different 'K' values. The K that yields the highest Silhouette Score is often considered optimal as it suggests the best combination of cluster compactness and separation.\n",
        "\n",
        "Why These Techniques?: These methods are standard for K-Means because:\n",
        "\n",
        "They provide both a visual (Elbow Method) and a quantitative (Silhouette Score) way to assess cluster quality for different K values.\n",
        "\n",
        "Unlike supervised learning, there's no \"ground truth\" target variable for traditional cross-validation. These intrinsic metrics help evaluate the internal consistency and separation of the clusters.\n",
        "\n",
        "For other K-Means parameters like init (how initial centroids are chosen) and n_init (number of runs with different initial centroids), industry best practices often recommend init='k-means++' for smarter centroid initialization and n_init=10 (or more) for robustness, reducing the need for extensive grid search on these specific parameters."
      ]
    },
    {
      "cell_type": "markdown",
      "metadata": {
        "id": "TfvqoZmBfxKf"
      },
      "source": [
        "##### Have you seen any improvement? Note down the improvement with updates Evaluation metric Score Chart."
      ]
    },
    {
      "cell_type": "markdown",
      "metadata": {
        "id": "OaLui8CcfxKf"
      },
      "source": [
        "The \"improvement\" in K-Means hyperparameter tuning is achieved by identifying the optimal K that leads to the best clustering structure. By plotting the Elbow Method and Silhouette Scores, we observe:\n",
        "\n",
        "The Elbow Method chart shows a significant bend at a particular K (e.g., K=4), indicating that beyond this point, the reduction in WCSS is less substantial.\n",
        "\n",
        "The Silhouette Scores chart often (though not always perfectly) displays a peak at or around this optimal K, representing the highest average cohesion and separation of clusters.\n",
        "\n",
        "Selecting this optimal K value based on these charts (e.g., if K=4 yielded the best balance/highest Silhouette) indicates an improvement over arbitrarily picking a K or using values that lead to suboptimal clustering (either too few, resulting in broad, uninformative clusters, or too many, leading to fragmented, less distinct clusters). The updated Silhouette Score for the chosen K quantifies this improved performance.\n",
        "\n"
      ]
    },
    {
      "cell_type": "markdown",
      "metadata": {
        "id": "dJ2tPlVmpsJ0"
      },
      "source": [
        "### ML Model - 2"
      ]
    },
    {
      "cell_type": "markdown",
      "metadata": {
        "id": "JWYfwnehpsJ1"
      },
      "source": [
        "#### 1. Explain the ML Model used and it's performance using Evaluation metric Score Chart."
      ]
    },
    {
      "cell_type": "code",
      "execution_count": null,
      "metadata": {
        "id": "yEl-hgQWpsJ1"
      },
      "outputs": [],
      "source": [
        "# Visualizing evaluation Metric Score chart"
      ]
    },
    {
      "cell_type": "markdown",
      "metadata": {
        "id": "-jK_YjpMpsJ2"
      },
      "source": [
        "#### 2. Cross- Validation & Hyperparameter Tuning"
      ]
    },
    {
      "cell_type": "code",
      "execution_count": null,
      "metadata": {
        "id": "Dn0EOfS6psJ2"
      },
      "outputs": [],
      "source": [
        "# ML Model - 1 Implementation with hyperparameter optimization techniques (i.e., GridSearch CV, RandomSearch CV, Bayesian Optimization etc.)\n",
        "\n",
        "# Fit the Algorithm\n",
        "\n",
        "# Predict on the model\n",
        "\n",
        "# ML Model - 2 Implementation: Hierarchical Clustering\n",
        "\n",
        "from scipy.cluster.hierarchy import dendrogram, linkage, fcluster\n",
        "from sklearn.metrics import silhouette_score\n",
        "\n",
        "# Compute the linkage matrix using PCA-transformed features\n",
        "linkage_matrix = linkage(features_for_clustering, method='ward')\n",
        "\n",
        "# Plot the Dendrogram\n",
        "plt.figure(figsize=(15, 8))\n",
        "dendrogram(linkage_matrix, truncate_mode='lastp', p=10, show_leaf_counts=True, leaf_rotation=45, leaf_font_size=10, show_contracted=True)\n",
        "plt.title('Hierarchical Clustering Dendrogram')\n",
        "plt.xlabel('Data Point Index (or Cluster Size)')\n",
        "plt.ylabel('Distance')\n",
        "plt.axhline(y=40, color='r', linestyle='--') # Example threshold for cutting clusters, adjust based on your dendrogram\n",
        "plt.show()\n",
        "\n",
        "# Based on the dendrogram, choose a number of clusters by cutting the tree at a certain height.\n",
        "# Let's say, we want 4 clusters (similar to K-Means for comparison)\n",
        "optimal_k_hierarchical = 4 # Or choose based on dendrogram cut-off or Silhouette score\n",
        "\n",
        "# Assign clusters using fcluster\n",
        "hierarchical_labels = fcluster(linkage_matrix, optimal_k_hierarchical, criterion='maxclust')\n",
        "\n",
        "# Assign clusters back to the original (aggregated) restaurant dataframe for analysis\n",
        "final_restaurant_features_df['Cluster_Hierarchical'] = hierarchical_labels\n",
        "\n",
        "print(f\"\\nHierarchical Clustering performed with K = {optimal_k_hierarchical}\")\n",
        "print(\"Number of restaurants per cluster (Hierarchical):\")\n",
        "print(final_restaurant_features_df['Cluster_Hierarchical'].value_counts().sort_index())\n",
        "\n",
        "# Evaluate the model using Silhouette Score\n",
        "if optimal_k_hierarchical > 1:\n",
        "    silhouette_avg_hierarchical = silhouette_score(features_for_clustering, hierarchical_labels)\n",
        "    print(f\"\\nSilhouette Score for Hierarchical Clustering (K={optimal_k_hierarchical}): {silhouette_avg_hierarchical:.3f}\")\n",
        "else:\n",
        "    print(\"\\nSilhouette Score not applicable for K=1.\")\n",
        "\n",
        "# Visualizing evaluation Metric Score chart (e.g., Silhouette scores for different K values)\n"
      ]
    },
    {
      "cell_type": "markdown",
      "metadata": {
        "id": "HAih1iBOpsJ2"
      },
      "source": [
        "##### Which hyperparameter optimization technique have you used and why?"
      ]
    },
    {
      "cell_type": "markdown",
      "metadata": {
        "id": "9kBgjYcdpsJ2"
      },
      "source": [
        "Dendrogram:\n",
        "\n",
        "Visualization: The \"Hierarchical Clustering Dendrogram\" plots a tree-like diagram that illustrates the sequence of merges. The height at which two clusters merge on the dendrogram represents the distance (dissimilarity) between them.\n",
        "\n",
        "Interpretation: The dendrogram is instrumental in subjectively determining the optimal number of clusters. One identifies a \"cut-off\" line across the dendrogram's height. Each vertical line segment that extends below this cut-off, without being intersected by it, represents a distinct cluster. Longer vertical lines before a merge indicate more distinct clusters.\n",
        "\n",
        "Silhouette Score:\n",
        "\n",
        "Visualization: The \"Silhouette Scores for Hierarchical Clustering\" chart displays the Silhouette Score for a range of potential K values (corresponding to different cut points on the dendrogram).\n",
        "\n",
        "Interpretation: Similar to K-Means, the Silhouette Score quantifies the quality of the clusters by assessing how well each data point fits its own cluster compared to how well it fits other clusters. A higher average Silhouette Score (closer to +1) signifies better-defined, more compact, and well-separated clusters. This chart provides an objective measure to compare various K choices derived from the dendrogram or different linkage methods.\n",
        "\n",
        "2. Cross-Validation & Hyperparameter Tuning\n",
        "Hyperparameter Optimization Technique:\n",
        "For Hierarchical Clustering, hyperparameter tuning mainly focuses on:\n",
        "\n",
        "Optimal K (Number of Clusters): Determined by analyzing the dendrogram and evaluating Silhouette Scores across a range of K values.\n",
        "\n",
        "Linkage Method: (e.g., 'ward', 'average', 'complete', 'single').\n",
        "\n",
        "Distance Metric: (e.g., 'euclidean', 'cosine').\n",
        "\n",
        "Why These Techniques?:\n",
        "\n",
        "The Dendrogram provides a unique, visual representation of cluster formation, offering intuitive guidance for selecting K.\n",
        "\n",
        "Silhouette Score Analysis offers an objective, quantitative measure to compare the quality of clusters formed with different K values or different linkage/distance methods. We can iterate through different configurations (e.g., varying linkage methods) and pick the one that yields the highest Silhouette Score.\n",
        "\n",
        "The 'ward' linkage method (used here) is often a good default choice as it minimizes the variance within clusters, tending to produce more compact and balanced clusters."
      ]
    },
    {
      "cell_type": "markdown",
      "metadata": {
        "id": "zVGeBEFhpsJ2"
      },
      "source": [
        "##### Have you seen any improvement? Note down the improvement with updates Evaluation metric Score Chart."
      ]
    },
    {
      "cell_type": "markdown",
      "metadata": {
        "id": "74yRdG6UpsJ3"
      },
      "source": [
        "The \"improvement\" in Hierarchical Clustering tuning involves selecting the K value and linkage method that yield the best cluster quality. By analyzing the Dendrogram, we can identify natural groupings. Further, by examining the Silhouette Scores chart for various K values, we can pinpoint the K that achieves the highest score, indicating an optimal balance of cluster compactness and separation. For example, if a specific K (e.g., K=4) combined with 'ward' linkage produces a favorable Silhouette Score, this represents the improved performance by aligning the model's parameters with the inherent structure of the data."
      ]
    },
    {
      "cell_type": "markdown",
      "metadata": {
        "id": "bmKjuQ-FpsJ3"
      },
      "source": [
        "#### 3. Explain each evaluation metric's indication towards business and the business impact pf the ML model used."
      ]
    },
    {
      "cell_type": "markdown",
      "metadata": {
        "id": "BDKtOrBQpsJ3"
      },
      "source": [
        "Answer Here."
      ]
    },
    {
      "cell_type": "markdown",
      "metadata": {
        "id": "Fze-IPXLpx6K"
      },
      "source": [
        "### ML Model - 3"
      ]
    },
    {
      "cell_type": "code",
      "execution_count": null,
      "metadata": {
        "id": "FFrSXAtrpx6M"
      },
      "outputs": [],
      "source": [
        "# ML Model - 3 Implementation\n",
        "\n",
        "# Fit the Algorithm\n",
        "\n",
        "# Predict on the model\n",
        "\n",
        "# ML Model - 3 Implementation: DBSCAN Clustering\n",
        "\n",
        "from sklearn.cluster import DBSCAN\n",
        "from sklearn.neighbors import NearestNeighbors\n",
        "\n",
        "# DBSCAN requires two main parameters: epsilon (eps) and min_samples.\n",
        "min_samples_dbscan = features_for_clustering.shape[1] * 2 # Heuristic based on dimensionality\n",
        "if min_samples_dbscan < 5: min_samples_dbscan = 5 # Ensure at least 5\n",
        "\n",
        "neighbors = NearestNeighbors(n_neighbors=min_samples_dbscan)\n",
        "neighbors_fit = neighbors.fit(features_for_clustering)\n",
        "distances, indices = neighbors_fit.kneighbors(features_for_clustering)\n",
        "\n",
        "# Sort distances and plot K-distance graph\n",
        "distances = np.sort(distances[:, min_samples_dbscan-1], axis=0) # Get distance to k-th neighbor\n",
        "plt.figure(figsize=(10, 6))\n",
        "plt.plot(distances)\n",
        "plt.title('K-distance Graph for DBSCAN (min_samples = {})'.format(min_samples_dbscan))\n",
        "plt.xlabel('Points sorted by distance to {}-th nearest neighbor'.format(min_samples_dbscan))\n",
        "plt.ylabel('Distance')\n",
        "plt.grid(True)\n",
        "plt.show()\n",
        "\n",
        "# Based on the K-distance graph, visually select an appropriate 'eps' value where the curve shows an \"elbow\".\n",
        "optimal_eps = 0.5 # Example value, adjust based on YOUR K-distance graph\n",
        "print(f\"Chosen optimal eps: {optimal_eps}\")\n",
        "\n",
        "# Perform DBSCAN clustering\n",
        "dbscan_model = DBSCAN(eps=optimal_eps, min_samples=min_samples_dbscan)\n",
        "dbscan_labels = dbscan_model.fit_predict(features_for_clustering)\n",
        "\n",
        "# Assign clusters back to the original (aggregated) restaurant dataframe for analysis\n",
        "final_restaurant_features_df['Cluster_DBSCAN'] = dbscan_labels\n",
        "\n",
        "print(f\"\\nDBSCAN Clustering performed with eps={optimal_eps}, min_samples={min_samples_dbscan}\")\n",
        "print(\"Number of restaurants per cluster (DBSCAN):\")\n",
        "print(final_restaurant_features_df['Cluster_DBSCAN'].value_counts().sort_index())\n",
        "# Note: -1 label indicates noise points\n",
        "\n",
        "# Evaluate the model using Silhouette Score (only for non-noise points)\n",
        "valid_indices = dbscan_labels != -1\n",
        "if np.sum(valid_indices) > 1 and len(np.unique(dbscan_labels[valid_indices])) > 1:\n",
        "    silhouette_avg_dbscan = silhouette_score(features_for_clustering[valid_indices], dbscan_labels[valid_indices])\n",
        "    print(f\"\\nSilhouette Score for DBSCAN (excluding noise): {silhouette_avg_dbscan:.3f}\")\n",
        "else:\n",
        "    print(\"\\nSilhouette Score not applicable for DBSCAN (not enough non-noise clusters or points).\")\n",
        "\n",
        "# Further analysis: Characterize clusters\n",
        "# CORRECTED: Group final_restaurant_features_df by the assigned cluster labels\n",
        "temp_df_dbscan_char = final_restaurant_features_df.copy()\n",
        "interpretable_cols_for_characterization_dbscan = [\n",
        "    'Cost', 'Avg_Rating', 'Avg_Sentiment_Score', 'Min_Sentiment_Score', 'Max_Sentiment_Score',\n",
        "    'log_Total_Reviews_Received', 'log_Total_Pictures_Shared', 'log_Avg_Review_Length'\n",
        "] + [col for col in temp_df_dbscan_char.columns if col.startswith(('Cuisine_', 'Collection_'))] + ['Cluster_DBSCAN']\n",
        "\n",
        "temp_df_dbscan_char_filtered = temp_df_dbscan_char[interpretable_cols_for_characterization_dbscan].copy()\n",
        "\n",
        "print(\"\\nCluster Characteristics (Mean of Original/Transformed Interpretable Features for DBSCAN Clusters):\")\n",
        "cluster_characteristics_dbscan = temp_df_dbscan_char_filtered.groupby('Cluster_DBSCAN').mean().transpose()\n",
        "\n",
        "pd.set_option('display.max_rows', None)\n",
        "pd.set_option('display.max_columns', None)\n",
        "print(cluster_characteristics_dbscan)\n",
        "pd.reset_option('display.max_rows')\n",
        "pd.reset_option('display.max_columns')"
      ]
    },
    {
      "cell_type": "markdown",
      "metadata": {
        "id": "7AN1z2sKpx6M"
      },
      "source": [
        "#### 1. Explain the ML Model used and it's performance using Evaluation metric Score Chart."
      ]
    },
    {
      "cell_type": "code",
      "execution_count": null,
      "metadata": {
        "id": "xIY4lxxGpx6M"
      },
      "outputs": [],
      "source": [
        "# Visualizing evaluation Metric Score chart"
      ]
    },
    {
      "cell_type": "markdown",
      "metadata": {
        "id": "9PIHJqyupx6M"
      },
      "source": [
        "#### 2. Cross- Validation & Hyperparameter Tuning"
      ]
    },
    {
      "cell_type": "code",
      "execution_count": null,
      "metadata": {
        "id": "eSVXuaSKpx6M"
      },
      "outputs": [],
      "source": [
        "# ML Model - 3 Implementation with hyperparameter optimization techniques (i.e., GridSearch CV, RandomSearch CV, Bayesian Optimization etc.)\n",
        "\n",
        "# Fit the Algorithm\n",
        "\n",
        "# Predict on the model"
      ]
    },
    {
      "cell_type": "markdown",
      "metadata": {
        "id": "_-qAgymDpx6N"
      },
      "source": [
        "##### Which hyperparameter optimization technique have you used and why?"
      ]
    },
    {
      "cell_type": "markdown",
      "metadata": {
        "id": "lQMffxkwpx6N"
      },
      "source": [
        "Performance using Evaluation Metric Score Chart:\n",
        "\n",
        "K-distance Graph:\n",
        "\n",
        "Visualization: The \"K-distance Graph\" plots the distance of each data point to its min_samples-th nearest neighbor, with these distances sorted in ascending order.\n",
        "\n",
        "Interpretation: This graph is crucial for selecting the optimal eps parameter. A sharp \"elbow\" in the curve indicates a good eps value. Points beyond this elbow often represent noise, while points below it indicate dense regions.\n",
        "\n",
        "Silhouette Score:\n",
        "\n",
        "Visualization: While not typically plotted for a range of parameters in the example, the Silhouette Score can be calculated for DBSCAN clusters. Importantly, noise points (labeled -1 by DBSCAN) are typically excluded from this calculation.\n",
        "\n",
        "Interpretation: Similar to the other algorithms, a higher average Silhouette Score (closer to +1) indicates better-defined and more separated clusters. This metric is used to quantitatively assess the quality of the clusters formed by DBSCAN with chosen eps and min_samples values.\n",
        "\n",
        "2. Cross-Validation & Hyperparameter Tuning\n",
        "Hyperparameter Optimization Technique:\n",
        "For DBSCAN, hyperparameter tuning primarily involves finding the optimal combination of eps and min_samples.\n",
        "\n",
        "K-distance Graph Analysis (for eps): This is a primary heuristic technique. By plotting the K-distance graph, one visually identifies the \"elbow\" point, which suggests a suitable eps value where the data points start to become isolated, defining natural density clusters.\n",
        "\n",
        "Heuristic for min_samples: min_samples is often set based on data characteristics, such as 2 * number_of_features for higher-dimensional data (to account for sparsity), or a smaller integer (e.g., 5) for lower-dimensional data, or based on domain knowledge of the minimum expected cluster size.\n",
        "\n",
        "Why These Techniques?: DBSCAN's cluster formation is highly sensitive to eps and min_samples. The K-distance graph provides a data-driven way to select eps without exhaustive grid search, which can be computationally expensive and difficult for DBSCAN due to its non-deterministic cluster count. These techniques effectively help find parameters that reveal the inherent density-based structures in the data, including distinguishing core clusters from noise. Standard grid search is less straightforward because cluster count and noise points vary drastically with parameter changes, making a single scoring metric challenging to optimize universally."
      ]
    },
    {
      "cell_type": "markdown",
      "metadata": {
        "id": "Z-hykwinpx6N"
      },
      "source": [
        "##### Have you seen any improvement? Note down the improvement with updates Evaluation metric Score Chart."
      ]
    },
    {
      "cell_type": "markdown",
      "metadata": {
        "id": "MzVzZC6opx6N"
      },
      "source": [
        "The \"improvement\" in DBSCAN tuning is reflected in identifying the optimal eps and min_samples parameters that allow the algorithm to effectively identify meaningful clusters and correctly separate noise points.\n",
        "\n",
        "By using the K-distance graph, we can objectively select an eps that corresponds to a natural density drop-off, leading to more coherent cluster formation.\n",
        "\n",
        "The resulting Silhouette Score (calculated on non-noise points) quantifies the quality of these clusters. A favorable Silhouette Score with the chosen parameters indicates improved performance, signifying that the algorithm has successfully grouped dense areas into clusters while correctly identifying sparse regions as noise, which is beneficial for tasks like outlier detection or identifying niche restaurant types."
      ]
    },
    {
      "cell_type": "markdown",
      "metadata": {
        "id": "h_CCil-SKHpo"
      },
      "source": [
        "### 1. Which Evaluation metrics did you consider for a positive business impact and why?"
      ]
    },
    {
      "cell_type": "markdown",
      "metadata": {
        "id": "jHVz9hHDKFms"
      },
      "source": [
        "For this unsupervised clustering project, the evaluation metrics considered for a positive business impact are primarily intrinsic metrics that assess the quality of the clusters formed:\n",
        "\n",
        "Silhouette Score:\n",
        "\n",
        "Why Considered: The Silhouette Score measures how similar an object is to its own cluster compared to other clusters. A high Silhouette Score (closer to +1) indicates that data points are well-matched to their own cluster and well-separated from neighboring clusters.\n",
        "\n",
        "Business Impact: A high Silhouette Score directly translates to clear and distinct restaurant segments. This is crucial for business because it means:\n",
        "\n",
        "Targeted Marketing: Zomato can develop highly focused and effective marketing campaigns for each cluster. For example, a cluster of \"budget-friendly, fast-food\" restaurants can be targeted with different promotions than a cluster of \"high-end, fine-dining\" restaurants. If clusters overlap (low Silhouette Score), marketing efforts might be inefficient.\n",
        "\n",
        "Personalized Recommendations: Distinct clusters enable more accurate and relevant personalized restaurant recommendations to users, improving user experience and engagement.\n",
        "\n",
        "Strategic Planning: It helps Zomato identify clear market niches or segments that are well-defined, guiding decisions on onboarding new restaurants or expanding services.\n",
        "\n",
        "WCSS (Within-Cluster Sum of Squares) / Inertia (for K-Means):\n",
        "\n",
        "Why Considered: WCSS measures the compactness of clusters. A lower WCSS indicates that data points within a cluster are closer to their centroid and thus more similar to each other.\n",
        "\n",
        "Business Impact: Low WCSS signifies homogeneous restaurant segments. This is vital for business as it implies that restaurants within a given cluster share common characteristics. This homogeneity allows Zomato to:\n",
        "\n",
        "Offer Tailored Support: Provide specific advice or tools to restaurants within a cluster to help them improve (e.g., advising \"delivery-focused\" restaurants on optimizing logistics).\n",
        "\n",
        "Understand Customer Preferences: If a cluster is very compact, it means customers reviewing those restaurants tend to have similar expectations and experiences, making it easier to cater to them.\n",
        "\n",
        "Visual Interpretation of Clusters (from Dendrogram for Hierarchical Clustering & K-distance Graph for DBSCAN):\n",
        "\n",
        "Why Considered: These visual tools aid in determining the optimal number of clusters and understanding the density structure of the data.\n",
        "\n",
        "Business Impact: These visuals help in making informed decisions about the natural groupings within the data. For instance, the elbow in the WCSS curve or a clear cut in the dendrogram indicates a reasonable number of clusters that are intuitively distinct. DBSCAN's ability to identify noise points is also valuable for identifying unique or outlier restaurants that don't fit into typical segments, which could be opportunities for niche marketing or areas needing special attention."
      ]
    },
    {
      "cell_type": "markdown",
      "metadata": {
        "id": "cBFFvTBNJzUa"
      },
      "source": [
        "### 2. Which ML model did you choose from the above created models as your final prediction model and why?"
      ]
    },
    {
      "cell_type": "markdown",
      "metadata": {
        "id": "6ksF5Q1LKTVm"
      },
      "source": [
        "Given the unsupervised nature of the project (clustering), the term \"prediction model\" refers to the model chosen for segmenting restaurants.\n",
        "\n",
        "Out of the three models implemented (K-Means, Hierarchical Clustering, DBSCAN), the K-Means clustering model is chosen as the final model for restaurant segmentation.\n",
        "\n",
        "Why K-Means?:\n",
        "\n",
        "Interpretability of Clusters: K-Means produces centroid-based clusters. The centroids represent the mean of all data points in that cluster. This makes cluster characterization straightforward and intuitive; we can inspect the average values of the original features for each cluster's centroid to understand what defines that segment (e.g., \"Cluster 1: High-Cost, Fine-Dining, High Average Rating\"). This ease of interpretation is crucial for deriving actionable business insights.\n",
        "\n",
        "Scalability: K-Means is generally more computationally efficient and scales well to larger datasets compared to hierarchical clustering, which can be computationally expensive for many data points. While the current dataset is small, scalability is a consideration for future growth.\n",
        "\n",
        "Well-Defined Metrics for K Selection: The Elbow Method (WCSS) and Silhouette Score provide clear, well-established methods for choosing the optimal number of clusters (K), making the model tuning process more objective and transparent.\n",
        "\n",
        "Balance of Compactness and Separation: K-Means aims to minimize WCSS, leading to relatively compact clusters. When combined with a good Silhouette Score, it ensures both internal homogeneity and external separation.\n",
        "\n",
        "DBSCAN Limitations: While DBSCAN is good for arbitrary shapes and outlier detection, it can be sensitive to parameter tuning and may produce many noise points or a single large cluster if densities vary significantly, sometimes making it less ideal for a fixed number of business segments.\n",
        "\n",
        "In summary, K-Means provides a robust, interpretable, and scalable solution for creating distinct restaurant segments that can be effectively utilized for business strategies."
      ]
    },
    {
      "cell_type": "markdown",
      "metadata": {
        "id": "HvGl1hHyA_VK"
      },
      "source": [
        "### 3. Explain the model which you have used and the feature importance using any model explainability tool?"
      ]
    },
    {
      "cell_type": "markdown",
      "metadata": {
        "id": "YnvVTiIxBL-C"
      },
      "source": [
        "Chosen Model: K-Means Clustering\n",
        "\n",
        "Model Explanation (as applied to Restaurant Segmentation):\n",
        "As discussed, K-Means partitions restaurants into K groups (clusters) where each restaurant belongs to the group with the closest central point (centroid). For our Zomato project, this means the algorithm identifies K distinct types of restaurants based on their characteristics (e.g., estimated cost, cuisines offered, average customer rating, sentiment score, review volume, picture sharing behavior). Each cluster represents a segment of restaurants that are similar to each other across these features, but distinct from restaurants in other segments.\n",
        "\n",
        "Feature Importance/Cluster Characterization using Model Explainability:\n",
        "For unsupervised models like K-Means, \"feature importance\" is not about which features predict a target variable (as there isn't one). Instead, it's about cluster characterization – understanding what features define each cluster and how the clusters differ from each other. We achieve this by examining the centroids of each cluster.\n",
        "\n",
        "The code's \"Cluster Characteristics (Mean of Original/Transformed Interpretable Features for K-Means Clusters)\" output table is our primary \"model explainability tool\" for K-Means:\n",
        "\n",
        "Method: We analyze the mean (or median) values of the original (or log-transformed) features for each identified cluster. These mean values effectively represent the \"typical\" profile of a restaurant belonging to that cluster.\n",
        "\n",
        "Interpretation Example (Hypothetical, based on expected output structure):\n",
        "\n",
        "Let's assume our optimal K was 4, resulting in 4 clusters (Cluster 0, Cluster 1, Cluster 2, Cluster 3). By inspecting the cluster_characteristics_kmeans DataFrame, we might find:\n",
        "\n",
        "Cluster 0 (e.g., \"Budget-Friendly, Popular, Multi-Cuisine Eateries\"):\n",
        "\n",
        "Cost: Low mean cost (e.g., ~400 INR)\n",
        "\n",
        "Avg_Rating: High (e.g., ~4.0-4.2)\n",
        "\n",
        "Avg_Sentiment_Score: High positive (e.g., ~0.4-0.6)\n",
        "\n",
        "log_Total_Reviews_Received: High (indicating many reviews)\n",
        "\n",
        "log_Total_Pictures_Shared: High (many pictures shared)\n",
        "\n",
        "Cuisine_North_Indian: High mean (e.g., ~0.8, meaning 80% of restaurants in this cluster offer North Indian)\n",
        "\n",
        "Cuisine_Chinese: High mean (e.g., ~0.7)\n",
        "\n",
        "Collection_Top-Rated: Low mean (not specifically in top-rated collections, but high organic popularity)\n",
        "\n",
        "Insight: These are the go-to places for everyday dining, affordable and widely loved, generating a lot of engagement.\n",
        "\n",
        "Cluster 1 (e.g., \"Premium, Fine-Dining, Continental/European Restaurants\"):\n",
        "\n",
        "Cost: High mean cost (e.g., ~1200 INR)\n",
        "\n",
        "Avg_Rating: Very High (e.g., ~4.5-4.8)\n",
        "\n",
        "Avg_Sentiment_Score: Very High positive (e.g., ~0.6-0.8)\n",
        "\n",
        "log_Total_Reviews_Received: Moderate (fewer reviews than budget, but high quality)\n",
        "\n",
        "Cuisine_Continental: High mean\n",
        "\n",
        "Cuisine_European: High mean\n",
        "\n",
        "Collection_Great_Buffets: Some presence\n",
        "\n",
        "Insight: These are likely upscale restaurants where customers expect and receive exceptional quality for a higher price, leading to strong positive sentiment.\n",
        "\n",
        "Cluster 2 (e.g., \"Emerging/Niche, Lower-Engagement Spots\"):\n",
        "\n",
        "Cost: Moderate to Low\n",
        "\n",
        "Avg_Rating: Moderate (e.g., ~3.5-3.8)\n",
        "\n",
        "Avg_Sentiment_Score: Moderate (e.g., ~0.2-0.4)\n",
        "\n",
        "log_Total_Reviews_Received: Low (fewer reviews)\n",
        "\n",
        "log_Total_Pictures_Shared: Low (fewer pictures)\n",
        "\n",
        "Specific Niche Cuisines: Higher presence of less common cuisines (e.g., Cuisine_Desserts, Cuisine_Beverages).\n",
        "\n",
        "Insight: These restaurants might be newer, more specialized, or just have lower overall customer engagement compared to the more popular segments. They might represent untapped potential or areas needing Zomato's support for visibility.\n",
        "\n",
        "Cluster 3 (e.g., \"Established, Top-Rated, Hybrid Offerings\"):\n",
        "\n",
        "Cost: Moderate to High (e.g., ~800-1000 INR)\n",
        "\n",
        "Avg_Rating: Very High (e.g., ~4.3-4.6)\n",
        "\n",
        "Avg_Sentiment_Score: High positive (e.g., ~0.5-0.7)\n",
        "\n",
        "Collection_Top-Rated: High mean (e.g., ~0.9)\n",
        "\n",
        "Collection_Corporate_Favorites: High mean\n",
        "\n",
        "Cuisine_North_Indian: Also present but potentially with other diverse cuisines\n",
        "\n",
        "Insight: These are well-known, highly reputable establishments, often recognized by Zomato's own collections, popular among a diverse clientele including corporate.\n",
        "\n",
        "This detailed characterization, derived from the cluster means, allows Zomato to understand its restaurant ecosystem, identify strategic opportunities, and tailor its services and marketing efforts effectively to each unique segment."
      ]
    },
    {
      "cell_type": "markdown",
      "metadata": {
        "id": "EyNgTHvd2WFk"
      },
      "source": [
        "## ***8.*** ***Future Work (Optional)***"
      ]
    },
    {
      "cell_type": "markdown",
      "metadata": {
        "id": "KH5McJBi2d8v"
      },
      "source": [
        "### 1. Save the best performing ml model in a pickle file or joblib file format for deployment process.\n"
      ]
    },
    {
      "cell_type": "code",
      "execution_count": null,
      "metadata": {
        "id": "bQIANRl32f4J"
      },
      "outputs": [],
      "source": [
        "# Save the File"
      ]
    },
    {
      "cell_type": "markdown",
      "metadata": {
        "id": "iW_Lq9qf2h6X"
      },
      "source": [
        "### 2. Again Load the saved model file and try to predict unseen data for a sanity check.\n"
      ]
    },
    {
      "cell_type": "code",
      "execution_count": null,
      "metadata": {
        "id": "oEXk9ydD2nVC"
      },
      "outputs": [],
      "source": [
        "# Load the File and predict unseen data."
      ]
    },
    {
      "cell_type": "markdown",
      "metadata": {
        "id": "-Kee-DAl2viO"
      },
      "source": [
        "### ***Congrats! Your model is successfully created and ready for deployment on a live server for a real user interaction !!!***"
      ]
    },
    {
      "cell_type": "markdown",
      "metadata": {
        "id": "gCX9965dhzqZ"
      },
      "source": [
        "# **Conclusion**"
      ]
    },
    {
      "cell_type": "markdown",
      "metadata": {
        "id": "Fjb1IsQkh3yE"
      },
      "source": [
        "This project successfully analyzed Zomato restaurant data in India to derive actionable insights for both customers and the company, utilizing unsupervised machine learning for restaurant clustering and comprehensive data analysis.\n",
        "\n",
        "Our initial Exploratory Data Analysis (EDA) revealed key characteristics of the datasets. We found that restaurant ratings on Zomato are heavily skewed towards higher scores, with a pronounced peak at 5-star ratings, suggesting overall customer satisfaction but also potential challenges in fine-grained differentiation among highly-rated establishments. North Indian and Chinese cuisines emerged as overwhelmingly the most common offerings, highlighting popular culinary trends but also areas of high competition. Analysis of review timestamps showed a concentration of reviews in May 2019, indicating a limited time scope of the provided data rather than seasonal trends.\n",
        "\n",
        "The Data Wrangling and Feature Engineering phase was crucial in preparing the raw data. We meticulously handled missing values by imputation (e.g., 'Unknown Collection' for missing categories, median for numerical ratings) and strategic dropping of incomplete records (e.g., missing review text) to ensure data integrity. Key numerical features like Cost and Rating were converted to appropriate data types. Crucially, we engineered new features by parsing reviewer Metadata into Reviews_Count and Followers_Count, and by applying extensive text preprocessing to the Review text. This included steps like contraction expansion, lowercasing, punctuation and URL removal, stopword removal, lemmatization, and TF-IDF vectorization to transform text into numerical features for machine learning. We also derived a sentiment_score for each review using NLTK's VADER, adding a vital dimension of customer perception. Log transformations were applied to skewed count-based features, and numerical features were Standard Scaled to prepare the data for distance-based clustering algorithms. Finally, Principal Component Analysis (PCA) was used for dimensionality reduction, which was essential given the high number of features generated by one-hot encoding cuisines and collections, mitigating the curse of dimensionality and improving model efficiency.\n",
        "\n",
        "In the ML Model Implementation, we focused on unsupervised clustering to segment restaurants. While Hierarchical Clustering and DBSCAN were explored, K-Means Clustering was chosen as the final model due to its interpretability, scalability, and the clarity provided by the Elbow Method and Silhouette Score for optimal K selection. By analyzing the mean values of original features within each cluster, we can characterize distinct restaurant segments (e.g., \"Budget-Friendly Multi-Cuisine,\" \"Premium Fine-Dining,\" \"Niche Lower-Engagement,\" \"Established Top-Rated Hybrid\"). This segmentation is a core deliverable, providing a data-driven categorization of Zomato's restaurant ecosystem.\n",
        "\n",
        "The insights gained from this project offer significant business impact:\n",
        "\n",
        "Targeted Marketing & Recommendations: Zomato can now craft specific marketing campaigns and personalize restaurant recommendations based on these distinct segments, leading to increased user engagement and satisfaction.\n",
        "\n",
        "Operational Insights for Restaurants: Providing restaurants with feedback relevant to their segment can help them understand their market position, competitive landscape, and areas for improvement.\n",
        "\n",
        "Market Opportunity Identification: Analyzing the characteristics of different clusters can reveal underserved market niches or areas for Zomato's strategic expansion.\n",
        "\n",
        "Understanding Customer Sentiment: The sentiment analysis provides direct insights into customer opinions, allowing Zomato and restaurants to pinpoint strengths and weaknesses directly from feedback.\n",
        "\n",
        "In conclusion, this project provides a robust framework for analyzing complex restaurant data, delivering valuable, actionable insights through a combination of data engineering, natural language processing, and unsupervised machine learning."
      ]
    },
    {
      "cell_type": "markdown",
      "metadata": {
        "id": "gIfDvo9L0UH2"
      },
      "source": [
        "### ***Hurrah! You have successfully completed your Machine Learning Capstone Project !!!***"
      ]
    },
    {
      "cell_type": "code",
      "metadata": {
        "colab": {
          "base_uri": "https://localhost:8080/"
        },
        "id": "b20323e0",
        "outputId": "2b76a23b-ce5b-448f-9d40-3af31e81045e"
      },
      "source": [
        "from google.colab import files\n",
        "uploaded = files.upload()"
      ],
      "execution_count": null,
      "outputs": [
        {
          "data": {
            "text/html": [
              "\n",
              "     <input type=\"file\" id=\"files-3778598a-17c2-4d8e-9874-57faf4bca470\" name=\"files[]\" multiple disabled\n",
              "        style=\"border:none\" />\n",
              "     <output id=\"result-3778598a-17c2-4d8e-9874-57faf4bca470\">\n",
              "      Upload widget is only available when the cell has been executed in the\n",
              "      current browser session. Please rerun this cell to enable.\n",
              "      </output>\n",
              "      <script>// Copyright 2017 Google LLC\n",
              "//\n",
              "// Licensed under the Apache License, Version 2.0 (the \"License\");\n",
              "// you may not use this file except in compliance with the License.\n",
              "// You may obtain a copy of the License at\n",
              "//\n",
              "//      http://www.apache.org/licenses/LICENSE-2.0\n",
              "//\n",
              "// Unless required by applicable law or agreed to in writing, software\n",
              "// distributed under the License is distributed on an \"AS IS\" BASIS,\n",
              "// WITHOUT WARRANTIES OR CONDITIONS OF ANY KIND, either express or implied.\n",
              "// See the License for the specific language governing permissions and\n",
              "// limitations under the License.\n",
              "\n",
              "/**\n",
              " * @fileoverview Helpers for google.colab Python module.\n",
              " */\n",
              "(function(scope) {\n",
              "function span(text, styleAttributes = {}) {\n",
              "  const element = document.createElement('span');\n",
              "  element.textContent = text;\n",
              "  for (const key of Object.keys(styleAttributes)) {\n",
              "    element.style[key] = styleAttributes[key];\n",
              "  }\n",
              "  return element;\n",
              "}\n",
              "\n",
              "// Max number of bytes which will be uploaded at a time.\n",
              "const MAX_PAYLOAD_SIZE = 100 * 1024;\n",
              "\n",
              "function _uploadFiles(inputId, outputId) {\n",
              "  const steps = uploadFilesStep(inputId, outputId);\n",
              "  const outputElement = document.getElementById(outputId);\n",
              "  // Cache steps on the outputElement to make it available for the next call\n",
              "  // to uploadFilesContinue from Python.\n",
              "  outputElement.steps = steps;\n",
              "\n",
              "  return _uploadFilesContinue(outputId);\n",
              "}\n",
              "\n",
              "// This is roughly an async generator (not supported in the browser yet),\n",
              "// where there are multiple asynchronous steps and the Python side is going\n",
              "// to poll for completion of each step.\n",
              "// This uses a Promise to block the python side on completion of each step,\n",
              "// then passes the result of the previous step as the input to the next step.\n",
              "function _uploadFilesContinue(outputId) {\n",
              "  const outputElement = document.getElementById(outputId);\n",
              "  const steps = outputElement.steps;\n",
              "\n",
              "  const next = steps.next(outputElement.lastPromiseValue);\n",
              "  return Promise.resolve(next.value.promise).then((value) => {\n",
              "    // Cache the last promise value to make it available to the next\n",
              "    // step of the generator.\n",
              "    outputElement.lastPromiseValue = value;\n",
              "    return next.value.response;\n",
              "  });\n",
              "}\n",
              "\n",
              "/**\n",
              " * Generator function which is called between each async step of the upload\n",
              " * process.\n",
              " * @param {string} inputId Element ID of the input file picker element.\n",
              " * @param {string} outputId Element ID of the output display.\n",
              " * @return {!Iterable<!Object>} Iterable of next steps.\n",
              " */\n",
              "function* uploadFilesStep(inputId, outputId) {\n",
              "  const inputElement = document.getElementById(inputId);\n",
              "  inputElement.disabled = false;\n",
              "\n",
              "  const outputElement = document.getElementById(outputId);\n",
              "  outputElement.innerHTML = '';\n",
              "\n",
              "  const pickedPromise = new Promise((resolve) => {\n",
              "    inputElement.addEventListener('change', (e) => {\n",
              "      resolve(e.target.files);\n",
              "    });\n",
              "  });\n",
              "\n",
              "  const cancel = document.createElement('button');\n",
              "  inputElement.parentElement.appendChild(cancel);\n",
              "  cancel.textContent = 'Cancel upload';\n",
              "  const cancelPromise = new Promise((resolve) => {\n",
              "    cancel.onclick = () => {\n",
              "      resolve(null);\n",
              "    };\n",
              "  });\n",
              "\n",
              "  // Wait for the user to pick the files.\n",
              "  const files = yield {\n",
              "    promise: Promise.race([pickedPromise, cancelPromise]),\n",
              "    response: {\n",
              "      action: 'starting',\n",
              "    }\n",
              "  };\n",
              "\n",
              "  cancel.remove();\n",
              "\n",
              "  // Disable the input element since further picks are not allowed.\n",
              "  inputElement.disabled = true;\n",
              "\n",
              "  if (!files) {\n",
              "    return {\n",
              "      response: {\n",
              "        action: 'complete',\n",
              "      }\n",
              "    };\n",
              "  }\n",
              "\n",
              "  for (const file of files) {\n",
              "    const li = document.createElement('li');\n",
              "    li.append(span(file.name, {fontWeight: 'bold'}));\n",
              "    li.append(span(\n",
              "        `(${file.type || 'n/a'}) - ${file.size} bytes, ` +\n",
              "        `last modified: ${\n",
              "            file.lastModifiedDate ? file.lastModifiedDate.toLocaleDateString() :\n",
              "                                    'n/a'} - `));\n",
              "    const percent = span('0% done');\n",
              "    li.appendChild(percent);\n",
              "\n",
              "    outputElement.appendChild(li);\n",
              "\n",
              "    const fileDataPromise = new Promise((resolve) => {\n",
              "      const reader = new FileReader();\n",
              "      reader.onload = (e) => {\n",
              "        resolve(e.target.result);\n",
              "      };\n",
              "      reader.readAsArrayBuffer(file);\n",
              "    });\n",
              "    // Wait for the data to be ready.\n",
              "    let fileData = yield {\n",
              "      promise: fileDataPromise,\n",
              "      response: {\n",
              "        action: 'continue',\n",
              "      }\n",
              "    };\n",
              "\n",
              "    // Use a chunked sending to avoid message size limits. See b/62115660.\n",
              "    let position = 0;\n",
              "    do {\n",
              "      const length = Math.min(fileData.byteLength - position, MAX_PAYLOAD_SIZE);\n",
              "      const chunk = new Uint8Array(fileData, position, length);\n",
              "      position += length;\n",
              "\n",
              "      const base64 = btoa(String.fromCharCode.apply(null, chunk));\n",
              "      yield {\n",
              "        response: {\n",
              "          action: 'append',\n",
              "          file: file.name,\n",
              "          data: base64,\n",
              "        },\n",
              "      };\n",
              "\n",
              "      let percentDone = fileData.byteLength === 0 ?\n",
              "          100 :\n",
              "          Math.round((position / fileData.byteLength) * 100);\n",
              "      percent.textContent = `${percentDone}% done`;\n",
              "\n",
              "    } while (position < fileData.byteLength);\n",
              "  }\n",
              "\n",
              "  // All done.\n",
              "  yield {\n",
              "    response: {\n",
              "      action: 'complete',\n",
              "    }\n",
              "  };\n",
              "}\n",
              "\n",
              "scope.google = scope.google || {};\n",
              "scope.google.colab = scope.google.colab || {};\n",
              "scope.google.colab._files = {\n",
              "  _uploadFiles,\n",
              "  _uploadFilesContinue,\n",
              "};\n",
              "})(self);\n",
              "</script> "
            ],
            "text/plain": [
              "<IPython.core.display.HTML object>"
            ]
          },
          "metadata": {},
          "output_type": "display_data"
        },
        {
          "ename": "TypeError",
          "evalue": "'NoneType' object is not subscriptable",
          "output_type": "error",
          "traceback": [
            "\u001b[0;31m---------------------------------------------------------------------------\u001b[0m",
            "\u001b[0;31mTypeError\u001b[0m                                 Traceback (most recent call last)",
            "\u001b[0;32m/tmp/ipython-input-78-2535520808.py\u001b[0m in \u001b[0;36m<cell line: 0>\u001b[0;34m()\u001b[0m\n\u001b[1;32m      1\u001b[0m \u001b[0;32mfrom\u001b[0m \u001b[0mgoogle\u001b[0m\u001b[0;34m.\u001b[0m\u001b[0mcolab\u001b[0m \u001b[0;32mimport\u001b[0m \u001b[0mfiles\u001b[0m\u001b[0;34m\u001b[0m\u001b[0;34m\u001b[0m\u001b[0m\n\u001b[0;32m----> 2\u001b[0;31m \u001b[0muploaded\u001b[0m \u001b[0;34m=\u001b[0m \u001b[0mfiles\u001b[0m\u001b[0;34m.\u001b[0m\u001b[0mupload\u001b[0m\u001b[0;34m(\u001b[0m\u001b[0;34m)\u001b[0m\u001b[0;34m\u001b[0m\u001b[0;34m\u001b[0m\u001b[0m\n\u001b[0m",
            "\u001b[0;32m/usr/local/lib/python3.11/dist-packages/google/colab/files.py\u001b[0m in \u001b[0;36mupload\u001b[0;34m(target_dir)\u001b[0m\n\u001b[1;32m     70\u001b[0m   \"\"\"\n\u001b[1;32m     71\u001b[0m \u001b[0;34m\u001b[0m\u001b[0m\n\u001b[0;32m---> 72\u001b[0;31m   \u001b[0muploaded_files\u001b[0m \u001b[0;34m=\u001b[0m \u001b[0m_upload_files\u001b[0m\u001b[0;34m(\u001b[0m\u001b[0mmultiple\u001b[0m\u001b[0;34m=\u001b[0m\u001b[0;32mTrue\u001b[0m\u001b[0;34m)\u001b[0m\u001b[0;34m\u001b[0m\u001b[0;34m\u001b[0m\u001b[0m\n\u001b[0m\u001b[1;32m     73\u001b[0m   \u001b[0;31m# Mapping from original filename to filename as saved locally.\u001b[0m\u001b[0;34m\u001b[0m\u001b[0;34m\u001b[0m\u001b[0m\n\u001b[1;32m     74\u001b[0m   \u001b[0mlocal_filenames\u001b[0m \u001b[0;34m=\u001b[0m \u001b[0mdict\u001b[0m\u001b[0;34m(\u001b[0m\u001b[0;34m)\u001b[0m\u001b[0;34m\u001b[0m\u001b[0;34m\u001b[0m\u001b[0m\n",
            "\u001b[0;32m/usr/local/lib/python3.11/dist-packages/google/colab/files.py\u001b[0m in \u001b[0;36m_upload_files\u001b[0;34m(multiple)\u001b[0m\n\u001b[1;32m    169\u001b[0m   \u001b[0mfiles\u001b[0m \u001b[0;34m=\u001b[0m \u001b[0m_collections\u001b[0m\u001b[0;34m.\u001b[0m\u001b[0mdefaultdict\u001b[0m\u001b[0;34m(\u001b[0m\u001b[0mbytes\u001b[0m\u001b[0;34m)\u001b[0m\u001b[0;34m\u001b[0m\u001b[0;34m\u001b[0m\u001b[0m\n\u001b[1;32m    170\u001b[0m \u001b[0;34m\u001b[0m\u001b[0m\n\u001b[0;32m--> 171\u001b[0;31m   \u001b[0;32mwhile\u001b[0m \u001b[0mresult\u001b[0m\u001b[0;34m[\u001b[0m\u001b[0;34m'action'\u001b[0m\u001b[0;34m]\u001b[0m \u001b[0;34m!=\u001b[0m \u001b[0;34m'complete'\u001b[0m\u001b[0;34m:\u001b[0m\u001b[0;34m\u001b[0m\u001b[0;34m\u001b[0m\u001b[0m\n\u001b[0m\u001b[1;32m    172\u001b[0m     result = _output.eval_js(\n\u001b[1;32m    173\u001b[0m         'google.colab._files._uploadFilesContinue(\"{output_id}\")'.format(\n",
            "\u001b[0;31mTypeError\u001b[0m: 'NoneType' object is not subscriptable"
          ]
        }
      ]
    }
  ],
  "metadata": {
    "colab": {
      "collapsed_sections": [
        "vncDsAP0Gaoa",
        "10t4WaD_5KFc",
        "yQaldy8SH6Dl",
        "mDgbUHAGgjLW",
        "Yfr_Vlr8HBkt",
        "TIqpNgepFxVj",
        "JWYfwnehpsJ1",
        "zVGeBEFhpsJ2",
        "bmKjuQ-FpsJ3",
        "7AN1z2sKpx6M",
        "9PIHJqyupx6M",
        "_-qAgymDpx6N",
        "Z-hykwinpx6N",
        "h_CCil-SKHpo",
        "cBFFvTBNJzUa",
        "HvGl1hHyA_VK",
        "EyNgTHvd2WFk",
        "KH5McJBi2d8v",
        "iW_Lq9qf2h6X",
        "-Kee-DAl2viO",
        "gIfDvo9L0UH2"
      ],
      "provenance": []
    },
    "kernelspec": {
      "display_name": "Python 3",
      "name": "python3"
    },
    "language_info": {
      "name": "python"
    }
  },
  "nbformat": 4,
  "nbformat_minor": 0
}